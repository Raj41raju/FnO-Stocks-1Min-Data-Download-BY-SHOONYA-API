{
 "cells": [
  {
   "cell_type": "code",
   "execution_count": 3,
   "metadata": {},
   "outputs": [],
   "source": [
    "import pandas as pd\n",
    "from datetime import date\n",
    "import os\n",
    "import requests\n",
    "import zipfile36 as zipfile\n",
    "import warnings\n",
    "warnings.filterwarnings('ignore')"
   ]
  },
  {
   "cell_type": "code",
   "execution_count": 4,
   "metadata": {},
   "outputs": [
    {
     "name": "stdout",
     "output_type": "stream",
     "text": [
      "downloading NFO_symbols.txt.zip\n",
      "Extracted:  NFO_symbols.txt.zip\n",
      "remove: NFO_symbols.txt.zip\n",
      "downloading NSE_symbols.txt.zip\n",
      "Extracted:  NSE_symbols.txt.zip\n",
      "remove: NSE_symbols.txt.zip\n",
      "downloading BFO_symbols.txt.zip\n",
      "Extracted:  BFO_symbols.txt.zip\n",
      "remove: BFO_symbols.txt.zip\n",
      "downloading BSE_symbols.txt.zip\n",
      "Extracted:  BSE_symbols.txt.zip\n",
      "remove: BSE_symbols.txt.zip\n"
     ]
    }
   ],
   "source": [
    "root = 'https://api.shoonya.com/'\n",
    "#root = 'https://shoonya.com/api-documentation#symbolmaster'\n",
    "#For FnO token download\n",
    "masters = ['NFO_symbols.txt.zip', 'NSE_symbols.txt.zip', 'BFO_symbols.txt.zip', 'BSE_symbols.txt.zip'] #'CDS_symbols.txt.zip', 'MCX_symbols.txt.zip', 'BSE_symbols.txt.zip'\n",
    "#For index data\n",
    "#masters = ['NSE_symbols.txt.zip', 'NFO_symbols.txt.zip', 'CDS_symbols.txt.zip', 'MCX_symbols.txt.zip', 'BSE_symbols.txt.zip']\n",
    "\n",
    "\n",
    "for zip_file in masters:    \n",
    "    print(f'downloading {zip_file}')\n",
    "    url = root + zip_file\n",
    "    r = requests.get(url, allow_redirects=True)\n",
    "    open(zip_file, 'wb').write(r.content)\n",
    "    file_to_extract = zip_file.split()\n",
    "   \n",
    "    try:\n",
    "        with zipfile.ZipFile(zip_file) as z:\n",
    "            path = \"E:\\\\FnO_Stocks_Intraday_data_download\\\\token\"\n",
    "            # path = os.getcwd()\n",
    "            #Extacting the file and saving into the path directory\n",
    "            z.extractall(path)\n",
    "            print(\"Extracted: \", zip_file)\n",
    "    except:\n",
    "        print(\"Invalid file\")\n",
    "\n",
    "    os.remove(zip_file)\n",
    "    print(f'remove: {zip_file}')\n",
    "    #break\n",
    "########################################################################################################\n",
    "## FOR Spot Token (NSE)\n"
   ]
  },
  {
   "cell_type": "code",
   "execution_count": 1,
   "metadata": {},
   "outputs": [
    {
     "name": "stderr",
     "output_type": "stream",
     "text": [
      "DEBUG:NorenRestApiPy.NorenApi:https://api.shoonya.com/NorenWClientTP//QuickAuth\n",
      "DEBUG:NorenRestApiPy.NorenApi:Req:jData={\"source\": \"API\", \"apkversion\": \"1.0.0\", \"uid\": \"FA25376\", \"pwd\": \"5127e5c99407fb3246b5a8f577d0f3ddcd91b58d18c57bc364b3fb165ec56ee6\", \"factor2\": \"030957\", \"vc\": \"FA25376_U\", \"appkey\": \"bc069f28741d739992e488e3c24ac5ad462c62bc79de8d1d3e970fd0fe685978\", \"imei\": \"abc1234\"}\n",
      "DEBUG:urllib3.connectionpool:Starting new HTTPS connection (1): api.shoonya.com:443\n",
      "DEBUG:urllib3.connectionpool:https://api.shoonya.com:443 \"POST /NorenWClientTP//QuickAuth HTTP/11\" 200 980\n",
      "DEBUG:NorenRestApiPy.NorenApi:Reply:{\"request_time\":\"06:52:05 29-07-2024\",\"actid\":\"FA25376\",\"access_type\":[\"MOB\",\"TT\",\"WEB\",\"API\"],\"uname\":\"RAJU KUMAR SINGH\",\"prarr\":[{\"prd\":\"C\",\"s_prdt_ali\":\"CNC\",\"exch\":[\"NIPO\",\"BSTAR\"]},{\"prd\":\"M\",\"s_prdt_ali\":\"NRML\",\"exch\":[\"MCX\",\"NCX\"]},{\"prd\":\"I\",\"s_prdt_ali\":\"MIS\",\"exch\":[\"MCX\",\"NCX\"]},{\"prd\":\"H\",\"s_prdt_ali\":\"CO\",\"exch\":[\"MCX\"]},{\"prd\":\"B\",\"s_prdt_ali\":\"BO\",\"exch\":[\"MCX\"]}],\"exch_prd\":[{\"exch\":\"NIPO\",\"prds\":[\"C\"]},{\"exch\":\"BSTAR\",\"prds\":[\"C\"]},{\"exch\":\"MCX\",\"prds\":[\"M\",\"I\",\"H\",\"B\"]},{\"exch\":\"NCX\",\"prds\":[\"M\",\"I\"]}],\"stat\":\"Ok\",\"susertoken\":\"23aee937337d3e0b42280f86c5753e975b99d861772fb79ef60aa1ab1f651693\",\"susertokenspl\":\"55859732fd7a5297625f945d80be7950654cfbb612b706d387e1bb6a348f269d\",\"email\":\"raj41raju@gmail.com\",\"uid\":\"FA25376\",\"brnchid\":\"HO\",\"totp_set\":\"1\",\"m_num\":\"8860013912\",\"orarr\":[\"MKT\",\"LMT\",\"SL-LMT\",\"SL-MKT\"],\"exarr\":[\"NIPO\",\"BSTAR\",\"MCX\",\"NCX\"],\"values\":[],\"mws\":{},\"brkname\":\"FINV\",\"dmsg\":\"\",\"lastaccesstime\":\"1722216125\",\"lastpwdtime\":\"1721576555\"}\n"
     ]
    },
    {
     "name": "stdout",
     "output_type": "stream",
     "text": [
      "{'request_time': '06:52:05 29-07-2024', 'actid': 'FA25376', 'access_type': ['MOB', 'TT', 'WEB', 'API'], 'uname': 'RAJU KUMAR SINGH', 'prarr': [{'prd': 'C', 's_prdt_ali': 'CNC', 'exch': ['NIPO', 'BSTAR']}, {'prd': 'M', 's_prdt_ali': 'NRML', 'exch': ['MCX', 'NCX']}, {'prd': 'I', 's_prdt_ali': 'MIS', 'exch': ['MCX', 'NCX']}, {'prd': 'H', 's_prdt_ali': 'CO', 'exch': ['MCX']}, {'prd': 'B', 's_prdt_ali': 'BO', 'exch': ['MCX']}], 'exch_prd': [{'exch': 'NIPO', 'prds': ['C']}, {'exch': 'BSTAR', 'prds': ['C']}, {'exch': 'MCX', 'prds': ['M', 'I', 'H', 'B']}, {'exch': 'NCX', 'prds': ['M', 'I']}], 'stat': 'Ok', 'susertoken': '23aee937337d3e0b42280f86c5753e975b99d861772fb79ef60aa1ab1f651693', 'susertokenspl': '55859732fd7a5297625f945d80be7950654cfbb612b706d387e1bb6a348f269d', 'email': 'raj41raju@gmail.com', 'uid': 'FA25376', 'brnchid': 'HO', 'totp_set': '1', 'm_num': '8860013912', 'orarr': ['MKT', 'LMT', 'SL-LMT', 'SL-MKT'], 'exarr': ['NIPO', 'BSTAR', 'MCX', 'NCX'], 'values': [], 'mws': {}, 'brkname': 'FINV', 'dmsg': '', 'lastaccesstime': '1722216125', 'lastpwdtime': '1721576555'}\n",
      "Login Successfully\n"
     ]
    }
   ],
   "source": [
    "#################### sonnya login block ###########################################\n",
    "\n",
    "from NorenRestApiPy.NorenApi import  NorenApi\n",
    "#from threading import Timer\n",
    "import time\n",
    "import logging\n",
    "import pyotp\n",
    "\n",
    "\n",
    "api = None\n",
    "\n",
    "def get_time(time_string):\n",
    "    data = time.strptime(time_string,'%d-%m-%Y %H:%M:%S')\n",
    "\n",
    "    return time.mktime(data)\n",
    "\n",
    "\n",
    "class ShoonyaApiPy(NorenApi):\n",
    "    def __init__(self):\n",
    "        NorenApi.__init__(self, host='https://api.shoonya.com/NorenWClientTP/', websocket='wss://api.shoonya.com/NorenWSTP/')        \n",
    "\n",
    "\n",
    "#enable dbug to see request and responses\n",
    "logging.basicConfig(level=logging.DEBUG)\n",
    "\n",
    "#start of our program\n",
    "api = ShoonyaApiPy()\n",
    "\n",
    "#credentials\n",
    "##################### Prism Password = Rajraj@88\n",
    "##################### Shoonya Password = Rajraj@88  ########## both are same\n",
    "\n",
    "token = '57DF444TKFWU347YY55N44IRGMALZXA2'\n",
    "user    = 'FA25376'\n",
    "pwd     = 'RAJU@88raju'\n",
    "factor2 = pyotp.TOTP(token).now()\n",
    "vc      = 'FA25376_U'\n",
    "app_key = '7f0dca9da87909a1bc35373f68162d42'\n",
    "imei    = 'abc1234'\n",
    "\n",
    "#make the api call\n",
    "ret = api.login(userid=user, password=pwd, twoFA=factor2, vendor_code=vc, api_secret=app_key, imei=imei)\n",
    "\n",
    "print(ret)\n",
    "\n",
    "# Check the response status and print appropriate message\n",
    "if ret and ret.get('stat') == 'Ok':\n",
    "    print(\"Login Successfully\")\n",
    "elif ret:\n",
    "    error_message = ret.get('emsg', 'Login failed with unknown error')\n",
    "    print(f\"Login failed: {error_message}\")\n",
    "else:\n",
    "    print(\"Login failed: No response from server\")\n"
   ]
  },
  {
   "cell_type": "code",
   "execution_count": 7,
   "metadata": {},
   "outputs": [],
   "source": [
    "\n",
    "#reading spot token file\n",
    "all_token_spot = pd.read_csv('E:\\\\FnO_Stocks_Intraday_data_download\\\\token\\\\NSE_symbols.txt')\n",
    "\n",
    "all_token_NFO = pd.read_csv('E:\\\\FnO_Stocks_Intraday_data_download\\\\token\\\\NFO_symbols.txt')\n",
    "\n",
    "#Future and Options Stocks list\n",
    "fno_stocks_list = list(all_token_NFO[all_token_NFO['Instrument']=='OPTSTK'].Symbol.unique())\n",
    "\n",
    "\n"
   ]
  },
  {
   "cell_type": "code",
   "execution_count": 8,
   "metadata": {},
   "outputs": [],
   "source": [
    "spot_token = all_token_spot[all_token_spot['Instrument']==\"EQ\"]\n",
    "spot_token = spot_token[spot_token['Symbol'].isin(fno_stocks_list)]\n",
    "\n",
    "#Adding empty column to match the all columns name in future and option dataframe\n",
    "#so that we can concat all the dataframe\n",
    "spot_token['Expiry'] = 'NaN'\n",
    "spot_token['OptionType'] = 'NaN'\n",
    "spot_token['StrikePrice'] = 'NaN'\n",
    "\n",
    "spot_token.rename(columns = {'Unnamed: 7':'Unnamed: 10'},inplace = True) # for matching column name in future and option \n",
    "\n",
    "#Re-arranging the columns name for matching in future and option dataframe\n",
    "spot_token = spot_token[['Exchange', 'Token', 'LotSize', 'Symbol', 'TradingSymbol', 'Expiry',\n",
    "       'Instrument', 'OptionType', 'StrikePrice', 'TickSize', 'Unnamed: 10']]\n",
    "\n",
    "spot_token.reset_index(drop=True, inplace=True)\n",
    "\n"
   ]
  },
  {
   "cell_type": "code",
   "execution_count": 9,
   "metadata": {},
   "outputs": [
    {
     "name": "stdout",
     "output_type": "stream",
     "text": [
      "61996\n",
      "61978\n"
     ]
    }
   ],
   "source": [
    "#Future and Option token\n",
    "stock_fno_token = all_token_NFO[all_token_NFO['Instrument'].isin(['FUTSTK', 'OPTSTK'])]\n",
    "print(len(stock_fno_token))\n",
    "stock_fno_token = stock_fno_token[stock_fno_token['Symbol'].isin(fno_stocks_list)]\n",
    "print(len(stock_fno_token))\n",
    "\n",
    "# print(stock_fno_token['Symbol'].nunique())\n",
    "stock_fno_token.reset_index(drop=True, inplace=True)\n",
    "\n",
    "all_stk_token = pd.concat([spot_token, stock_fno_token], ignore_index=True)\n",
    "all_stk_token.reset_index(drop=True, inplace=True)"
   ]
  },
  {
   "cell_type": "code",
   "execution_count": 10,
   "metadata": {},
   "outputs": [],
   "source": [
    "all_stk_token = pd.concat([spot_token, stock_fno_token], ignore_index=True)\n",
    "all_stk_token.reset_index(drop=True, inplace=True)"
   ]
  },
  {
   "cell_type": "code",
   "execution_count": 11,
   "metadata": {},
   "outputs": [
    {
     "data": {
      "text/html": [
       "<div>\n",
       "<style scoped>\n",
       "    .dataframe tbody tr th:only-of-type {\n",
       "        vertical-align: middle;\n",
       "    }\n",
       "\n",
       "    .dataframe tbody tr th {\n",
       "        vertical-align: top;\n",
       "    }\n",
       "\n",
       "    .dataframe thead th {\n",
       "        text-align: right;\n",
       "    }\n",
       "</style>\n",
       "<table border=\"1\" class=\"dataframe\">\n",
       "  <thead>\n",
       "    <tr style=\"text-align: right;\">\n",
       "      <th></th>\n",
       "      <th>Exchange</th>\n",
       "      <th>Token</th>\n",
       "      <th>LotSize</th>\n",
       "      <th>Symbol</th>\n",
       "      <th>TradingSymbol</th>\n",
       "      <th>Expiry</th>\n",
       "      <th>Instrument</th>\n",
       "      <th>OptionType</th>\n",
       "      <th>StrikePrice</th>\n",
       "      <th>TickSize</th>\n",
       "      <th>Unnamed: 10</th>\n",
       "    </tr>\n",
       "  </thead>\n",
       "  <tbody>\n",
       "    <tr>\n",
       "      <th>0</th>\n",
       "      <td>NSE</td>\n",
       "      <td>7929</td>\n",
       "      <td>1</td>\n",
       "      <td>ZYDUSLIFE</td>\n",
       "      <td>ZYDUSLIFE-EQ</td>\n",
       "      <td>NaN</td>\n",
       "      <td>EQ</td>\n",
       "      <td>NaN</td>\n",
       "      <td>NaN</td>\n",
       "      <td>0.05</td>\n",
       "      <td>NaN</td>\n",
       "    </tr>\n",
       "    <tr>\n",
       "      <th>1</th>\n",
       "      <td>NSE</td>\n",
       "      <td>3787</td>\n",
       "      <td>1</td>\n",
       "      <td>WIPRO</td>\n",
       "      <td>WIPRO-EQ</td>\n",
       "      <td>NaN</td>\n",
       "      <td>EQ</td>\n",
       "      <td>NaN</td>\n",
       "      <td>NaN</td>\n",
       "      <td>0.05</td>\n",
       "      <td>NaN</td>\n",
       "    </tr>\n",
       "    <tr>\n",
       "      <th>2</th>\n",
       "      <td>NSE</td>\n",
       "      <td>3718</td>\n",
       "      <td>1</td>\n",
       "      <td>VOLTAS</td>\n",
       "      <td>VOLTAS-EQ</td>\n",
       "      <td>NaN</td>\n",
       "      <td>EQ</td>\n",
       "      <td>NaN</td>\n",
       "      <td>NaN</td>\n",
       "      <td>0.05</td>\n",
       "      <td>NaN</td>\n",
       "    </tr>\n",
       "    <tr>\n",
       "      <th>3</th>\n",
       "      <td>NSE</td>\n",
       "      <td>3063</td>\n",
       "      <td>1</td>\n",
       "      <td>VEDL</td>\n",
       "      <td>VEDL-EQ</td>\n",
       "      <td>NaN</td>\n",
       "      <td>EQ</td>\n",
       "      <td>NaN</td>\n",
       "      <td>NaN</td>\n",
       "      <td>0.05</td>\n",
       "      <td>NaN</td>\n",
       "    </tr>\n",
       "    <tr>\n",
       "      <th>4</th>\n",
       "      <td>NSE</td>\n",
       "      <td>11287</td>\n",
       "      <td>1</td>\n",
       "      <td>UPL</td>\n",
       "      <td>UPL-EQ</td>\n",
       "      <td>NaN</td>\n",
       "      <td>EQ</td>\n",
       "      <td>NaN</td>\n",
       "      <td>NaN</td>\n",
       "      <td>0.05</td>\n",
       "      <td>NaN</td>\n",
       "    </tr>\n",
       "    <tr>\n",
       "      <th>...</th>\n",
       "      <td>...</td>\n",
       "      <td>...</td>\n",
       "      <td>...</td>\n",
       "      <td>...</td>\n",
       "      <td>...</td>\n",
       "      <td>...</td>\n",
       "      <td>...</td>\n",
       "      <td>...</td>\n",
       "      <td>...</td>\n",
       "      <td>...</td>\n",
       "      <td>...</td>\n",
       "    </tr>\n",
       "    <tr>\n",
       "      <th>62154</th>\n",
       "      <td>NFO</td>\n",
       "      <td>35009</td>\n",
       "      <td>2600</td>\n",
       "      <td>ABFRL</td>\n",
       "      <td>ABFRL26SEP24F</td>\n",
       "      <td>26-SEP-2024</td>\n",
       "      <td>FUTSTK</td>\n",
       "      <td>XX</td>\n",
       "      <td>-0.01</td>\n",
       "      <td>0.05</td>\n",
       "      <td>NaN</td>\n",
       "    </tr>\n",
       "    <tr>\n",
       "      <th>62155</th>\n",
       "      <td>NFO</td>\n",
       "      <td>35008</td>\n",
       "      <td>5400</td>\n",
       "      <td>ABCAPITAL</td>\n",
       "      <td>ABCAPITAL26SEP24F</td>\n",
       "      <td>26-SEP-2024</td>\n",
       "      <td>FUTSTK</td>\n",
       "      <td>XX</td>\n",
       "      <td>-0.01</td>\n",
       "      <td>0.01</td>\n",
       "      <td>NaN</td>\n",
       "    </tr>\n",
       "    <tr>\n",
       "      <th>62156</th>\n",
       "      <td>NFO</td>\n",
       "      <td>35003</td>\n",
       "      <td>20</td>\n",
       "      <td>ABBOTINDIA</td>\n",
       "      <td>ABBOTINDIA26SEP24F</td>\n",
       "      <td>26-SEP-2024</td>\n",
       "      <td>FUTSTK</td>\n",
       "      <td>XX</td>\n",
       "      <td>-0.01</td>\n",
       "      <td>0.05</td>\n",
       "      <td>NaN</td>\n",
       "    </tr>\n",
       "    <tr>\n",
       "      <th>62157</th>\n",
       "      <td>NFO</td>\n",
       "      <td>35002</td>\n",
       "      <td>125</td>\n",
       "      <td>ABB</td>\n",
       "      <td>ABB26SEP24F</td>\n",
       "      <td>26-SEP-2024</td>\n",
       "      <td>FUTSTK</td>\n",
       "      <td>XX</td>\n",
       "      <td>-0.01</td>\n",
       "      <td>0.05</td>\n",
       "      <td>NaN</td>\n",
       "    </tr>\n",
       "    <tr>\n",
       "      <th>62158</th>\n",
       "      <td>NFO</td>\n",
       "      <td>35001</td>\n",
       "      <td>1000</td>\n",
       "      <td>AARTIIND</td>\n",
       "      <td>AARTIIND26SEP24F</td>\n",
       "      <td>26-SEP-2024</td>\n",
       "      <td>FUTSTK</td>\n",
       "      <td>XX</td>\n",
       "      <td>-0.01</td>\n",
       "      <td>0.05</td>\n",
       "      <td>NaN</td>\n",
       "    </tr>\n",
       "  </tbody>\n",
       "</table>\n",
       "<p>62159 rows × 11 columns</p>\n",
       "</div>"
      ],
      "text/plain": [
       "      Exchange  Token  LotSize      Symbol       TradingSymbol       Expiry  \\\n",
       "0          NSE   7929        1   ZYDUSLIFE        ZYDUSLIFE-EQ          NaN   \n",
       "1          NSE   3787        1       WIPRO            WIPRO-EQ          NaN   \n",
       "2          NSE   3718        1      VOLTAS           VOLTAS-EQ          NaN   \n",
       "3          NSE   3063        1        VEDL             VEDL-EQ          NaN   \n",
       "4          NSE  11287        1         UPL              UPL-EQ          NaN   \n",
       "...        ...    ...      ...         ...                 ...          ...   \n",
       "62154      NFO  35009     2600       ABFRL       ABFRL26SEP24F  26-SEP-2024   \n",
       "62155      NFO  35008     5400   ABCAPITAL   ABCAPITAL26SEP24F  26-SEP-2024   \n",
       "62156      NFO  35003       20  ABBOTINDIA  ABBOTINDIA26SEP24F  26-SEP-2024   \n",
       "62157      NFO  35002      125         ABB         ABB26SEP24F  26-SEP-2024   \n",
       "62158      NFO  35001     1000    AARTIIND    AARTIIND26SEP24F  26-SEP-2024   \n",
       "\n",
       "      Instrument OptionType StrikePrice  TickSize  Unnamed: 10  \n",
       "0             EQ        NaN         NaN      0.05          NaN  \n",
       "1             EQ        NaN         NaN      0.05          NaN  \n",
       "2             EQ        NaN         NaN      0.05          NaN  \n",
       "3             EQ        NaN         NaN      0.05          NaN  \n",
       "4             EQ        NaN         NaN      0.05          NaN  \n",
       "...          ...        ...         ...       ...          ...  \n",
       "62154     FUTSTK         XX       -0.01      0.05          NaN  \n",
       "62155     FUTSTK         XX       -0.01      0.01          NaN  \n",
       "62156     FUTSTK         XX       -0.01      0.05          NaN  \n",
       "62157     FUTSTK         XX       -0.01      0.05          NaN  \n",
       "62158     FUTSTK         XX       -0.01      0.05          NaN  \n",
       "\n",
       "[62159 rows x 11 columns]"
      ]
     },
     "execution_count": 11,
     "metadata": {},
     "output_type": "execute_result"
    }
   ],
   "source": [
    "all_stk_token"
   ]
  },
  {
   "cell_type": "code",
   "execution_count": 25,
   "metadata": {},
   "outputs": [
    {
     "data": {
      "text/html": [
       "<div>\n",
       "<style scoped>\n",
       "    .dataframe tbody tr th:only-of-type {\n",
       "        vertical-align: middle;\n",
       "    }\n",
       "\n",
       "    .dataframe tbody tr th {\n",
       "        vertical-align: top;\n",
       "    }\n",
       "\n",
       "    .dataframe thead th {\n",
       "        text-align: right;\n",
       "    }\n",
       "</style>\n",
       "<table border=\"1\" class=\"dataframe\">\n",
       "  <thead>\n",
       "    <tr style=\"text-align: right;\">\n",
       "      <th></th>\n",
       "      <th>Exchange</th>\n",
       "      <th>Token</th>\n",
       "      <th>LotSize</th>\n",
       "      <th>Symbol</th>\n",
       "      <th>TradingSymbol</th>\n",
       "      <th>Expiry</th>\n",
       "      <th>Instrument</th>\n",
       "      <th>OptionType</th>\n",
       "      <th>StrikePrice</th>\n",
       "      <th>TickSize</th>\n",
       "      <th>Unnamed: 10</th>\n",
       "    </tr>\n",
       "  </thead>\n",
       "  <tbody>\n",
       "  </tbody>\n",
       "</table>\n",
       "</div>"
      ],
      "text/plain": [
       "Empty DataFrame\n",
       "Columns: [Exchange, Token, LotSize, Symbol, TradingSymbol, Expiry, Instrument, OptionType, StrikePrice, TickSize, Unnamed: 10]\n",
       "Index: []"
      ]
     },
     "execution_count": 25,
     "metadata": {},
     "output_type": "execute_result"
    }
   ],
   "source": [
    "temp_stock_df[temp_stock_df['Token']==token]"
   ]
  },
  {
   "cell_type": "code",
   "execution_count": 2,
   "metadata": {},
   "outputs": [
    {
     "data": {
      "text/plain": [
       "1721988000.0"
      ]
     },
     "execution_count": 2,
     "metadata": {},
     "output_type": "execute_result"
    }
   ],
   "source": [
    "final_columns_list = ['symbol','date','time','trading_symbol', 'instrument', 'exp_date',\\\n",
    "                       'option_type','strike_price','open','high','low','close','intvwap',\\\n",
    "                        'intv','intoi','v','oi','ssboe','stat']\n",
    "\n",
    "\n",
    "start_time = get_time(\"15-07-2024 09:15:00\")\n",
    "end_time = get_time(\"26-07-2024 15:30:00\")\n",
    "\n",
    "for stock in fno_stocks_list[:5]:\n",
    "    # print(stock)\n",
    "    temp_stock_df = all_stk_token[all_stk_token['Symbol']==stock]\n",
    "    # print(temp_df['Instrument'].unique(), len(temp_df)) \n",
    "\n",
    "    #Creating an empty Dataframe\n",
    "    final_data_df = pd.DataFrame(columns=final_columns_list)\n",
    "\n",
    "    for token in temp_stock_df['Token'].unique()[:]:\n",
    "      temp_token_df = temp_stock_df[temp_stock_df['Token']==token]\n",
    "      # print(temp_token_df)\n",
    "      token = temp_token_df['Token'].iloc[0]\n",
    "      exch = temp_token_df['Exchange'].iloc[0]\n",
    "      print(stock, token, exch)\n",
    "\n",
    "      ret = api.get_time_price_series(exchange=exch, token=str(token), starttime=start_time, endtime=end_time, interval=1)\n",
    "\n",
    "      data_temp_df = pd.DataFrame.from_dict(ret)\n",
    "      data_df = add_token_info(data_temp_df, temp_token_df)\n",
    "      final_data_df = pd.concat([final_data_df, data_df])\n",
    "      # break\n",
    "    filename = stock + '_' + final_data_df['date'].iloc[0] + '.csv'\n",
    "    final_data_df.to_csv('E:\\\\FnO_Stocks_Intraday_data\\\\' + filename, header=True,index = False )\n",
    "    # break"
   ]
  },
  {
   "cell_type": "code",
   "execution_count": null,
   "metadata": {},
   "outputs": [],
   "source": []
  },
  {
   "cell_type": "markdown",
   "metadata": {},
   "source": [
    "##### Add Token info to the downloaded data"
   ]
  },
  {
   "cell_type": "code",
   "execution_count": 1,
   "metadata": {},
   "outputs": [],
   "source": [
    "def add_token_info(df, stock_df):\n",
    "\n",
    "    #Spliting date and time into saperate columns\n",
    "    df.rename(columns = {'time':'datetime','into':'open','inth':'high','intl':'low','intc':'close'},inplace=True)\n",
    "    df['date'] = df['datetime'].apply(lambda x:x.split(\" \")[0])\n",
    "    df['time'] = df['datetime'].apply(lambda x:x.split(\" \")[1])\n",
    "\n",
    "    df['symbol']         = stock_df[stock_df['Token']==token]['Symbol'].iloc[0]\n",
    "    df['trading_symbol'] = stock_df[stock_df['Token']==token]['TradingSymbol'].iloc[0]\n",
    "    df['exp_date']       = stock_df[stock_df['Token']==token]['Expiry'].iloc[0]\n",
    "    df['option_type']    = stock_df[stock_df['Token']==token]['OptionType'].iloc[0]\n",
    "    df['strike_price']   = stock_df[stock_df['Token']==token]['StrikePrice'].iloc[0]\n",
    "    df['instrument']     = stock_df[stock_df['Token']==token]['Instrument'].iloc[0]\n",
    "\n",
    "    df = df[['symbol','date','time','trading_symbol', 'instrument', 'exp_date','option_type','strike_price','open','high','low','close','intvwap','intv','intoi','v','oi','ssboe','stat']]\n",
    "    return df"
   ]
  },
  {
   "cell_type": "markdown",
   "metadata": {},
   "source": [
    "#### Shoonya Login with log HAndling"
   ]
  },
  {
   "cell_type": "code",
   "execution_count": 18,
   "metadata": {},
   "outputs": [
    {
     "name": "stderr",
     "output_type": "stream",
     "text": [
      "DEBUG:NorenRestApiPy.NorenApi:https://api.shoonya.com/NorenWClientTP//QuickAuth\n",
      "DEBUG:NorenRestApiPy.NorenApi:Req:jData={\"source\": \"API\", \"apkversion\": \"1.0.0\", \"uid\": \"FA25376\", \"pwd\": \"632e8a7b25860e7a76776b903eca6637ba31c58d5bc4bfc896fd945656d8b60e\", \"factor2\": \"713008\", \"vc\": \"FA25376_U\", \"appkey\": \"bc069f28741d739992e488e3c24ac5ad462c62bc79de8d1d3e970fd0fe685978\", \"imei\": \"abc1234\"}\n",
      "DEBUG:urllib3.connectionpool:Starting new HTTPS connection (1): api.shoonya.com:443\n",
      "DEBUG:urllib3.connectionpool:https://api.shoonya.com:443 \"POST /NorenWClientTP//QuickAuth HTTP/11\" 200 110\n",
      "DEBUG:NorenRestApiPy.NorenApi:Reply:{\"request_time\":\"09:43:07 28-07-2024\",\"stat\":\"Not_Ok\",\"emsg\":\"Invalid Input : Wrong Password\",\"uid\":\"FA25376\"}\n"
     ]
    },
    {
     "name": "stdout",
     "output_type": "stream",
     "text": [
      "Login failed: No response from server\n",
      "Captured log messages:\n",
      "DEBUG:https://api.shoonya.com/NorenWClientTP//QuickAuth\n",
      "DEBUG:Req:jData={\"source\": \"API\", \"apkversion\": \"1.0.0\", \"uid\": \"FA25376\", \"pwd\": \"632e8a7b25860e7a76776b903eca6637ba31c58d5bc4bfc896fd945656d8b60e\", \"factor2\": \"713008\", \"vc\": \"FA25376_U\", \"appkey\": \"bc069f28741d739992e488e3c24ac5ad462c62bc79de8d1d3e970fd0fe685978\", \"imei\": \"abc1234\"}\n",
      "DEBUG:Starting new HTTPS connection (1): api.shoonya.com:443\n",
      "DEBUG:https://api.shoonya.com:443 \"POST /NorenWClientTP//QuickAuth HTTP/11\" 200 110\n",
      "DEBUG:Reply:{\"request_time\":\"09:43:07 28-07-2024\",\"stat\":\"Not_Ok\",\"emsg\":\"Invalid Input : Wrong Password\",\"uid\":\"FA25376\"}\n",
      "\n"
     ]
    }
   ],
   "source": [
    "from NorenRestApiPy.NorenApi import NorenApi\n",
    "import logging\n",
    "import pyotp\n",
    "import io\n",
    "\n",
    "class ShoonyaApiPy(NorenApi):\n",
    "    def __init__(self):\n",
    "        NorenApi.__init__(self, host='https://api.shoonya.com/NorenWClientTP/', websocket='wss://api.shoonya.com/NorenWSTP/')\n",
    "\n",
    "# Custom log handler to capture log messages\n",
    "class LogCaptureHandler(logging.Handler):\n",
    "    def __init__(self):\n",
    "        super().__init__()\n",
    "        self.log_capture_string = io.StringIO()\n",
    "\n",
    "    def emit(self, record):\n",
    "        log_entry = self.format(record)\n",
    "        self.log_capture_string.write(log_entry + \"\\n\")\n",
    "\n",
    "    def get_log_contents(self):\n",
    "        return self.log_capture_string.getvalue()\n",
    "\n",
    "# Create and configure logger\n",
    "logger = logging.getLogger()\n",
    "logger.setLevel(logging.DEBUG)\n",
    "\n",
    "# Add custom log handler\n",
    "log_capture_handler = LogCaptureHandler()\n",
    "log_capture_handler.setFormatter(logging.Formatter('%(levelname)s:%(message)s'))\n",
    "logger.addHandler(log_capture_handler)\n",
    "\n",
    "# Start of our program\n",
    "api = ShoonyaApiPy()\n",
    "\n",
    "# Credentials\n",
    "token = '57DF444TKFWU347YY55N44IRGMALZXA2'\n",
    "user = 'FA25376'\n",
    "pwd = 'RAJU@88raju1'\n",
    "factor2 = pyotp.TOTP(token).now()\n",
    "vc = 'FA25376_U'\n",
    "app_key = '7f0dca9da87909a1bc35373f68162d42'\n",
    "imei = 'abc1234'\n",
    "\n",
    "# Make the API call\n",
    "ret = api.login(userid=user, password=pwd, twoFA=factor2, vendor_code=vc, api_secret=app_key, imei=imei)\n",
    "\n",
    "# Check the response status and print appropriate message\n",
    "if ret:\n",
    "    if ret.get('stat') == 'Ok':\n",
    "        print(\"Login Successfully\")\n",
    "    else:\n",
    "        error_message = ret.get('emsg', 'Login failed with unknown error')\n",
    "        print(f\"Login failed: {error_message}\")\n",
    "else:\n",
    "    print(\"Login failed: No response from server\")\n",
    "\n",
    "# Print captured log messages\n",
    "log_contents = log_capture_handler.get_log_contents()\n",
    "print(\"Captured log messages:\")\n",
    "print(log_contents)\n"
   ]
  },
  {
   "cell_type": "code",
   "execution_count": null,
   "metadata": {},
   "outputs": [],
   "source": []
  },
  {
   "cell_type": "code",
   "execution_count": null,
   "metadata": {},
   "outputs": [],
   "source": [
    "\n",
    "#reading spot token file\n",
    "all_token_spot = pd.read_csv('E:\\\\FnO_Stocks_Intraday_data_download\\\\token\\\\NSE_symbols.txt')\n",
    "\n",
    "all_token_NFO = pd.read_csv('E:\\\\FnO_Stocks_Intraday_data_download\\\\token\\\\NFO_symbols.txt')\n",
    "\n",
    "#Future and Options Stocks list\n",
    "fno_stocks_list = list(all_token_NFO[all_token_NFO['Instrument']=='OPTSTK'].Symbol.unique())\n",
    "\n",
    "\n"
   ]
  },
  {
   "cell_type": "code",
   "execution_count": 14,
   "metadata": {},
   "outputs": [
    {
     "data": {
      "text/plain": [
       "1481"
      ]
     },
     "execution_count": 14,
     "metadata": {},
     "output_type": "execute_result"
    }
   ],
   "source": [
    "len(log_contents)"
   ]
  },
  {
   "cell_type": "code",
   "execution_count": 24,
   "metadata": {},
   "outputs": [
    {
     "ename": "ValueError",
     "evalue": "dictionary update sequence element #0 has length 1; 2 is required",
     "output_type": "error",
     "traceback": [
      "\u001b[1;31m---------------------------------------------------------------------------\u001b[0m",
      "\u001b[1;31mValueError\u001b[0m                                Traceback (most recent call last)",
      "Cell \u001b[1;32mIn[24], line 1\u001b[0m\n\u001b[1;32m----> 1\u001b[0m \u001b[38;5;28;43mdict\u001b[39;49m\u001b[43m(\u001b[49m\u001b[43mlog_contents\u001b[49m\u001b[38;5;241;43m.\u001b[39;49m\u001b[43msplit\u001b[49m\u001b[43m(\u001b[49m\u001b[38;5;124;43m\"\u001b[39;49m\u001b[38;5;124;43mDEBUG\u001b[39;49m\u001b[38;5;124;43m\"\u001b[39;49m\u001b[43m)\u001b[49m\u001b[43m[\u001b[49m\u001b[38;5;241;43m-\u001b[39;49m\u001b[38;5;241;43m1\u001b[39;49m\u001b[43m]\u001b[49m\u001b[38;5;241;43m.\u001b[39;49m\u001b[43msplit\u001b[49m\u001b[43m(\u001b[49m\u001b[38;5;124;43m\"\u001b[39;49m\u001b[38;5;124;43m{\u001b[39;49m\u001b[38;5;124;43m\"\u001b[39;49m\u001b[43m)\u001b[49m\u001b[43m[\u001b[49m\u001b[38;5;241;43m-\u001b[39;49m\u001b[38;5;241;43m1\u001b[39;49m\u001b[43m]\u001b[49m\u001b[38;5;241;43m.\u001b[39;49m\u001b[43msplit\u001b[49m\u001b[43m(\u001b[49m\u001b[38;5;124;43m\"\u001b[39;49m\u001b[38;5;124;43m}\u001b[39;49m\u001b[38;5;124;43m\"\u001b[39;49m\u001b[43m)\u001b[49m\u001b[43m[\u001b[49m\u001b[38;5;241;43m0\u001b[39;49m\u001b[43m]\u001b[49m\u001b[43m)\u001b[49m\n",
      "\u001b[1;31mValueError\u001b[0m: dictionary update sequence element #0 has length 1; 2 is required"
     ]
    }
   ],
   "source": [
    "dict(log_contents.split(\"DEBUG\")[-1].split(\"{\")[-1].split(\"}\")[0])"
   ]
  },
  {
   "cell_type": "code",
   "execution_count": 30,
   "metadata": {},
   "outputs": [
    {
     "data": {
      "text/plain": [
       "':Reply:{\"request_time\":\"09:43:07 28-07-2024\",\"stat\":\"Not_Ok\",\"emsg\":\"Invalid Input : Wrong Password\",\"uid\":\"FA25376\"}\\n'"
      ]
     },
     "execution_count": 30,
     "metadata": {},
     "output_type": "execute_result"
    }
   ],
   "source": [
    "log_contents.split(\"DEBUG\")[-1]"
   ]
  },
  {
   "cell_type": "code",
   "execution_count": null,
   "metadata": {},
   "outputs": [],
   "source": []
  },
  {
   "cell_type": "markdown",
   "metadata": {},
   "source": [
    "##### Extract usefull info from loh handler output"
   ]
  },
  {
   "cell_type": "code",
   "execution_count": 34,
   "metadata": {},
   "outputs": [
    {
     "name": "stdout",
     "output_type": "stream",
     "text": [
      "Invalid Input : Wrong Password\n"
     ]
    }
   ],
   "source": [
    "import json\n",
    "import re\n",
    "\n",
    "# The input text\n",
    "log_message = log_contents.split(\"DEBUG\")[-1]\n",
    "# Use regular expression to find the JSON part\n",
    "json_part = re.search(r'\\{.*\\}', log_message).group()\n",
    "'''\n",
    "this will extract dictionry from \n",
    "':Reply:{\"request_time\":\"09:43:07 28-07-2024\",\"stat\":\"Not_Ok\",\"emsg\":\"Invalid Input : Wrong Password\",\"uid\":\"FA25376\"}\\n'\n",
    "'''\n",
    "\n",
    "# Convert the JSON part to a dictionary\n",
    "log_dict = json.loads(json_part)\n",
    "\n",
    "# Print the dictionary\n",
    "print(log_dict['emsg'])\n"
   ]
  },
  {
   "cell_type": "code",
   "execution_count": 27,
   "metadata": {},
   "outputs": [
    {
     "ename": "JSONDecodeError",
     "evalue": "Extra data: line 1 column 15 (char 14)",
     "output_type": "error",
     "traceback": [
      "\u001b[1;31m---------------------------------------------------------------------------\u001b[0m",
      "\u001b[1;31mJSONDecodeError\u001b[0m                           Traceback (most recent call last)",
      "Cell \u001b[1;32mIn[27], line 9\u001b[0m\n\u001b[0;32m      6\u001b[0m log_message \u001b[38;5;241m=\u001b[39m \u001b[38;5;124m'\u001b[39m\u001b[38;5;124m\"\u001b[39m\u001b[38;5;124mrequest_time\u001b[39m\u001b[38;5;124m\"\u001b[39m\u001b[38;5;124m:\u001b[39m\u001b[38;5;124m\"\u001b[39m\u001b[38;5;124m09:43:07 28-07-2024\u001b[39m\u001b[38;5;124m\"\u001b[39m\u001b[38;5;124m,\u001b[39m\u001b[38;5;124m\"\u001b[39m\u001b[38;5;124mstat\u001b[39m\u001b[38;5;124m\"\u001b[39m\u001b[38;5;124m:\u001b[39m\u001b[38;5;124m\"\u001b[39m\u001b[38;5;124mNot_Ok\u001b[39m\u001b[38;5;124m\"\u001b[39m\u001b[38;5;124m,\u001b[39m\u001b[38;5;124m\"\u001b[39m\u001b[38;5;124memsg\u001b[39m\u001b[38;5;124m\"\u001b[39m\u001b[38;5;124m:\u001b[39m\u001b[38;5;124m\"\u001b[39m\u001b[38;5;124mInvalid Input : Wrong Password\u001b[39m\u001b[38;5;124m\"\u001b[39m\u001b[38;5;124m,\u001b[39m\u001b[38;5;124m\"\u001b[39m\u001b[38;5;124muid\u001b[39m\u001b[38;5;124m\"\u001b[39m\u001b[38;5;124m:\u001b[39m\u001b[38;5;124m\"\u001b[39m\u001b[38;5;124mFA25376\u001b[39m\u001b[38;5;124m\"\u001b[39m\u001b[38;5;124m'\u001b[39m\n\u001b[0;32m      8\u001b[0m \u001b[38;5;66;03m# Convert the string to a dictionary\u001b[39;00m\n\u001b[1;32m----> 9\u001b[0m log_dict \u001b[38;5;241m=\u001b[39m \u001b[43mjson\u001b[49m\u001b[38;5;241;43m.\u001b[39;49m\u001b[43mloads\u001b[49m\u001b[43m(\u001b[49m\u001b[43mlog_message\u001b[49m\u001b[43m)\u001b[49m\n\u001b[0;32m     11\u001b[0m \u001b[38;5;66;03m# Print the dictionary\u001b[39;00m\n\u001b[0;32m     12\u001b[0m \u001b[38;5;28mprint\u001b[39m(log_dict)\n",
      "File \u001b[1;32m~\\AppData\\Local\\Programs\\Python\\Python312\\Lib\\json\\__init__.py:346\u001b[0m, in \u001b[0;36mloads\u001b[1;34m(s, cls, object_hook, parse_float, parse_int, parse_constant, object_pairs_hook, **kw)\u001b[0m\n\u001b[0;32m    341\u001b[0m     s \u001b[38;5;241m=\u001b[39m s\u001b[38;5;241m.\u001b[39mdecode(detect_encoding(s), \u001b[38;5;124m'\u001b[39m\u001b[38;5;124msurrogatepass\u001b[39m\u001b[38;5;124m'\u001b[39m)\n\u001b[0;32m    343\u001b[0m \u001b[38;5;28;01mif\u001b[39;00m (\u001b[38;5;28mcls\u001b[39m \u001b[38;5;129;01mis\u001b[39;00m \u001b[38;5;28;01mNone\u001b[39;00m \u001b[38;5;129;01mand\u001b[39;00m object_hook \u001b[38;5;129;01mis\u001b[39;00m \u001b[38;5;28;01mNone\u001b[39;00m \u001b[38;5;129;01mand\u001b[39;00m\n\u001b[0;32m    344\u001b[0m         parse_int \u001b[38;5;129;01mis\u001b[39;00m \u001b[38;5;28;01mNone\u001b[39;00m \u001b[38;5;129;01mand\u001b[39;00m parse_float \u001b[38;5;129;01mis\u001b[39;00m \u001b[38;5;28;01mNone\u001b[39;00m \u001b[38;5;129;01mand\u001b[39;00m\n\u001b[0;32m    345\u001b[0m         parse_constant \u001b[38;5;129;01mis\u001b[39;00m \u001b[38;5;28;01mNone\u001b[39;00m \u001b[38;5;129;01mand\u001b[39;00m object_pairs_hook \u001b[38;5;129;01mis\u001b[39;00m \u001b[38;5;28;01mNone\u001b[39;00m \u001b[38;5;129;01mand\u001b[39;00m \u001b[38;5;129;01mnot\u001b[39;00m kw):\n\u001b[1;32m--> 346\u001b[0m     \u001b[38;5;28;01mreturn\u001b[39;00m \u001b[43m_default_decoder\u001b[49m\u001b[38;5;241;43m.\u001b[39;49m\u001b[43mdecode\u001b[49m\u001b[43m(\u001b[49m\u001b[43ms\u001b[49m\u001b[43m)\u001b[49m\n\u001b[0;32m    347\u001b[0m \u001b[38;5;28;01mif\u001b[39;00m \u001b[38;5;28mcls\u001b[39m \u001b[38;5;129;01mis\u001b[39;00m \u001b[38;5;28;01mNone\u001b[39;00m:\n\u001b[0;32m    348\u001b[0m     \u001b[38;5;28mcls\u001b[39m \u001b[38;5;241m=\u001b[39m JSONDecoder\n",
      "File \u001b[1;32m~\\AppData\\Local\\Programs\\Python\\Python312\\Lib\\json\\decoder.py:340\u001b[0m, in \u001b[0;36mJSONDecoder.decode\u001b[1;34m(self, s, _w)\u001b[0m\n\u001b[0;32m    338\u001b[0m end \u001b[38;5;241m=\u001b[39m _w(s, end)\u001b[38;5;241m.\u001b[39mend()\n\u001b[0;32m    339\u001b[0m \u001b[38;5;28;01mif\u001b[39;00m end \u001b[38;5;241m!=\u001b[39m \u001b[38;5;28mlen\u001b[39m(s):\n\u001b[1;32m--> 340\u001b[0m     \u001b[38;5;28;01mraise\u001b[39;00m JSONDecodeError(\u001b[38;5;124m\"\u001b[39m\u001b[38;5;124mExtra data\u001b[39m\u001b[38;5;124m\"\u001b[39m, s, end)\n\u001b[0;32m    341\u001b[0m \u001b[38;5;28;01mreturn\u001b[39;00m obj\n",
      "\u001b[1;31mJSONDecodeError\u001b[0m: Extra data: line 1 column 15 (char 14)"
     ]
    }
   ],
   "source": [
    "import json\n",
    "\n",
    "# String that looks like a JSON object\n",
    "# log_message = '{\"request_time\":\"09:43:07 28-07-2024\",\"stat\":\"Not_Ok\",\"emsg\":\"Invalid Input : Wrong Password\",\"uid\":\"FA25376\"}'\n",
    "\n",
    "log_message = '\"request_time\":\"09:43:07 28-07-2024\",\"stat\":\"Not_Ok\",\"emsg\":\"Invalid Input : Wrong Password\",\"uid\":\"FA25376\"'\n",
    "\n",
    "# Convert the string to a dictionary\n",
    "log_dict = json.loads(log_message)\n",
    "\n",
    "# Print the dictionary\n",
    "print(log_dict)\n"
   ]
  },
  {
   "cell_type": "code",
   "execution_count": 5,
   "metadata": {},
   "outputs": [
    {
     "ename": "NameError",
     "evalue": "name 'time' is not defined",
     "output_type": "error",
     "traceback": [
      "\u001b[1;31m---------------------------------------------------------------------------\u001b[0m",
      "\u001b[1;31mNameError\u001b[0m                                 Traceback (most recent call last)",
      "Cell \u001b[1;32mIn[5], line 1\u001b[0m\n\u001b[1;32m----> 1\u001b[0m local_time \u001b[38;5;241m=\u001b[39m \u001b[43mtime\u001b[49m\u001b[38;5;241m.\u001b[39mlocaltime()\n\u001b[0;32m      2\u001b[0m \u001b[38;5;66;03m# Format the current date as a string\u001b[39;00m\n\u001b[0;32m      3\u001b[0m current_date \u001b[38;5;241m=\u001b[39m time\u001b[38;5;241m.\u001b[39mstrftime(\u001b[38;5;124m'\u001b[39m\u001b[38;5;124m%\u001b[39m\u001b[38;5;124mY-\u001b[39m\u001b[38;5;124m%\u001b[39m\u001b[38;5;124mm-\u001b[39m\u001b[38;5;132;01m%d\u001b[39;00m\u001b[38;5;124m'\u001b[39m, local_time)\n",
      "\u001b[1;31mNameError\u001b[0m: name 'time' is not defined"
     ]
    }
   ],
   "source": [
    "local_time = time.localtime()\n",
    "# Format the current date as a string\n",
    "current_date = time.strftime('%Y-%m-%d', local_time)\n",
    "#Function call to download token file and save it to saperate directory mention in path\n",
    "path = f\"E:\\\\FnO_Stocks_Intraday_data\\\\token_old\\\\{current_date}\"\n",
    "print(path)"
   ]
  },
  {
   "cell_type": "code",
   "execution_count": 6,
   "metadata": {},
   "outputs": [
    {
     "data": {
      "text/plain": [
       "4"
      ]
     },
     "execution_count": 6,
     "metadata": {},
     "output_type": "execute_result"
    }
   ],
   "source": [
    "2+2"
   ]
  },
  {
   "cell_type": "code",
   "execution_count": 82,
   "metadata": {},
   "outputs": [
    {
     "data": {
      "text/html": [
       "<div>\n",
       "<style scoped>\n",
       "    .dataframe tbody tr th:only-of-type {\n",
       "        vertical-align: middle;\n",
       "    }\n",
       "\n",
       "    .dataframe tbody tr th {\n",
       "        vertical-align: top;\n",
       "    }\n",
       "\n",
       "    .dataframe thead th {\n",
       "        text-align: right;\n",
       "    }\n",
       "</style>\n",
       "<table border=\"1\" class=\"dataframe\">\n",
       "  <thead>\n",
       "    <tr style=\"text-align: right;\">\n",
       "      <th></th>\n",
       "      <th>Exchange</th>\n",
       "      <th>Token</th>\n",
       "      <th>LotSize</th>\n",
       "      <th>Symbol</th>\n",
       "      <th>TradingSymbol</th>\n",
       "      <th>Expiry</th>\n",
       "      <th>Instrument</th>\n",
       "      <th>OptionType</th>\n",
       "      <th>StrikePrice</th>\n",
       "      <th>TickSize</th>\n",
       "      <th>Unnamed: 10</th>\n",
       "    </tr>\n",
       "  </thead>\n",
       "  <tbody>\n",
       "    <tr>\n",
       "      <th>62180</th>\n",
       "      <td>NFO</td>\n",
       "      <td>56547</td>\n",
       "      <td>900</td>\n",
       "      <td>ZYDUSLIFE</td>\n",
       "      <td>ZYDUSLIFE29AUG24F</td>\n",
       "      <td>29-AUG-2024</td>\n",
       "      <td>FUTSTK</td>\n",
       "      <td>XX</td>\n",
       "      <td>-0.01</td>\n",
       "      <td>0.05</td>\n",
       "      <td>NaN</td>\n",
       "    </tr>\n",
       "    <tr>\n",
       "      <th>67838</th>\n",
       "      <td>NFO</td>\n",
       "      <td>48604</td>\n",
       "      <td>900</td>\n",
       "      <td>ZYDUSLIFE</td>\n",
       "      <td>ZYDUSLIFE31OCT24F</td>\n",
       "      <td>31-OCT-2024</td>\n",
       "      <td>FUTSTK</td>\n",
       "      <td>XX</td>\n",
       "      <td>-0.01</td>\n",
       "      <td>0.05</td>\n",
       "      <td>NaN</td>\n",
       "    </tr>\n",
       "    <tr>\n",
       "      <th>76795</th>\n",
       "      <td>NFO</td>\n",
       "      <td>37733</td>\n",
       "      <td>900</td>\n",
       "      <td>ZYDUSLIFE</td>\n",
       "      <td>ZYDUSLIFE26SEP24F</td>\n",
       "      <td>26-SEP-2024</td>\n",
       "      <td>FUTSTK</td>\n",
       "      <td>XX</td>\n",
       "      <td>-0.01</td>\n",
       "      <td>0.05</td>\n",
       "      <td>NaN</td>\n",
       "    </tr>\n",
       "  </tbody>\n",
       "</table>\n",
       "</div>"
      ],
      "text/plain": [
       "      Exchange  Token  LotSize     Symbol      TradingSymbol       Expiry  \\\n",
       "62180      NFO  56547      900  ZYDUSLIFE  ZYDUSLIFE29AUG24F  29-AUG-2024   \n",
       "67838      NFO  48604      900  ZYDUSLIFE  ZYDUSLIFE31OCT24F  31-OCT-2024   \n",
       "76795      NFO  37733      900  ZYDUSLIFE  ZYDUSLIFE26SEP24F  26-SEP-2024   \n",
       "\n",
       "      Instrument OptionType  StrikePrice  TickSize  Unnamed: 10  \n",
       "62180     FUTSTK         XX        -0.01      0.05          NaN  \n",
       "67838     FUTSTK         XX        -0.01      0.05          NaN  \n",
       "76795     FUTSTK         XX        -0.01      0.05          NaN  "
      ]
     },
     "execution_count": 82,
     "metadata": {},
     "output_type": "execute_result"
    }
   ],
   "source": [
    "all_token_NFO[(all_token_NFO['Symbol']==stock) & (all_token_NFO['Instrument']=='FUTSTK')]"
   ]
  },
  {
   "cell_type": "code",
   "execution_count": 72,
   "metadata": {},
   "outputs": [
    {
     "data": {
      "text/plain": [
       "7929"
      ]
     },
     "execution_count": 72,
     "metadata": {},
     "output_type": "execute_result"
    }
   ],
   "source": [
    "int(asd)"
   ]
  },
  {
   "cell_type": "code",
   "execution_count": 65,
   "metadata": {},
   "outputs": [
    {
     "name": "stderr",
     "output_type": "stream",
     "text": [
      "DEBUG:NorenRestApiPy.NorenApi:https://api.shoonya.com/NorenWClientTP//QuickAuth\n",
      "DEBUG:NorenRestApiPy.NorenApi:Req:jData={\"source\": \"API\", \"apkversion\": \"1.0.0\", \"uid\": \"FA25376\", \"pwd\": \"5127e5c99407fb3246b5a8f577d0f3ddcd91b58d18c57bc364b3fb165ec56ee6\", \"factor2\": \"724090\", \"vc\": \"FA25376_U\", \"appkey\": \"bc069f28741d739992e488e3c24ac5ad462c62bc79de8d1d3e970fd0fe685978\", \"imei\": \"abc1234\"}\n",
      "DEBUG:urllib3.connectionpool:Starting new HTTPS connection (1): api.shoonya.com:443\n"
     ]
    },
    {
     "name": "stderr",
     "output_type": "stream",
     "text": [
      "DEBUG:urllib3.connectionpool:https://api.shoonya.com:443 \"POST /NorenWClientTP//QuickAuth HTTP/11\" 200 980\n",
      "DEBUG:NorenRestApiPy.NorenApi:Reply:{\"request_time\":\"19:12:11 27-07-2024\",\"actid\":\"FA25376\",\"access_type\":[\"MOB\",\"TT\",\"WEB\",\"API\"],\"uname\":\"RAJU KUMAR SINGH\",\"prarr\":[{\"prd\":\"C\",\"s_prdt_ali\":\"CNC\",\"exch\":[\"NIPO\",\"BSTAR\"]},{\"prd\":\"M\",\"s_prdt_ali\":\"NRML\",\"exch\":[\"MCX\",\"NCX\"]},{\"prd\":\"I\",\"s_prdt_ali\":\"MIS\",\"exch\":[\"MCX\",\"NCX\"]},{\"prd\":\"H\",\"s_prdt_ali\":\"CO\",\"exch\":[\"MCX\"]},{\"prd\":\"B\",\"s_prdt_ali\":\"BO\",\"exch\":[\"MCX\"]}],\"exch_prd\":[{\"exch\":\"NIPO\",\"prds\":[\"C\"]},{\"exch\":\"BSTAR\",\"prds\":[\"C\"]},{\"exch\":\"MCX\",\"prds\":[\"M\",\"I\",\"H\",\"B\"]},{\"exch\":\"NCX\",\"prds\":[\"M\",\"I\"]}],\"stat\":\"Ok\",\"susertoken\":\"9cba6f5a33d5aabf60c9d7b6d1d6864403487922f92eca947a6834c20eacd40f\",\"susertokenspl\":\"9acd67935354b582d3303ef2ea3fa0f8fde20c61438fdbdf702159f56b4601dd\",\"email\":\"raj41raju@gmail.com\",\"uid\":\"FA25376\",\"brnchid\":\"HO\",\"totp_set\":\"1\",\"m_num\":\"8860013912\",\"orarr\":[\"MKT\",\"LMT\",\"SL-LMT\",\"SL-MKT\"],\"exarr\":[\"NIPO\",\"BSTAR\",\"MCX\",\"NCX\"],\"values\":[],\"mws\":{},\"brkname\":\"FINV\",\"dmsg\":\"\",\"lastaccesstime\":\"1722087731\",\"lastpwdtime\":\"1721576555\"}\n"
     ]
    },
    {
     "name": "stdout",
     "output_type": "stream",
     "text": [
      "{'request_time': '19:12:11 27-07-2024', 'actid': 'FA25376', 'access_type': ['MOB', 'TT', 'WEB', 'API'], 'uname': 'RAJU KUMAR SINGH', 'prarr': [{'prd': 'C', 's_prdt_ali': 'CNC', 'exch': ['NIPO', 'BSTAR']}, {'prd': 'M', 's_prdt_ali': 'NRML', 'exch': ['MCX', 'NCX']}, {'prd': 'I', 's_prdt_ali': 'MIS', 'exch': ['MCX', 'NCX']}, {'prd': 'H', 's_prdt_ali': 'CO', 'exch': ['MCX']}, {'prd': 'B', 's_prdt_ali': 'BO', 'exch': ['MCX']}], 'exch_prd': [{'exch': 'NIPO', 'prds': ['C']}, {'exch': 'BSTAR', 'prds': ['C']}, {'exch': 'MCX', 'prds': ['M', 'I', 'H', 'B']}, {'exch': 'NCX', 'prds': ['M', 'I']}], 'stat': 'Ok', 'susertoken': '9cba6f5a33d5aabf60c9d7b6d1d6864403487922f92eca947a6834c20eacd40f', 'susertokenspl': '9acd67935354b582d3303ef2ea3fa0f8fde20c61438fdbdf702159f56b4601dd', 'email': 'raj41raju@gmail.com', 'uid': 'FA25376', 'brnchid': 'HO', 'totp_set': '1', 'm_num': '8860013912', 'orarr': ['MKT', 'LMT', 'SL-LMT', 'SL-MKT'], 'exarr': ['NIPO', 'BSTAR', 'MCX', 'NCX'], 'values': [], 'mws': {}, 'brkname': 'FINV', 'dmsg': '', 'lastaccesstime': '1722087731', 'lastpwdtime': '1721576555'}\n"
     ]
    }
   ],
   "source": []
  },
  {
   "cell_type": "code",
   "execution_count": 85,
   "metadata": {},
   "outputs": [
    {
     "data": {
      "text/html": [
       "<div>\n",
       "<style scoped>\n",
       "    .dataframe tbody tr th:only-of-type {\n",
       "        vertical-align: middle;\n",
       "    }\n",
       "\n",
       "    .dataframe tbody tr th {\n",
       "        vertical-align: top;\n",
       "    }\n",
       "\n",
       "    .dataframe thead th {\n",
       "        text-align: right;\n",
       "    }\n",
       "</style>\n",
       "<table border=\"1\" class=\"dataframe\">\n",
       "  <thead>\n",
       "    <tr style=\"text-align: right;\">\n",
       "      <th></th>\n",
       "      <th>Exchange</th>\n",
       "      <th>Token</th>\n",
       "      <th>LotSize</th>\n",
       "      <th>Symbol</th>\n",
       "      <th>TradingSymbol</th>\n",
       "      <th>Instrument</th>\n",
       "      <th>TickSize</th>\n",
       "      <th>Unnamed: 7</th>\n",
       "    </tr>\n",
       "  </thead>\n",
       "  <tbody>\n",
       "    <tr>\n",
       "      <th>0</th>\n",
       "      <td>NSE</td>\n",
       "      <td>26000</td>\n",
       "      <td>1</td>\n",
       "      <td>Nifty 50</td>\n",
       "      <td>NIFTY INDEX</td>\n",
       "      <td>INDEX</td>\n",
       "      <td>0.0</td>\n",
       "      <td>NaN</td>\n",
       "    </tr>\n",
       "    <tr>\n",
       "      <th>1</th>\n",
       "      <td>NSE</td>\n",
       "      <td>26009</td>\n",
       "      <td>1</td>\n",
       "      <td>Nifty Bank</td>\n",
       "      <td>NIFTY BANK</td>\n",
       "      <td>INDEX</td>\n",
       "      <td>0.0</td>\n",
       "      <td>NaN</td>\n",
       "    </tr>\n",
       "    <tr>\n",
       "      <th>2</th>\n",
       "      <td>NSE</td>\n",
       "      <td>26017</td>\n",
       "      <td>1</td>\n",
       "      <td>INDIAVIX</td>\n",
       "      <td>INDIA VIX</td>\n",
       "      <td>INDEX</td>\n",
       "      <td>0.0</td>\n",
       "      <td>NaN</td>\n",
       "    </tr>\n",
       "    <tr>\n",
       "      <th>3</th>\n",
       "      <td>NSE</td>\n",
       "      <td>26037</td>\n",
       "      <td>1</td>\n",
       "      <td>Nifty Fin Services</td>\n",
       "      <td>FINNIFTY</td>\n",
       "      <td>INDEX</td>\n",
       "      <td>0.0</td>\n",
       "      <td>NaN</td>\n",
       "    </tr>\n",
       "    <tr>\n",
       "      <th>4</th>\n",
       "      <td>NSE</td>\n",
       "      <td>26074</td>\n",
       "      <td>1</td>\n",
       "      <td>NIFTY MID SELECT</td>\n",
       "      <td>MIDCPNIFTY</td>\n",
       "      <td>INDEX</td>\n",
       "      <td>0.0</td>\n",
       "      <td>NaN</td>\n",
       "    </tr>\n",
       "  </tbody>\n",
       "</table>\n",
       "</div>"
      ],
      "text/plain": [
       "  Exchange  Token  LotSize              Symbol TradingSymbol Instrument  \\\n",
       "0      NSE  26000        1            Nifty 50   NIFTY INDEX      INDEX   \n",
       "1      NSE  26009        1          Nifty Bank    NIFTY BANK      INDEX   \n",
       "2      NSE  26017        1            INDIAVIX     INDIA VIX      INDEX   \n",
       "3      NSE  26037        1  Nifty Fin Services      FINNIFTY      INDEX   \n",
       "4      NSE  26074        1    NIFTY MID SELECT    MIDCPNIFTY      INDEX   \n",
       "\n",
       "   TickSize  Unnamed: 7  \n",
       "0       0.0         NaN  \n",
       "1       0.0         NaN  \n",
       "2       0.0         NaN  \n",
       "3       0.0         NaN  \n",
       "4       0.0         NaN  "
      ]
     },
     "execution_count": 85,
     "metadata": {},
     "output_type": "execute_result"
    }
   ],
   "source": [
    "all_token_spot.head()"
   ]
  },
  {
   "cell_type": "code",
   "execution_count": 88,
   "metadata": {},
   "outputs": [
    {
     "name": "stderr",
     "output_type": "stream",
     "text": [
      "DEBUG:NorenRestApiPy.NorenApi:https://api.shoonya.com/NorenWClientTP//TPSeries\n",
      "DEBUG:NorenRestApiPy.NorenApi:jData={\"ordersource\": \"API\", \"uid\": \"FA25376\", \"exch\": \"NFO\", \"token\": \"56547\", \"st\": \"1721932200.0\", \"et\": \"1721988000.0\", \"intrv\": \"1\"}&jKey=9cba6f5a33d5aabf60c9d7b6d1d6864403487922f92eca947a6834c20eacd40f\n",
      "DEBUG:urllib3.connectionpool:Starting new HTTPS connection (1): api.shoonya.com:443\n",
      "DEBUG:urllib3.connectionpool:https://api.shoonya.com:443 \"POST /NorenWClientTP//TPSeries HTTP/11\" 200 78248\n",
      "DEBUG:NorenRestApiPy.NorenApi:[{\"stat\":\"Ok\",\"time\":\"26-07-2024 15:29:00\",\"ssboe\":\"1721987940\",\"into\":\"1215.40\",\"inth\":\"1216.80\",\"intl\":\"1214.80\",\"intc\":\"1216.80\",\"intvwap\":\"1216.62\",\"intv\":\"53100\",\"intoi\":\"0\",\"v\":\"3305700\",\"oi\":\"17031600\"},{\"stat\":\"Ok\",\"time\":\"26-07-2024 15:28:00\",\"ssboe\":\"1721987880\",\"into\":\"1215.30\",\"inth\":\"1216.00\",\"intl\":\"1214.75\",\"intc\":\"1216.00\",\"intvwap\":\"1214.83\",\"intv\":\"25200\",\"intoi\":\"3600\",\"v\":\"3252600\",\"oi\":\"17031600\"},{\"stat\":\"Ok\",\"time\":\"26-07-2024 15:27:00\",\"ssboe\":\"1721987820\",\"into\":\"1214.70\",\"inth\":\"1215.35\",\"intl\":\"1214.15\",\"intc\":\"1215.00\",\"intvwap\":\"1214.88\",\"intv\":\"24300\",\"intoi\":\"0\",\"v\":\"3227400\",\"oi\":\"17028000\"},{\"stat\":\"Ok\",\"time\":\"26-07-2024 15:26:00\",\"ssboe\":\"1721987760\",\"into\":\"1214.85\",\"inth\":\"1215.00\",\"intl\":\"1214.00\",\"intc\":\"1214.65\",\"intvwap\":\"1213.99\",\"intv\":\"18000\",\"intoi\":\"0\",\"v\":\"3203100\",\"oi\":\"17028000\"},{\"stat\":\"Ok\",\"time\":\"26-07-2024 15:25:00\",\"ssboe\":\"1721987700\",\"into\":\"1214.40\",\"inth\":\"1214.65\",\"intl\":\"1214.10\",\"intc\":\"1214.10\",\"intvwap\":\"1214.29\",\"intv\":\"15300\",\"intoi\":\"-10800\",\"v\":\"3185100\",\"oi\":\"17028000\"},{\"stat\":\"Ok\",\"time\":\"26-07-2024 15:24:00\",\"ssboe\":\"1721987640\",\"into\":\"1214.65\",\"inth\":\"1215.35\",\"intl\":\"1214.35\",\"intc\":\"1214.35\",\"intvwap\":\"1218.07\",\"intv\":\"5400\",\"intoi\":\"0\",\"v\":\"3169800\",\"oi\":\"17038800\"},{\"stat\":\"Ok\",\"time\":\"26-07-2024 15:23:00\",\"ssboe\":\"1721987580\",\"into\":\"1215.50\",\"inth\":\"1215.50\",\"intl\":\"1214.35\",\"intc\":\"1214.60\",\"intvwap\":\"1214.13\",\"intv\":\"32400\",\"intoi\":\"0\",\"v\":\"3164400\",\"oi\":\"17038800\"},{\"stat\":\"Ok\",\"time\":\"26-07-2024 15:22:00\",\"ssboe\":\"1721987520\",\"into\":\"1214.35\",\"inth\":\"1215.35\",\"intl\":\"1214.35\",\"intc\":\"1215.35\",\"intvwap\":\"1214.84\",\"intv\":\"11700\",\"intoi\":\"-2700\",\"v\":\"3132000\",\"oi\":\"17038800\"},{\"stat\":\"Ok\",\"time\":\"26-07-2024 15:21:00\",\"ssboe\":\"1721987460\",\"into\":\"1214.65\",\"inth\":\"1215.50\",\"intl\":\"1214.65\",\"intc\":\"1215.00\",\"intvwap\":\"1215.04\",\"intv\":\"10800\",\"intoi\":\"0\",\"v\":\"3120300\",\"oi\":\"17041500\"},{\"stat\":\"Ok\",\"time\":\"26-07-2024 15:20:00\",\"ssboe\":\"1721987400\",\"into\":\"1214.60\",\"inth\":\"1215.75\",\"intl\":\"1214.55\",\"intc\":\"1215.15\",\"intvwap\":\"1215.47\",\"intv\":\"27900\",\"intoi\":\"0\",\"v\":\"3109500\",\"oi\":\"17041500\"},{\"stat\":\"Ok\",\"time\":\"26-07-2024 15:19:00\",\"ssboe\":\"1721987340\",\"into\":\"1215.25\",\"inth\":\"1215.45\",\"intl\":\"1214.55\",\"intc\":\"1214.55\",\"intvwap\":\"1216.40\",\"intv\":\"7200\",\"intoi\":\"-7200\",\"v\":\"3081600\",\"oi\":\"17041500\"},{\"stat\":\"Ok\",\"time\":\"26-07-2024 15:18:00\",\"ssboe\":\"1721987280\",\"into\":\"1215.05\",\"inth\":\"1215.30\",\"intl\":\"1214.65\",\"intc\":\"1215.05\",\"intvwap\":\"1214.11\",\"intv\":\"15300\",\"intoi\":\"0\",\"v\":\"3074400\",\"oi\":\"17048700\"},{\"stat\":\"Ok\",\"time\":\"26-07-2024 15:17:00\",\"ssboe\":\"1721987220\",\"into\":\"1214.90\",\"inth\":\"1215.40\",\"intl\":\"1214.55\",\"intc\":\"1215.00\",\"intvwap\":\"1215.48\",\"intv\":\"18000\",\"intoi\":\"0\",\"v\":\"3059100\",\"oi\":\"17048700\"},{\"stat\":\"Ok\",\"time\":\"26-07-2024 15:16:00\",\"ssboe\":\"1721987160\",\"into\":\"1214.75\",\"inth\":\"1214.95\",\"intl\":\"1214.20\",\"intc\":\"1214.95\",\"intvwap\":\"1214.87\",\"intv\":\"32400\",\"intoi\":\"3600\",\"v\":\"3041100\",\"oi\":\"17048700\"},{\"stat\":\"Ok\",\"time\":\"26-07-2024 15:15:00\",\"ssboe\":\"1721987100\",\"into\":\"1214.85\",\"inth\":\"1215.00\",\"intl\":\"1214.45\",\"intc\":\"1214.60\",\"intvwap\":\"1213.50\",\"intv\":\"20700\",\"intoi\":\"0\",\"v\":\"3008700\",\"oi\":\"17045100\"},{\"stat\":\"Ok\",\"time\":\"26-07-2024 15:14:00\",\"ssboe\":\"1721987040\",\"into\":\"1214.15\",\"inth\":\"1215.20\",\"intl\":\"1214.15\",\"intc\":\"1214.45\",\"intvwap\":\"1215.93\",\"intv\":\"15300\",\"intoi\":\"0\",\"v\":\"2988000\",\"oi\":\"17045100\"},{\"stat\":\"Ok\",\"time\":\"26-07-2024 15:13:00\",\"ssboe\":\"1721986980\",\"into\":\"1216.15\",\"inth\":\"1216.50\",\"intl\":\"1214.50\",\"intc\":\"1214.50\",\"intvwap\":\"1215.87\",\"intv\":\"30600\",\"intoi\":\"-5400\",\"v\":\"2972700\",\"oi\":\"17045100\"},{\"stat\":\"Ok\",\"time\":\"26-07-2024 15:12:00\",\"ssboe\":\"1721986920\",\"into\":\"1214.30\",\"inth\":\"1216.35\",\"intl\":\"1214.25\",\"intc\":\"1216.35\",\"intvwap\":\"1214.30\",\"intv\":\"25200\",\"intoi\":\"0\",\"v\":\"2942100\",\"oi\":\"17050500\"},{\"stat\":\"Ok\",\"time\":\"26-07-2024 15:11:00\",\"ssboe\":\"1721986860\",\"into\":\"1214.10\",\"inth\":\"1214.40\",\"intl\":\"1213.45\",\"intc\":\"1213.95\",\"intvwap\":\"1214.27\",\"intv\":\"12600\",\"intoi\":\"0\",\"v\":\"2916900\",\"oi\":\"17050500\"},{\"stat\":\"Ok\",\"time\":\"26-07-2024 15:10:00\",\"ssboe\":\"1721986800\",\"into\":\"1213.00\",\"inth\":\"1213.80\",\"intl\":\"1213.00\",\"intc\":\"1213.80\",\"intvwap\":\"1213.64\",\"intv\":\"17100\",\"intoi\":\"0\",\"v\":\"2904300\",\"oi\":\"17050500\"},{\"stat\":\"Ok\",\"time\":\"26-07-2024 15:09:00\",\"ssboe\":\"1721986740\",\"into\":\"1211.50\",\"inth\":\"1214.70\",\"intl\":\"1211.30\",\"intc\":\"1213.15\",\"intvwap\":\"1213.14\",\"intv\":\"47700\",\"intoi\":\"0\",\"v\":\"2887200\",\"oi\":\"17050500\"},{\"stat\":\"Ok\",\"time\":\"26-07-2024 15:08:00\",\"ssboe\":\"1721986680\",\"into\":\"1210.45\",\"inth\":\"1212.85\",\"intl\":\"1210.45\",\"intc\":\"1211.65\",\"intvwap\":\"1211.93\",\"intv\":\"33300\",\"intoi\":\"0\",\"v\":\"2839500\",\"oi\":\"17050500\"},{\"stat\":\"Ok\",\"time\":\"26-07-2024 15:07:00\",\"ssboe\":\"1721986620\",\"into\":\"1210.10\",\"inth\":\"1210.80\",\"intl\":\"1209.60\",\"intc\":\"1210.80\",\"intvwap\":\"1209.34\",\"intv\":\"10800\",\"intoi\":\"-900\",\"v\":\"2806200\",\"oi\":\"17050500\"},{\"stat\":\"Ok\",\"time\":\"26-07-2024 15:06:00\",\"ssboe\":\"1721986560\",\"into\":\"1210.15\",\"inth\":\"1210.50\",\"intl\":\"1209.95\",\"intc\":\"1209.95\",\"intvwap\":\"1211.94\",\"intv\":\"6300\",\"intoi\":\"0\",\"v\":\"2795400\",\"oi\":\"17051400\"},{\"stat\":\"Ok\",\"time\":\"26-07-2024 15:05:00\",\"ssboe\":\"1721986500\",\"into\":\"1210.10\",\"inth\":\"1210.50\",\"intl\":\"1210.00\",\"intc\":\"1210.30\",\"intvwap\":\"1209.73\",\"intv\":\"12600\",\"intoi\":\"0\",\"v\":\"2789100\",\"oi\":\"17051400\"},{\"stat\":\"Ok\",\"time\":\"26-07-2024 15:04:00\",\"ssboe\":\"1721986440\",\"into\":\"1209.80\",\"inth\":\"1210.00\",\"intl\":\"1209.75\",\"intc\":\"1209.75\",\"intvwap\":\"1208.10\",\"intv\":\"7200\",\"intoi\":\"-3600\",\"v\":\"2776500\",\"oi\":\"17051400\"},{\"stat\":\"Ok\",\"time\":\"26-07-2024 15:03:00\",\"ssboe\":\"1721986380\",\"into\":\"1209.95\",\"inth\":\"1210.40\",\"intl\":\"1209.50\",\"intc\":\"1209.85\",\"intvwap\":\"1211.96\",\"intv\":\"4500\",\"intoi\":\"0\",\"v\":\"2769300\",\"oi\":\"17055000\"},{\"stat\":\"Ok\",\"time\":\"26-07-2024 15:02:00\",\"ssboe\":\"1721986320\",\"into\":\"1209.00\",\"inth\":\"1209.80\",\"intl\":\"1209.00\",\"intc\":\"1209.80\",\"intvwap\":\"1211.96\",\"intv\":\"4500\",\"intoi\":\"0\",\"v\":\"2764800\",\"oi\":\"17055000\"},{\"stat\":\"Ok\",\"time\":\"26-07-2024 15:01:00\",\"ssboe\":\"1721986260\",\"into\":\"1209.75\",\"inth\":\"1209.75\",\"intl\":\"1208.95\",\"intc\":\"1208.95\",\"intvwap\":\"1207.89\",\"intv\":\"13500\",\"intoi\":\"10800\",\"v\":\"2760300\",\"oi\":\"17055000\"},{\"stat\":\"Ok\",\"time\":\"26-07-2024 15:00:00\",\"ssboe\":\"1721986200\",\"into\":\"1209.75\",\"inth\":\"1210.05\",\"intl\":\"1209.75\",\"intc\":\"1210.05\",\"intvwap\":\"1211.98\",\"intv\":\"900\",\"intoi\":\"0\",\"v\":\"2746800\",\"oi\":\"17044200\"},{\"stat\":\"Ok\",\"time\":\"26-07-2024 14:59:00\",\"ssboe\":\"1721986140\",\"into\":\"1210.50\",\"inth\":\"1210.95\",\"intl\":\"1210.00\",\"intc\":\"1210.80\",\"intvwap\":\"1210.19\",\"intv\":\"15300\",\"intoi\":\"0\",\"v\":\"2745900\",\"oi\":\"17044200\"},{\"stat\":\"Ok\",\"time\":\"26-07-2024 14:58:00\",\"ssboe\":\"1721986080\",\"into\":\"1210.90\",\"inth\":\"1211.00\",\"intl\":\"1210.00\",\"intc\":\"1210.00\",\"intvwap\":\"1211.99\",\"intv\":\"13500\",\"intoi\":\"-3600\",\"v\":\"2730600\",\"oi\":\"17044200\"},{\"stat\":\"Ok\",\"time\":\"26-07-2024 14:57:00\",\"ssboe\":\"1721986020\",\"into\":\"1210.15\",\"inth\":\"1210.85\",\"intl\":\"1210.15\",\"intc\":\"1210.85\",\"intvwap\":\"1211.99\",\"intv\":\"3600\",\"intoi\":\"0\",\"v\":\"2717100\",\"oi\":\"17047800\"},{\"stat\":\"Ok\",\"time\":\"26-07-2024 14:56:00\",\"ssboe\":\"1721985960\",\"into\":\"1210.00\",\"inth\":\"1210.25\",\"intl\":\"1210.00\",\"intc\":\"1210.25\",\"intvwap\":\"1204.46\",\"intv\":\"3600\",\"intoi\":\"0\",\"v\":\"2713500\",\"oi\":\"17047800\"},{\"stat\":\"Ok\",\"time\":\"26-07-2024 14:55:00\",\"ssboe\":\"1721985900\",\"into\":\"1210.75\",\"inth\":\"1210.90\",\"intl\":\"1210.30\",\"intc\":\"1210.30\",\"intvwap\":\"1212.00\",\"intv\":\"9000\",\"intoi\":\"0\",\"v\":\"2709900\",\"oi\":\"17047800\"},{\"stat\":\"Ok\",\"time\":\"26-07-2024 14:54:00\",\"ssboe\":\"1721985840\",\"into\":\"1210.55\",\"inth\":\"1210.90\",\"intl\":\"1210.55\",\"intc\":\"1210.90\",\"intvwap\":\"1208.67\",\"intv\":\"8100\",\"intoi\":\"0\",\"v\":\"2700900\",\"oi\":\"17047800\"},{\"stat\":\"Ok\",\"time\":\"26-07-2024 14:53:00\",\"ssboe\":\"1721985780\",\"into\":\"1209.95\",\"inth\":\"1209.95\",\"intl\":\"1209.95\",\"intc\":\"1209.95\",\"intvwap\":\"1212.01\",\"intv\":\"1800\",\"intoi\":\"0\",\"v\":\"2692800\",\"oi\":\"17047800\"},{\"stat\":\"Ok\",\"time\":\"26-07-2024 14:52:00\",\"ssboe\":\"1721985720\",\"into\":\"1209.95\",\"inth\":\"1209.95\",\"intl\":\"1209.85\",\"intc\":\"1209.85\",\"intvwap\":\"1210.49\",\"intv\":\"35100\",\"intoi\":\"32400\",\"v\":\"2691000\",\"oi\":\"17047800\"},{\"stat\":\"Ok\",\"time\":\"26-07-2024 14:51:00\",\"ssboe\":\"1721985660\",\"into\":\"1210.00\",\"inth\":\"1210.00\",\"intl\":\"1210.00\",\"intc\":\"1210.00\",\"intvwap\":\"1209.58\",\"intv\":\"10800\",\"intoi\":\"0\",\"v\":\"2655900\",\"oi\":\"17015400\"},{\"stat\":\"Ok\",\"time\":\"26-07-2024 14:50:00\",\"ssboe\":\"1721985600\",\"into\":\"1209.95\",\"inth\":\"1210.00\",\"intl\":\"1209.45\",\"intc\":\"1210.00\",\"intvwap\":\"1209.60\",\"intv\":\"10800\",\"intoi\":\"0\",\"v\":\"2645100\",\"oi\":\"17015400\"},{\"stat\":\"Ok\",\"time\":\"26-07-2024 14:49:00\",\"ssboe\":\"1721985540\",\"into\":\"1209.30\",\"inth\":\"1210.00\",\"intl\":\"1209.30\",\"intc\":\"1210.00\",\"intvwap\":\"1209.96\",\"intv\":\"12600\",\"intoi\":\"2700\",\"v\":\"2634300\",\"oi\":\"17015400\"},{\"stat\":\"Ok\",\"time\":\"26-07-2024 14:48:00\",\"ssboe\":\"1721985480\",\"into\":\"1209.85\",\"inth\":\"1210.00\",\"intl\":\"1209.60\",\"intc\":\"1210.00\",\"intvwap\":\"1209.30\",\"intv\":\"18900\",\"intoi\":\"0\",\"v\":\"2621700\",\"oi\":\"17012700\"},{\"stat\":\"Ok\",\"time\":\"26-07-2024 14:47:00\",\"ssboe\":\"1721985420\",\"into\":\"1209.60\",\"inth\":\"1209.60\",\"intl\":\"1209.60\",\"intc\":\"1209.60\",\"intvwap\":\"1212.08\",\"intv\":\"2700\",\"intoi\":\"3600\",\"v\":\"2602800\",\"oi\":\"17012700\"},{\"stat\":\"Ok\",\"time\":\"26-07-2024 14:46:00\",\"ssboe\":\"1721985360\",\"into\":\"1209.95\",\"inth\":\"1209.95\",\"intl\":\"1209.95\",\"intc\":\"1209.95\",\"intvwap\":\"1212.08\",\"intv\":\"2700\",\"intoi\":\"0\",\"v\":\"2600100\",\"oi\":\"17009100\"},{\"stat\":\"Ok\",\"time\":\"26-07-2024 14:45:00\",\"ssboe\":\"1721985300\",\"into\":\"1209.00\",\"inth\":\"1209.85\",\"intl\":\"1208.55\",\"intc\":\"1209.85\",\"intvwap\":\"1207.28\",\"intv\":\"5400\",\"intoi\":\"0\",\"v\":\"2597400\",\"oi\":\"17009100\"},{\"stat\":\"Ok\",\"time\":\"26-07-2024 14:44:00\",\"ssboe\":\"1721985240\",\"into\":\"1208.80\",\"inth\":\"1208.80\",\"intl\":\"1208.80\",\"intc\":\"1208.80\",\"intvwap\":\"1212.09\",\"intv\":\"1800\",\"intoi\":\"0\",\"v\":\"2592000\",\"oi\":\"17009100\"},{\"stat\":\"Ok\",\"time\":\"26-07-2024 14:43:00\",\"ssboe\":\"1721985180\",\"into\":\"1208.15\",\"inth\":\"1208.35\",\"intl\":\"1208.15\",\"intc\":\"1208.35\",\"intvwap\":\"1206.34\",\"intv\":\"4500\",\"intoi\":\"3600\",\"v\":\"2590200\",\"oi\":\"17009100\"},{\"stat\":\"Ok\",\"time\":\"26-07-2024 14:42:00\",\"ssboe\":\"1721985120\",\"into\":\"1208.30\",\"inth\":\"1208.30\",\"intl\":\"1208.00\",\"intc\":\"1208.10\",\"intvwap\":\"1212.10\",\"intv\":\"2700\",\"intoi\":\"0\",\"v\":\"2585700\",\"oi\":\"17005500\"},{\"stat\":\"Ok\",\"time\":\"26-07-2024 14:41:00\",\"ssboe\":\"1721985060\",\"into\":\"1208.70\",\"inth\":\"1208.70\",\"intl\":\"1208.40\",\"intc\":\"1208.40\",\"intvwap\":\"1212.10\",\"intv\":\"1800\",\"intoi\":\"0\",\"v\":\"2583000\",\"oi\":\"17005500\"},{\"stat\":\"Ok\",\"time\":\"26-07-2024 14:40:00\",\"ssboe\":\"1721985000\",\"into\":\"1208.70\",\"inth\":\"1209.05\",\"intl\":\"1208.70\",\"intc\":\"1208.95\",\"intvwap\":\"1207.33\",\"intv\":\"5400\",\"intoi\":\"-4500\",\"v\":\"2581200\",\"oi\":\"17005500\"},{\"stat\":\"Ok\",\"time\":\"26-07-2024 14:39:00\",\"ssboe\":\"1721984940\",\"into\":\"1208.30\",\"inth\":\"1209.00\",\"intl\":\"1208.30\",\"intc\":\"1209.00\",\"intvwap\":\"1206.39\",\"intv\":\"4500\",\"intoi\":\"0\",\"v\":\"2575800\",\"oi\":\"17010000\"},{\"stat\":\"Ok\",\"time\":\"26-07-2024 14:38:00\",\"ssboe\":\"1721984880\",\"into\":\"1208.95\",\"inth\":\"1208.95\",\"intl\":\"1208.95\",\"intc\":\"1208.95\",\"intvwap\":\"1212.12\",\"intv\":\"1800\",\"intoi\":\"0\",\"v\":\"2571300\",\"oi\":\"17010000\"},{\"stat\":\"Ok\",\"time\":\"26-07-2024 14:37:00\",\"ssboe\":\"1721984820\",\"into\":\"1208.50\",\"inth\":\"1208.80\",\"intl\":\"1208.50\",\"intc\":\"1208.80\",\"intvwap\":\"1212.12\",\"intv\":\"2700\",\"intoi\":\"-7200\",\"v\":\"2569500\",\"oi\":\"17010000\"},{\"stat\":\"Ok\",\"time\":\"26-07-2024 14:36:00\",\"ssboe\":\"1721984760\",\"into\":\"1207.80\",\"inth\":\"1207.80\",\"intl\":\"1207.80\",\"intc\":\"1207.80\",\"intvwap\":\"1202.62\",\"intv\":\"2700\",\"intoi\":\"0\",\"v\":\"2566800\",\"oi\":\"17017200\"},{\"stat\":\"Ok\",\"time\":\"26-07-2024 14:35:00\",\"ssboe\":\"1721984700\",\"into\":\"1208.45\",\"inth\":\"1209.05\",\"intl\":\"1208.45\",\"intc\":\"1209.05\",\"intvwap\":\"1209.29\",\"intv\":\"9000\",\"intoi\":\"0\",\"v\":\"2564100\",\"oi\":\"17017200\"},{\"stat\":\"Ok\",\"time\":\"26-07-2024 14:34:00\",\"ssboe\":\"1721984640\",\"into\":\"1208.00\",\"inth\":\"1208.50\",\"intl\":\"1207.90\",\"intc\":\"1208.25\",\"intvwap\":\"1206.99\",\"intv\":\"9900\",\"intoi\":\"-2700\",\"v\":\"2555100\",\"oi\":\"17017200\"},{\"stat\":\"Ok\",\"time\":\"26-07-2024 14:33:00\",\"ssboe\":\"1721984580\",\"into\":\"1208.25\",\"inth\":\"1208.25\",\"intl\":\"1207.80\",\"intc\":\"1207.80\",\"intvwap\":\"1212.16\",\"intv\":\"5400\",\"intoi\":\"0\",\"v\":\"2545200\",\"oi\":\"17019900\"},{\"stat\":\"Ok\",\"time\":\"26-07-2024 14:32:00\",\"ssboe\":\"1721984520\",\"into\":\"1210.65\",\"inth\":\"1210.65\",\"intl\":\"1209.60\",\"intc\":\"1209.60\",\"intvwap\":\"1206.52\",\"intv\":\"4500\",\"intoi\":\"0\",\"v\":\"2539800\",\"oi\":\"17019900\"},{\"stat\":\"Ok\",\"time\":\"26-07-2024 14:31:00\",\"ssboe\":\"1721984460\",\"into\":\"1211.00\",\"inth\":\"1211.00\",\"intl\":\"1211.00\",\"intc\":\"1211.00\",\"intvwap\":\"1212.17\",\"intv\":\"900\",\"intoi\":\"5400\",\"v\":\"2535300\",\"oi\":\"17019900\"},{\"stat\":\"Ok\",\"time\":\"26-07-2024 14:30:00\",\"ssboe\":\"1721984400\",\"into\":\"1210.85\",\"inth\":\"1211.25\",\"intl\":\"1210.65\",\"intc\":\"1210.65\",\"intvwap\":\"1212.17\",\"intv\":\"5400\",\"intoi\":\"0\",\"v\":\"2534400\",\"oi\":\"17014500\"},{\"stat\":\"Ok\",\"time\":\"26-07-2024 14:29:00\",\"ssboe\":\"1721984340\",\"into\":\"1210.65\",\"inth\":\"1210.65\",\"intl\":\"1210.65\",\"intc\":\"1210.65\",\"intvwap\":\"0.00\",\"intv\":\"0\",\"intoi\":\"0\",\"v\":\"2529000\",\"oi\":\"17014500\"},{\"stat\":\"Ok\",\"time\":\"26-07-2024 14:28:00\",\"ssboe\":\"1721984280\",\"into\":\"1211.00\",\"inth\":\"1211.00\",\"intl\":\"1210.55\",\"intc\":\"1210.65\",\"intvwap\":\"1212.17\",\"intv\":\"5400\",\"intoi\":\"3600\",\"v\":\"2529000\",\"oi\":\"17014500\"},{\"stat\":\"Ok\",\"time\":\"26-07-2024 14:27:00\",\"ssboe\":\"1721984220\",\"into\":\"1211.35\",\"inth\":\"1211.50\",\"intl\":\"1211.00\",\"intc\":\"1211.50\",\"intvwap\":\"1209.37\",\"intv\":\"9000\",\"intoi\":\"0\",\"v\":\"2523600\",\"oi\":\"17010900\"},{\"stat\":\"Ok\",\"time\":\"26-07-2024 14:26:00\",\"ssboe\":\"1721984160\",\"into\":\"1211.50\",\"inth\":\"1211.50\",\"intl\":\"1211.50\",\"intc\":\"1211.50\",\"intvwap\":\"0.00\",\"intv\":\"0\",\"intoi\":\"0\",\"v\":\"2514600\",\"oi\":\"17010900\"},{\"stat\":\"Ok\",\"time\":\"26-07-2024 14:25:00\",\"ssboe\":\"1721984100\",\"into\":\"1210.40\",\"inth\":\"1211.50\",\"intl\":\"1210.40\",\"intc\":\"1211.50\",\"intvwap\":\"1212.18\",\"intv\":\"2700\",\"intoi\":\"-1800\",\"v\":\"2514600\",\"oi\":\"17010900\"},{\"stat\":\"Ok\",\"time\":\"26-07-2024 14:24:00\",\"ssboe\":\"1721984040\",\"into\":\"1211.35\",\"inth\":\"1211.50\",\"intl\":\"1210.45\",\"intc\":\"1210.45\",\"intvwap\":\"1212.18\",\"intv\":\"5400\",\"intoi\":\"0\",\"v\":\"2511900\",\"oi\":\"17012700\"},{\"stat\":\"Ok\",\"time\":\"26-07-2024 14:23:00\",\"ssboe\":\"1721983980\",\"into\":\"1211.45\",\"inth\":\"1211.50\",\"intl\":\"1211.45\",\"intc\":\"1211.50\",\"intvwap\":\"1212.18\",\"intv\":\"7200\",\"intoi\":\"0\",\"v\":\"2506500\",\"oi\":\"17012700\"},{\"stat\":\"Ok\",\"time\":\"26-07-2024 14:22:00\",\"ssboe\":\"1721983920\",\"into\":\"1211.50\",\"inth\":\"1211.50\",\"intl\":\"1211.50\",\"intc\":\"1211.50\",\"intvwap\":\"1212.18\",\"intv\":\"9000\",\"intoi\":\"-1800\",\"v\":\"2499300\",\"oi\":\"17012700\"},{\"stat\":\"Ok\",\"time\":\"26-07-2024 14:21:00\",\"ssboe\":\"1721983860\",\"into\":\"1211.95\",\"inth\":\"1211.95\",\"intl\":\"1211.15\",\"intc\":\"1211.15\",\"intvwap\":\"1206.65\",\"intv\":\"4500\",\"intoi\":\"0\",\"v\":\"2490300\",\"oi\":\"17014500\"},{\"stat\":\"Ok\",\"time\":\"26-07-2024 14:20:00\",\"ssboe\":\"1721983800\",\"into\":\"1210.75\",\"inth\":\"1211.80\",\"intl\":\"1210.75\",\"intc\":\"1211.80\",\"intvwap\":\"1212.19\",\"intv\":\"4500\",\"intoi\":\"2700\",\"v\":\"2485800\",\"oi\":\"17014500\"},{\"stat\":\"Ok\",\"time\":\"26-07-2024 14:19:00\",\"ssboe\":\"1721983740\",\"into\":\"1210.50\",\"inth\":\"1210.50\",\"intl\":\"1210.50\",\"intc\":\"1210.50\",\"intvwap\":\"0.00\",\"intv\":\"0\",\"intoi\":\"0\",\"v\":\"2481300\",\"oi\":\"17011800\"},{\"stat\":\"Ok\",\"time\":\"26-07-2024 14:18:00\",\"ssboe\":\"1721983680\",\"into\":\"1210.75\",\"inth\":\"1210.80\",\"intl\":\"1210.00\",\"intc\":\"1210.50\",\"intvwap\":\"1212.19\",\"intv\":\"8100\",\"intoi\":\"0\",\"v\":\"2481300\",\"oi\":\"17011800\"},{\"stat\":\"Ok\",\"time\":\"26-07-2024 14:17:00\",\"ssboe\":\"1721983620\",\"into\":\"1210.75\",\"inth\":\"1210.75\",\"intl\":\"1209.85\",\"intc\":\"1210.00\",\"intvwap\":\"1209.45\",\"intv\":\"9000\",\"intoi\":\"-900\",\"v\":\"2473200\",\"oi\":\"17011800\"},{\"stat\":\"Ok\",\"time\":\"26-07-2024 14:16:00\",\"ssboe\":\"1721983560\",\"into\":\"1211.00\",\"inth\":\"1211.00\",\"intl\":\"1211.00\",\"intc\":\"1211.00\",\"intvwap\":\"1212.20\",\"intv\":\"1800\",\"intoi\":\"0\",\"v\":\"2464200\",\"oi\":\"17012700\"},{\"stat\":\"Ok\",\"time\":\"26-07-2024 14:15:00\",\"ssboe\":\"1721983500\",\"into\":\"1211.00\",\"inth\":\"1211.00\",\"intl\":\"1210.70\",\"intc\":\"1210.70\",\"intvwap\":\"1212.20\",\"intv\":\"3600\",\"intoi\":\"0\",\"v\":\"2462400\",\"oi\":\"17012700\"},{\"stat\":\"Ok\",\"time\":\"26-07-2024 14:14:00\",\"ssboe\":\"1721983440\",\"into\":\"1209.95\",\"inth\":\"1210.75\",\"intl\":\"1209.95\",\"intc\":\"1210.75\",\"intvwap\":\"1209.72\",\"intv\":\"9900\",\"intoi\":\"0\",\"v\":\"2458800\",\"oi\":\"17012700\"},{\"stat\":\"Ok\",\"time\":\"26-07-2024 14:13:00\",\"ssboe\":\"1721983380\",\"into\":\"1209.55\",\"inth\":\"1209.75\",\"intl\":\"1209.30\",\"intc\":\"1209.30\",\"intvwap\":\"1203.15\",\"intv\":\"2700\",\"intoi\":\"2700\",\"v\":\"2448900\",\"oi\":\"17012700\"},{\"stat\":\"Ok\",\"time\":\"26-07-2024 14:12:00\",\"ssboe\":\"1721983320\",\"into\":\"1208.75\",\"inth\":\"1209.20\",\"intl\":\"1208.75\",\"intc\":\"1209.20\",\"intvwap\":\"1212.22\",\"intv\":\"1800\",\"intoi\":\"0\",\"v\":\"2446200\",\"oi\":\"17010000\"},{\"stat\":\"Ok\",\"time\":\"26-07-2024 14:11:00\",\"ssboe\":\"1721983260\",\"into\":\"1209.50\",\"inth\":\"1209.50\",\"intl\":\"1209.05\",\"intc\":\"1209.05\",\"intvwap\":\"1212.22\",\"intv\":\"3600\",\"intoi\":\"0\",\"v\":\"2444400\",\"oi\":\"17010000\"},{\"stat\":\"Ok\",\"time\":\"26-07-2024 14:10:00\",\"ssboe\":\"1721983200\",\"into\":\"1209.20\",\"inth\":\"1209.75\",\"intl\":\"1209.20\",\"intc\":\"1209.75\",\"intvwap\":\"1206.80\",\"intv\":\"4500\",\"intoi\":\"-6300\",\"v\":\"2440800\",\"oi\":\"17010000\"},{\"stat\":\"Ok\",\"time\":\"26-07-2024 14:09:00\",\"ssboe\":\"1721983140\",\"into\":\"1208.80\",\"inth\":\"1209.10\",\"intl\":\"1208.80\",\"intc\":\"1209.10\",\"intvwap\":\"1209.23\",\"intv\":\"8100\",\"intoi\":\"0\",\"v\":\"2436300\",\"oi\":\"17016300\"},{\"stat\":\"Ok\",\"time\":\"26-07-2024 14:08:00\",\"ssboe\":\"1721983080\",\"into\":\"1209.00\",\"inth\":\"1209.00\",\"intl\":\"1209.00\",\"intc\":\"1209.00\",\"intvwap\":\"1212.24\",\"intv\":\"900\",\"intoi\":\"0\",\"v\":\"2428200\",\"oi\":\"17016300\"},{\"stat\":\"Ok\",\"time\":\"26-07-2024 14:07:00\",\"ssboe\":\"1721983020\",\"into\":\"1208.90\",\"inth\":\"1209.00\",\"intl\":\"1208.50\",\"intc\":\"1208.90\",\"intvwap\":\"1209.25\",\"intv\":\"8100\",\"intoi\":\"4500\",\"v\":\"2427300\",\"oi\":\"17016300\"},{\"stat\":\"Ok\",\"time\":\"26-07-2024 14:06:00\",\"ssboe\":\"1721982960\",\"into\":\"1207.90\",\"inth\":\"1208.50\",\"intl\":\"1207.25\",\"intc\":\"1208.50\",\"intvwap\":\"1208.90\",\"intv\":\"7200\",\"intoi\":\"0\",\"v\":\"2419200\",\"oi\":\"17011800\"},{\"stat\":\"Ok\",\"time\":\"26-07-2024 14:05:00\",\"ssboe\":\"1721982900\",\"into\":\"1207.80\",\"inth\":\"1208.05\",\"intl\":\"1207.80\",\"intc\":\"1208.05\",\"intvwap\":\"1208.44\",\"intv\":\"6300\",\"intoi\":\"0\",\"v\":\"2412000\",\"oi\":\"17011800\"},{\"stat\":\"Ok\",\"time\":\"26-07-2024 14:04:00\",\"ssboe\":\"1721982840\",\"into\":\"1206.30\",\"inth\":\"1207.00\",\"intl\":\"1206.30\",\"intc\":\"1207.00\",\"intvwap\":\"1205.59\",\"intv\":\"3600\",\"intoi\":\"900\",\"v\":\"2405700\",\"oi\":\"17011800\"},{\"stat\":\"Ok\",\"time\":\"26-07-2024 14:03:00\",\"ssboe\":\"1721982780\",\"into\":\"1206.60\",\"inth\":\"1206.60\",\"intl\":\"1206.60\",\"intc\":\"1206.60\",\"intvwap\":\"1212.28\",\"intv\":\"900\",\"intoi\":\"0\",\"v\":\"2402100\",\"oi\":\"17010900\"},{\"stat\":\"Ok\",\"time\":\"26-07-2024 14:02:00\",\"ssboe\":\"1721982720\",\"into\":\"1206.45\",\"inth\":\"1206.45\",\"intl\":\"1206.45\",\"intc\":\"1206.45\",\"intvwap\":\"1203.39\",\"intv\":\"2700\",\"intoi\":\"0\",\"v\":\"2401200\",\"oi\":\"17010900\"},{\"stat\":\"Ok\",\"time\":\"26-07-2024 14:01:00\",\"ssboe\":\"1721982660\",\"into\":\"1206.30\",\"inth\":\"1206.30\",\"intl\":\"1206.25\",\"intc\":\"1206.25\",\"intvwap\":\"1198.97\",\"intv\":\"1800\",\"intoi\":\"0\",\"v\":\"2398500\",\"oi\":\"17010900\"},{\"stat\":\"Ok\",\"time\":\"26-07-2024 14:00:00\",\"ssboe\":\"1721982600\",\"into\":\"1205.95\",\"inth\":\"1205.95\",\"intl\":\"1205.95\",\"intc\":\"1205.95\",\"intvwap\":\"1212.30\",\"intv\":\"900\",\"intoi\":\"0\",\"v\":\"2396700\",\"oi\":\"17010900\"},{\"stat\":\"Ok\",\"time\":\"26-07-2024 13:59:00\",\"ssboe\":\"1721982540\",\"into\":\"1206.05\",\"inth\":\"1206.05\",\"intl\":\"1206.05\",\"intc\":\"1206.05\",\"intvwap\":\"0.00\",\"intv\":\"0\",\"intoi\":\"0\",\"v\":\"2395800\",\"oi\":\"17010900\"},{\"stat\":\"Ok\",\"time\":\"26-07-2024 13:58:00\",\"ssboe\":\"1721982480\",\"into\":\"1206.45\",\"inth\":\"1206.45\",\"intl\":\"1206.00\",\"intc\":\"1206.05\",\"intvwap\":\"1207.87\",\"intv\":\"5400\",\"intoi\":\"1800\",\"v\":\"2395800\",\"oi\":\"17010900\"},{\"stat\":\"Ok\",\"time\":\"26-07-2024 13:57:00\",\"ssboe\":\"1721982420\",\"into\":\"1206.45\",\"inth\":\"1206.85\",\"intl\":\"1205.10\",\"intc\":\"1206.15\",\"intvwap\":\"1204.76\",\"intv\":\"12600\",\"intoi\":\"0\",\"v\":\"2390400\",\"oi\":\"17009100\"},{\"stat\":\"Ok\",\"time\":\"26-07-2024 13:56:00\",\"ssboe\":\"1721982360\",\"into\":\"1206.65\",\"inth\":\"1206.65\",\"intl\":\"1206.65\",\"intc\":\"1206.65\",\"intvwap\":\"0.00\",\"intv\":\"0\",\"intoi\":\"0\",\"v\":\"2377800\",\"oi\":\"17009100\"},{\"stat\":\"Ok\",\"time\":\"26-07-2024 13:55:00\",\"ssboe\":\"1721982300\",\"into\":\"1206.80\",\"inth\":\"1207.25\",\"intl\":\"1206.00\",\"intc\":\"1206.65\",\"intvwap\":\"1206.74\",\"intv\":\"25200\",\"intoi\":\"2700\",\"v\":\"2377800\",\"oi\":\"17009100\"},{\"stat\":\"Ok\",\"time\":\"26-07-2024 13:54:00\",\"ssboe\":\"1721982240\",\"into\":\"1207.25\",\"inth\":\"1207.25\",\"intl\":\"1207.25\",\"intc\":\"1207.25\",\"intvwap\":\"1212.41\",\"intv\":\"1800\",\"intoi\":\"0\",\"v\":\"2352600\",\"oi\":\"17006400\"},{\"stat\":\"Ok\",\"time\":\"26-07-2024 13:53:00\",\"ssboe\":\"1721982180\",\"into\":\"1207.25\",\"inth\":\"1207.25\",\"intl\":\"1206.75\",\"intc\":\"1206.80\",\"intvwap\":\"1205.31\",\"intv\":\"9900\",\"intoi\":\"0\",\"v\":\"2350800\",\"oi\":\"17006400\"},{\"stat\":\"Ok\",\"time\":\"26-07-2024 13:52:00\",\"ssboe\":\"1721982120\",\"into\":\"1207.00\",\"inth\":\"1207.00\",\"intl\":\"1207.00\",\"intc\":\"1207.00\",\"intvwap\":\"1212.44\",\"intv\":\"900\",\"intoi\":\"900\",\"v\":\"2340900\",\"oi\":\"17006400\"},{\"stat\":\"Ok\",\"time\":\"26-07-2024 13:51:00\",\"ssboe\":\"1721982060\",\"into\":\"1206.90\",\"inth\":\"1207.25\",\"intl\":\"1206.90\",\"intc\":\"1207.25\",\"intvwap\":\"1205.95\",\"intv\":\"3600\",\"intoi\":\"0\",\"v\":\"2340000\",\"oi\":\"17005500\"},{\"stat\":\"Ok\",\"time\":\"26-07-2024 13:50:00\",\"ssboe\":\"1721982000\",\"into\":\"1206.50\",\"inth\":\"1206.50\",\"intl\":\"1206.50\",\"intc\":\"1206.50\",\"intvwap\":\"1212.45\",\"intv\":\"900\",\"intoi\":\"0\",\"v\":\"2336400\",\"oi\":\"17005500\"},{\"stat\":\"Ok\",\"time\":\"26-07-2024 13:49:00\",\"ssboe\":\"1721981940\",\"into\":\"1206.35\",\"inth\":\"1206.35\",\"intl\":\"1206.35\",\"intc\":\"1206.35\",\"intvwap\":\"1212.45\",\"intv\":\"900\",\"intoi\":\"5400\",\"v\":\"2335500\",\"oi\":\"17005500\"},{\"stat\":\"Ok\",\"time\":\"26-07-2024 13:48:00\",\"ssboe\":\"1721981880\",\"into\":\"1206.45\",\"inth\":\"1206.50\",\"intl\":\"1206.45\",\"intc\":\"1206.50\",\"intvwap\":\"1203.81\",\"intv\":\"2700\",\"intoi\":\"0\",\"v\":\"2334600\",\"oi\":\"17000100\"},{\"stat\":\"Ok\",\"time\":\"26-07-2024 13:47:00\",\"ssboe\":\"1721981820\",\"into\":\"1206.00\",\"inth\":\"1206.35\",\"intl\":\"1206.00\",\"intc\":\"1206.35\",\"intvwap\":\"1208.15\",\"intv\":\"5400\",\"intoi\":\"0\",\"v\":\"2331900\",\"oi\":\"17000100\"},{\"stat\":\"Ok\",\"time\":\"26-07-2024 13:46:00\",\"ssboe\":\"1721981760\",\"into\":\"1206.00\",\"inth\":\"1206.00\",\"intl\":\"1205.80\",\"intc\":\"1205.80\",\"intvwap\":\"1199.55\",\"intv\":\"1800\",\"intoi\":\"900\",\"v\":\"2326500\",\"oi\":\"17000100\"},{\"stat\":\"Ok\",\"time\":\"26-07-2024 13:45:00\",\"ssboe\":\"1721981700\",\"into\":\"1205.20\",\"inth\":\"1206.10\",\"intl\":\"1205.20\",\"intc\":\"1206.10\",\"intvwap\":\"1207.32\",\"intv\":\"4500\",\"intoi\":\"0\",\"v\":\"2324700\",\"oi\":\"16999200\"},{\"stat\":\"Ok\",\"time\":\"26-07-2024 13:44:00\",\"ssboe\":\"1721981640\",\"into\":\"1205.70\",\"inth\":\"1205.70\",\"intl\":\"1205.70\",\"intc\":\"1205.70\",\"intvwap\":\"0.00\",\"intv\":\"0\",\"intoi\":\"0\",\"v\":\"2320200\",\"oi\":\"16999200\"},{\"stat\":\"Ok\",\"time\":\"26-07-2024 13:43:00\",\"ssboe\":\"1721981580\",\"into\":\"1205.50\",\"inth\":\"1205.70\",\"intl\":\"1205.50\",\"intc\":\"1205.70\",\"intvwap\":\"1203.90\",\"intv\":\"2700\",\"intoi\":\"0\",\"v\":\"2320200\",\"oi\":\"16999200\"},{\"stat\":\"Ok\",\"time\":\"26-07-2024 13:42:00\",\"ssboe\":\"1721981520\",\"into\":\"1206.00\",\"inth\":\"1206.00\",\"intl\":\"1206.00\",\"intc\":\"1206.00\",\"intvwap\":\"1212.50\",\"intv\":\"900\",\"intoi\":\"0\",\"v\":\"2317500\",\"oi\":\"16999200\"},{\"stat\":\"Ok\",\"time\":\"26-07-2024 13:41:00\",\"ssboe\":\"1721981460\",\"into\":\"1205.50\",\"inth\":\"1205.50\",\"intl\":\"1205.50\",\"intc\":\"1205.50\",\"intvwap\":\"0.00\",\"intv\":\"0\",\"intoi\":\"0\",\"v\":\"2316600\",\"oi\":\"16999200\"},{\"stat\":\"Ok\",\"time\":\"26-07-2024 13:40:00\",\"ssboe\":\"1721981400\",\"into\":\"1205.75\",\"inth\":\"1205.75\",\"intl\":\"1205.50\",\"intc\":\"1205.50\",\"intvwap\":\"1199.64\",\"intv\":\"1800\",\"intoi\":\"-2700\",\"v\":\"2316600\",\"oi\":\"16999200\"},{\"stat\":\"Ok\",\"time\":\"26-07-2024 13:39:00\",\"ssboe\":\"1721981340\",\"into\":\"1206.35\",\"inth\":\"1206.45\",\"intl\":\"1205.95\",\"intc\":\"1206.45\",\"intvwap\":\"1207.37\",\"intv\":\"4500\",\"intoi\":\"0\",\"v\":\"2314800\",\"oi\":\"17001900\"},{\"stat\":\"Ok\",\"time\":\"26-07-2024 13:38:00\",\"ssboe\":\"1721981280\",\"into\":\"1206.00\",\"inth\":\"1206.00\",\"intl\":\"1206.00\",\"intc\":\"1206.00\",\"intvwap\":\"1199.69\",\"intv\":\"1800\",\"intoi\":\"0\",\"v\":\"2310300\",\"oi\":\"17001900\"},{\"stat\":\"Ok\",\"time\":\"26-07-2024 13:37:00\",\"ssboe\":\"1721981220\",\"into\":\"1206.25\",\"inth\":\"1206.25\",\"intl\":\"1206.25\",\"intc\":\"1206.25\",\"intvwap\":\"1212.53\",\"intv\":\"900\",\"intoi\":\"-1800\",\"v\":\"2308500\",\"oi\":\"17001900\"},{\"stat\":\"Ok\",\"time\":\"26-07-2024 13:36:00\",\"ssboe\":\"1721981160\",\"into\":\"1206.30\",\"inth\":\"1206.45\",\"intl\":\"1205.95\",\"intc\":\"1206.45\",\"intvwap\":\"1208.26\",\"intv\":\"5400\",\"intoi\":\"0\",\"v\":\"2307600\",\"oi\":\"17003700\"},{\"stat\":\"Ok\",\"time\":\"26-07-2024 13:35:00\",\"ssboe\":\"1721981100\",\"into\":\"1205.95\",\"inth\":\"1205.95\",\"intl\":\"1205.95\",\"intc\":\"1205.95\",\"intvwap\":\"0.00\",\"intv\":\"0\",\"intoi\":\"0\",\"v\":\"2302200\",\"oi\":\"17003700\"},{\"stat\":\"Ok\",\"time\":\"26-07-2024 13:34:00\",\"ssboe\":\"1721981040\",\"into\":\"1205.95\",\"inth\":\"1205.95\",\"intl\":\"1205.95\",\"intc\":\"1205.95\",\"intvwap\":\"1204.02\",\"intv\":\"2700\",\"intoi\":\"4500\",\"v\":\"2302200\",\"oi\":\"17003700\"},{\"stat\":\"Ok\",\"time\":\"26-07-2024 13:33:00\",\"ssboe\":\"1721980980\",\"into\":\"1205.90\",\"inth\":\"1205.90\",\"intl\":\"1205.90\",\"intc\":\"1205.90\",\"intvwap\":\"0.00\",\"intv\":\"0\",\"intoi\":\"0\",\"v\":\"2299500\",\"oi\":\"16999200\"},{\"stat\":\"Ok\",\"time\":\"26-07-2024 13:32:00\",\"ssboe\":\"1721980920\",\"into\":\"1205.90\",\"inth\":\"1205.90\",\"intl\":\"1205.90\",\"intc\":\"1205.90\",\"intvwap\":\"0.00\",\"intv\":\"0\",\"intoi\":\"0\",\"v\":\"2299500\",\"oi\":\"16999200\"},{\"stat\":\"Ok\",\"time\":\"26-07-2024 13:31:00\",\"ssboe\":\"1721980860\",\"into\":\"1206.10\",\"inth\":\"1206.10\",\"intl\":\"1205.70\",\"intc\":\"1205.90\",\"intvwap\":\"1205.27\",\"intv\":\"6300\",\"intoi\":\"-900\",\"v\":\"2299500\",\"oi\":\"16999200\"},{\"stat\":\"Ok\",\"time\":\"26-07-2024 13:30:00\",\"ssboe\":\"1721980800\",\"into\":\"1206.25\",\"inth\":\"1206.45\",\"intl\":\"1206.25\",\"intc\":\"1206.45\",\"intvwap\":\"1204.08\",\"intv\":\"2700\",\"intoi\":\"0\",\"v\":\"2293200\",\"oi\":\"17000100\"},{\"stat\":\"Ok\",\"time\":\"26-07-2024 13:29:00\",\"ssboe\":\"1721980740\",\"into\":\"1205.75\",\"inth\":\"1205.75\",\"intl\":\"1205.75\",\"intc\":\"1205.75\",\"intvwap\":\"1212.58\",\"intv\":\"900\",\"intoi\":\"0\",\"v\":\"2290500\",\"oi\":\"17000100\"},{\"stat\":\"Ok\",\"time\":\"26-07-2024 13:28:00\",\"ssboe\":\"1721980680\",\"into\":\"1205.50\",\"inth\":\"1205.80\",\"intl\":\"1205.15\",\"intc\":\"1205.80\",\"intvwap\":\"1205.33\",\"intv\":\"6300\",\"intoi\":\"5400\",\"v\":\"2289600\",\"oi\":\"17000100\"},{\"stat\":\"Ok\",\"time\":\"26-07-2024 13:27:00\",\"ssboe\":\"1721980620\",\"into\":\"1206.00\",\"inth\":\"1206.00\",\"intl\":\"1206.00\",\"intc\":\"1206.00\",\"intvwap\":\"1206.98\",\"intv\":\"8100\",\"intoi\":\"0\",\"v\":\"2283300\",\"oi\":\"16994700\"},{\"stat\":\"Ok\",\"time\":\"26-07-2024 13:26:00\",\"ssboe\":\"1721980560\",\"into\":\"1206.00\",\"inth\":\"1206.00\",\"intl\":\"1206.00\",\"intc\":\"1206.00\",\"intvwap\":\"0.00\",\"intv\":\"0\",\"intoi\":\"0\",\"v\":\"2275200\",\"oi\":\"16994700\"},{\"stat\":\"Ok\",\"time\":\"26-07-2024 13:25:00\",\"ssboe\":\"1721980500\",\"into\":\"1205.90\",\"inth\":\"1206.00\",\"intl\":\"1205.90\",\"intc\":\"1206.00\",\"intvwap\":\"1204.20\",\"intv\":\"2700\",\"intoi\":\"-2700\",\"v\":\"2275200\",\"oi\":\"16994700\"},{\"stat\":\"Ok\",\"time\":\"26-07-2024 13:24:00\",\"ssboe\":\"1721980440\",\"into\":\"1206.05\",\"inth\":\"1206.05\",\"intl\":\"1205.50\",\"intc\":\"1205.50\",\"intvwap\":\"1205.43\",\"intv\":\"6300\",\"intoi\":\"0\",\"v\":\"2272500\",\"oi\":\"16997400\"},{\"stat\":\"Ok\",\"time\":\"26-07-2024 13:23:00\",\"ssboe\":\"1721980380\",\"into\":\"1205.75\",\"inth\":\"1205.75\",\"intl\":\"1205.75\",\"intc\":\"1205.75\",\"intvwap\":\"1212.65\",\"intv\":\"900\",\"intoi\":\"0\",\"v\":\"2266200\",\"oi\":\"16997400\"},{\"stat\":\"Ok\",\"time\":\"26-07-2024 13:22:00\",\"ssboe\":\"1721980320\",\"into\":\"1206.45\",\"inth\":\"1206.45\",\"intl\":\"1205.70\",\"intc\":\"1205.70\",\"intvwap\":\"1206.37\",\"intv\":\"7200\",\"intoi\":\"1800\",\"v\":\"2265300\",\"oi\":\"16997400\"},{\"stat\":\"Ok\",\"time\":\"26-07-2024 13:21:00\",\"ssboe\":\"1721980260\",\"into\":\"1206.15\",\"inth\":\"1206.15\",\"intl\":\"1206.05\",\"intc\":\"1206.05\",\"intvwap\":\"1200.13\",\"intv\":\"1800\",\"intoi\":\"0\",\"v\":\"2258100\",\"oi\":\"16995600\"},{\"stat\":\"Ok\",\"time\":\"26-07-2024 13:20:00\",\"ssboe\":\"1721980200\",\"into\":\"1205.80\",\"inth\":\"1205.80\",\"intl\":\"1205.80\",\"intc\":\"1205.80\",\"intvwap\":\"1212.68\",\"intv\":\"1800\",\"intoi\":\"0\",\"v\":\"2256300\",\"oi\":\"16995600\"},{\"stat\":\"Ok\",\"time\":\"26-07-2024 13:19:00\",\"ssboe\":\"1721980140\",\"into\":\"1205.40\",\"inth\":\"1205.40\",\"intl\":\"1205.40\",\"intc\":\"1205.40\",\"intvwap\":\"1187.64\",\"intv\":\"900\",\"intoi\":\"2700\",\"v\":\"2254500\",\"oi\":\"16995600\"},{\"stat\":\"Ok\",\"time\":\"26-07-2024 13:18:00\",\"ssboe\":\"1721980080\",\"into\":\"1205.60\",\"inth\":\"1205.60\",\"intl\":\"1205.60\",\"intc\":\"1205.60\",\"intvwap\":\"1212.69\",\"intv\":\"900\",\"intoi\":\"0\",\"v\":\"2253600\",\"oi\":\"16992900\"},{\"stat\":\"Ok\",\"time\":\"26-07-2024 13:17:00\",\"ssboe\":\"1721980020\",\"into\":\"1205.30\",\"inth\":\"1205.30\",\"intl\":\"1205.20\",\"intc\":\"1205.20\",\"intvwap\":\"1205.55\",\"intv\":\"6300\",\"intoi\":\"0\",\"v\":\"2252700\",\"oi\":\"16992900\"},{\"stat\":\"Ok\",\"time\":\"26-07-2024 13:16:00\",\"ssboe\":\"1721979960\",\"into\":\"1205.00\",\"inth\":\"1205.05\",\"intl\":\"1205.00\",\"intc\":\"1205.00\",\"intvwap\":\"1206.48\",\"intv\":\"3600\",\"intoi\":\"7200\",\"v\":\"2246400\",\"oi\":\"16992900\"},{\"stat\":\"Ok\",\"time\":\"26-07-2024 13:15:00\",\"ssboe\":\"1721979900\",\"into\":\"1205.55\",\"inth\":\"1205.55\",\"intl\":\"1205.10\",\"intc\":\"1205.10\",\"intvwap\":\"1204.44\",\"intv\":\"8100\",\"intoi\":\"0\",\"v\":\"2242800\",\"oi\":\"16985700\"},{\"stat\":\"Ok\",\"time\":\"26-07-2024 13:14:00\",\"ssboe\":\"1721979840\",\"into\":\"1205.15\",\"inth\":\"1205.40\",\"intl\":\"1205.15\",\"intc\":\"1205.40\",\"intvwap\":\"1204.48\",\"intv\":\"2700\",\"intoi\":\"0\",\"v\":\"2234700\",\"oi\":\"16985700\"},{\"stat\":\"Ok\",\"time\":\"26-07-2024 13:13:00\",\"ssboe\":\"1721979780\",\"into\":\"1205.10\",\"inth\":\"1205.10\",\"intl\":\"1205.10\",\"intc\":\"1205.10\",\"intvwap\":\"1204.51\",\"intv\":\"5400\",\"intoi\":\"-1800\",\"v\":\"2232000\",\"oi\":\"16985700\"},{\"stat\":\"Ok\",\"time\":\"26-07-2024 13:12:00\",\"ssboe\":\"1721979720\",\"into\":\"1205.65\",\"inth\":\"1205.65\",\"intl\":\"1205.65\",\"intc\":\"1205.65\",\"intvwap\":\"1212.78\",\"intv\":\"1800\",\"intoi\":\"0\",\"v\":\"2226600\",\"oi\":\"16987500\"},{\"stat\":\"Ok\",\"time\":\"26-07-2024 13:11:00\",\"ssboe\":\"1721979660\",\"into\":\"1205.00\",\"inth\":\"1205.00\",\"intl\":\"1204.60\",\"intc\":\"1205.00\",\"intvwap\":\"1203.83\",\"intv\":\"9900\",\"intoi\":\"0\",\"v\":\"2224800\",\"oi\":\"16987500\"},{\"stat\":\"Ok\",\"time\":\"26-07-2024 13:10:00\",\"ssboe\":\"1721979600\",\"into\":\"1204.90\",\"inth\":\"1205.10\",\"intl\":\"1204.15\",\"intc\":\"1204.20\",\"intvwap\":\"1204.64\",\"intv\":\"8100\",\"intoi\":\"-4500\",\"v\":\"2214900\",\"oi\":\"16987500\"},{\"stat\":\"Ok\",\"time\":\"26-07-2024 13:09:00\",\"ssboe\":\"1721979540\",\"into\":\"1205.15\",\"inth\":\"1205.15\",\"intl\":\"1204.25\",\"intc\":\"1204.25\",\"intvwap\":\"1205.16\",\"intv\":\"17100\",\"intoi\":\"0\",\"v\":\"2206800\",\"oi\":\"16992000\"},{\"stat\":\"Ok\",\"time\":\"26-07-2024 13:08:00\",\"ssboe\":\"1721979480\",\"into\":\"1205.75\",\"inth\":\"1205.75\",\"intl\":\"1205.50\",\"intc\":\"1205.50\",\"intvwap\":\"1204.82\",\"intv\":\"5400\",\"intoi\":\"3600\",\"v\":\"2189700\",\"oi\":\"16992000\"},{\"stat\":\"Ok\",\"time\":\"26-07-2024 13:07:00\",\"ssboe\":\"1721979420\",\"into\":\"1206.10\",\"inth\":\"1206.10\",\"intl\":\"1206.10\",\"intc\":\"1206.10\",\"intvwap\":\"0.00\",\"intv\":\"0\",\"intoi\":\"0\",\"v\":\"2184300\",\"oi\":\"16988400\"},{\"stat\":\"Ok\",\"time\":\"26-07-2024 13:06:00\",\"ssboe\":\"1721979360\",\"into\":\"1206.10\",\"inth\":\"1206.10\",\"intl\":\"1206.10\",\"intc\":\"1206.10\",\"intvwap\":\"1200.80\",\"intv\":\"1800\",\"intoi\":\"0\",\"v\":\"2184300\",\"oi\":\"16988400\"},{\"stat\":\"Ok\",\"time\":\"26-07-2024 13:05:00\",\"ssboe\":\"1721979300\",\"into\":\"1206.55\",\"inth\":\"1206.80\",\"intl\":\"1206.45\",\"intc\":\"1206.45\",\"intvwap\":\"1212.94\",\"intv\":\"2700\",\"intoi\":\"0\",\"v\":\"2182500\",\"oi\":\"16988400\"},{\"stat\":\"Ok\",\"time\":\"26-07-2024 13:04:00\",\"ssboe\":\"1721979240\",\"into\":\"1206.60\",\"inth\":\"1206.70\",\"intl\":\"1206.60\",\"intc\":\"1206.70\",\"intvwap\":\"1204.88\",\"intv\":\"5400\",\"intoi\":\"-900\",\"v\":\"2179800\",\"oi\":\"16988400\"},{\"stat\":\"Ok\",\"time\":\"26-07-2024 13:03:00\",\"ssboe\":\"1721979180\",\"into\":\"1205.95\",\"inth\":\"1205.95\",\"intl\":\"1205.95\",\"intc\":\"1205.95\",\"intvwap\":\"0.00\",\"intv\":\"0\",\"intoi\":\"0\",\"v\":\"2174400\",\"oi\":\"16989300\"},{\"stat\":\"Ok\",\"time\":\"26-07-2024 13:02:00\",\"ssboe\":\"1721979120\",\"into\":\"1206.20\",\"inth\":\"1206.20\",\"intl\":\"1205.95\",\"intc\":\"1205.95\",\"intvwap\":\"1200.89\",\"intv\":\"1800\",\"intoi\":\"8100\",\"v\":\"2174400\",\"oi\":\"16989300\"},{\"stat\":\"Ok\",\"time\":\"26-07-2024 13:01:00\",\"ssboe\":\"1721979060\",\"into\":\"1205.55\",\"inth\":\"1205.55\",\"intl\":\"1205.55\",\"intc\":\"1205.55\",\"intvwap\":\"0.00\",\"intv\":\"0\",\"intoi\":\"0\",\"v\":\"2172600\",\"oi\":\"16981200\"},{\"stat\":\"Ok\",\"time\":\"26-07-2024 13:00:00\",\"ssboe\":\"1721979000\",\"into\":\"1205.60\",\"inth\":\"1206.10\",\"intl\":\"1205.55\",\"intc\":\"1205.55\",\"intvwap\":\"1206.94\",\"intv\":\"3600\",\"intoi\":\"0\",\"v\":\"2172600\",\"oi\":\"16981200\"},{\"stat\":\"Ok\",\"time\":\"26-07-2024 12:59:00\",\"ssboe\":\"1721978940\",\"into\":\"1205.60\",\"inth\":\"1205.70\",\"intl\":\"1205.50\",\"intc\":\"1205.50\",\"intvwap\":\"1207.64\",\"intv\":\"8100\",\"intoi\":\"0\",\"v\":\"2169000\",\"oi\":\"16981200\"},{\"stat\":\"Ok\",\"time\":\"26-07-2024 12:58:00\",\"ssboe\":\"1721978880\",\"into\":\"1205.50\",\"inth\":\"1205.50\",\"intl\":\"1204.95\",\"intc\":\"1204.95\",\"intvwap\":\"1204.02\",\"intv\":\"7200\",\"intoi\":\"6300\",\"v\":\"2160900\",\"oi\":\"16981200\"},{\"stat\":\"Ok\",\"time\":\"26-07-2024 12:57:00\",\"ssboe\":\"1721978820\",\"into\":\"1205.00\",\"inth\":\"1205.45\",\"intl\":\"1205.00\",\"intc\":\"1205.45\",\"intvwap\":\"1203.47\",\"intv\":\"4500\",\"intoi\":\"0\",\"v\":\"2153700\",\"oi\":\"16974900\"},{\"stat\":\"Ok\",\"time\":\"26-07-2024 12:56:00\",\"ssboe\":\"1721978760\",\"into\":\"1204.80\",\"inth\":\"1204.80\",\"intl\":\"1204.80\",\"intc\":\"1204.80\",\"intvwap\":\"1207.10\",\"intv\":\"7200\",\"intoi\":\"0\",\"v\":\"2149200\",\"oi\":\"16974900\"},{\"stat\":\"Ok\",\"time\":\"26-07-2024 12:55:00\",\"ssboe\":\"1721978700\",\"into\":\"1205.15\",\"inth\":\"1205.25\",\"intl\":\"1205.15\",\"intc\":\"1205.25\",\"intvwap\":\"1201.18\",\"intv\":\"1800\",\"intoi\":\"9900\",\"v\":\"2142000\",\"oi\":\"16974900\"},{\"stat\":\"Ok\",\"time\":\"26-07-2024 12:54:00\",\"ssboe\":\"1721978640\",\"into\":\"1205.50\",\"inth\":\"1205.70\",\"intl\":\"1205.50\",\"intc\":\"1205.70\",\"intvwap\":\"1205.16\",\"intv\":\"2700\",\"intoi\":\"0\",\"v\":\"2140200\",\"oi\":\"16965000\"},{\"stat\":\"Ok\",\"time\":\"26-07-2024 12:53:00\",\"ssboe\":\"1721978580\",\"into\":\"1206.00\",\"inth\":\"1206.00\",\"intl\":\"1205.55\",\"intc\":\"1206.00\",\"intvwap\":\"1207.16\",\"intv\":\"3600\",\"intoi\":\"0\",\"v\":\"2137500\",\"oi\":\"16965000\"},{\"stat\":\"Ok\",\"time\":\"26-07-2024 12:52:00\",\"ssboe\":\"1721978520\",\"into\":\"1206.65\",\"inth\":\"1206.95\",\"intl\":\"1206.00\",\"intc\":\"1206.05\",\"intvwap\":\"1206.17\",\"intv\":\"15300\",\"intoi\":\"5400\",\"v\":\"2133900\",\"oi\":\"16965000\"},{\"stat\":\"Ok\",\"time\":\"26-07-2024 12:51:00\",\"ssboe\":\"1721978460\",\"into\":\"1206.60\",\"inth\":\"1206.60\",\"intl\":\"1206.60\",\"intc\":\"1206.60\",\"intvwap\":\"1201.39\",\"intv\":\"1800\",\"intoi\":\"0\",\"v\":\"2118600\",\"oi\":\"16959600\"},{\"stat\":\"Ok\",\"time\":\"26-07-2024 12:50:00\",\"ssboe\":\"1721978400\",\"into\":\"1205.15\",\"inth\":\"1206.10\",\"intl\":\"1205.15\",\"intc\":\"1206.10\",\"intvwap\":\"1208.46\",\"intv\":\"4500\",\"intoi\":\"0\",\"v\":\"2116800\",\"oi\":\"16959600\"},{\"stat\":\"Ok\",\"time\":\"26-07-2024 12:49:00\",\"ssboe\":\"1721978340\",\"into\":\"1205.70\",\"inth\":\"1205.70\",\"intl\":\"1205.45\",\"intc\":\"1205.45\",\"intvwap\":\"1205.35\",\"intv\":\"2700\",\"intoi\":\"4500\",\"v\":\"2112300\",\"oi\":\"16959600\"},{\"stat\":\"Ok\",\"time\":\"26-07-2024 12:48:00\",\"ssboe\":\"1721978280\",\"into\":\"1205.35\",\"inth\":\"1205.75\",\"intl\":\"1205.35\",\"intc\":\"1205.75\",\"intvwap\":\"1205.37\",\"intv\":\"2700\",\"intoi\":\"0\",\"v\":\"2109600\",\"oi\":\"16955100\"},{\"stat\":\"Ok\",\"time\":\"26-07-2024 12:47:00\",\"ssboe\":\"1721978220\",\"into\":\"1205.55\",\"inth\":\"1205.90\",\"intl\":\"1205.15\",\"intc\":\"1205.15\",\"intvwap\":\"1203.18\",\"intv\":\"6300\",\"intoi\":\"0\",\"v\":\"2106900\",\"oi\":\"16955100\"},{\"stat\":\"Ok\",\"time\":\"26-07-2024 12:46:00\",\"ssboe\":\"1721978160\",\"into\":\"1206.25\",\"inth\":\"1206.25\",\"intl\":\"1206.00\",\"intc\":\"1206.00\",\"intvwap\":\"1208.56\",\"intv\":\"4500\",\"intoi\":\"2700\",\"v\":\"2100600\",\"oi\":\"16955100\"},{\"stat\":\"Ok\",\"time\":\"26-07-2024 12:45:00\",\"ssboe\":\"1721978100\",\"into\":\"1206.45\",\"inth\":\"1206.45\",\"intl\":\"1206.45\",\"intc\":\"1206.45\",\"intvwap\":\"1213.23\",\"intv\":\"900\",\"intoi\":\"0\",\"v\":\"2096100\",\"oi\":\"16952400\"},{\"stat\":\"Ok\",\"time\":\"26-07-2024 12:44:00\",\"ssboe\":\"1721978040\",\"into\":\"1206.25\",\"inth\":\"1206.70\",\"intl\":\"1206.25\",\"intc\":\"1206.70\",\"intvwap\":\"1203.93\",\"intv\":\"4500\",\"intoi\":\"0\",\"v\":\"2095200\",\"oi\":\"16952400\"},{\"stat\":\"Ok\",\"time\":\"26-07-2024 12:43:00\",\"ssboe\":\"1721977980\",\"into\":\"1206.65\",\"inth\":\"1206.65\",\"intl\":\"1206.65\",\"intc\":\"1206.65\",\"intvwap\":\"1213.25\",\"intv\":\"900\",\"intoi\":\"1800\",\"v\":\"2090700\",\"oi\":\"16952400\"},{\"stat\":\"Ok\",\"time\":\"26-07-2024 12:42:00\",\"ssboe\":\"1721977920\",\"into\":\"1206.65\",\"inth\":\"1206.70\",\"intl\":\"1206.65\",\"intc\":\"1206.65\",\"intvwap\":\"1207.45\",\"intv\":\"3600\",\"intoi\":\"0\",\"v\":\"2089800\",\"oi\":\"16950600\"},{\"stat\":\"Ok\",\"time\":\"26-07-2024 12:41:00\",\"ssboe\":\"1721977860\",\"into\":\"1206.65\",\"inth\":\"1206.65\",\"intl\":\"1205.70\",\"intc\":\"1206.25\",\"intvwap\":\"1205.55\",\"intv\":\"5400\",\"intoi\":\"0\",\"v\":\"2086200\",\"oi\":\"16950600\"},{\"stat\":\"Ok\",\"time\":\"26-07-2024 12:40:00\",\"ssboe\":\"1721977800\",\"into\":\"1206.50\",\"inth\":\"1206.50\",\"intl\":\"1206.50\",\"intc\":\"1206.50\",\"intvwap\":\"1201.73\",\"intv\":\"1800\",\"intoi\":\"-4500\",\"v\":\"2080800\",\"oi\":\"16950600\"},{\"stat\":\"Ok\",\"time\":\"26-07-2024 12:39:00\",\"ssboe\":\"1721977740\",\"into\":\"1206.00\",\"inth\":\"1207.00\",\"intl\":\"1206.00\",\"intc\":\"1206.65\",\"intvwap\":\"1206.39\",\"intv\":\"9000\",\"intoi\":\"0\",\"v\":\"2079000\",\"oi\":\"16955100\"},{\"stat\":\"Ok\",\"time\":\"26-07-2024 12:38:00\",\"ssboe\":\"1721977680\",\"into\":\"1205.70\",\"inth\":\"1206.50\",\"intl\":\"1205.70\",\"intc\":\"1206.15\",\"intvwap\":\"1206.45\",\"intv\":\"9000\",\"intoi\":\"0\",\"v\":\"2070000\",\"oi\":\"16955100\"},{\"stat\":\"Ok\",\"time\":\"26-07-2024 12:37:00\",\"ssboe\":\"1721977620\",\"into\":\"1205.55\",\"inth\":\"1205.55\",\"intl\":\"1205.55\",\"intc\":\"1205.55\",\"intvwap\":\"1205.72\",\"intv\":\"2700\",\"intoi\":\"-6300\",\"v\":\"2061000\",\"oi\":\"16955100\"},{\"stat\":\"Ok\",\"time\":\"26-07-2024 12:36:00\",\"ssboe\":\"1721977560\",\"into\":\"1205.80\",\"inth\":\"1205.85\",\"intl\":\"1205.55\",\"intc\":\"1205.85\",\"intvwap\":\"1206.84\",\"intv\":\"6300\",\"intoi\":\"0\",\"v\":\"2058300\",\"oi\":\"16961400\"},{\"stat\":\"Ok\",\"time\":\"26-07-2024 12:35:00\",\"ssboe\":\"1721977500\",\"into\":\"1205.85\",\"inth\":\"1206.15\",\"intl\":\"1205.85\",\"intc\":\"1206.15\",\"intvwap\":\"1205.82\",\"intv\":\"10800\",\"intoi\":\"0\",\"v\":\"2052000\",\"oi\":\"16961400\"},{\"stat\":\"Ok\",\"time\":\"26-07-2024 12:34:00\",\"ssboe\":\"1721977440\",\"into\":\"1206.00\",\"inth\":\"1206.00\",\"intl\":\"1206.00\",\"intc\":\"1206.00\",\"intvwap\":\"1202.09\",\"intv\":\"1800\",\"intoi\":\"9900\",\"v\":\"2041200\",\"oi\":\"16961400\"},{\"stat\":\"Ok\",\"time\":\"26-07-2024 12:33:00\",\"ssboe\":\"1721977380\",\"into\":\"1206.65\",\"inth\":\"1206.65\",\"intl\":\"1205.45\",\"intc\":\"1205.75\",\"intvwap\":\"1205.91\",\"intv\":\"10800\",\"intoi\":\"0\",\"v\":\"2039400\",\"oi\":\"16951500\"},{\"stat\":\"Ok\",\"time\":\"26-07-2024 12:32:00\",\"ssboe\":\"1721977320\",\"into\":\"1206.90\",\"inth\":\"1206.95\",\"intl\":\"1206.00\",\"intc\":\"1206.00\",\"intvwap\":\"1207.05\",\"intv\":\"6300\",\"intoi\":\"0\",\"v\":\"2028600\",\"oi\":\"16951500\"},{\"stat\":\"Ok\",\"time\":\"26-07-2024 12:31:00\",\"ssboe\":\"1721977260\",\"into\":\"1206.00\",\"inth\":\"1206.30\",\"intl\":\"1205.40\",\"intc\":\"1206.30\",\"intvwap\":\"1205.67\",\"intv\":\"30600\",\"intoi\":\"-1800\",\"v\":\"2022300\",\"oi\":\"16951500\"},{\"stat\":\"Ok\",\"time\":\"26-07-2024 12:30:00\",\"ssboe\":\"1721977200\",\"into\":\"1204.60\",\"inth\":\"1205.25\",\"intl\":\"1204.60\",\"intc\":\"1205.25\",\"intvwap\":\"1205.14\",\"intv\":\"11700\",\"intoi\":\"0\",\"v\":\"1991700\",\"oi\":\"16953300\"},{\"stat\":\"Ok\",\"time\":\"26-07-2024 12:29:00\",\"ssboe\":\"1721977140\",\"into\":\"1205.30\",\"inth\":\"1205.30\",\"intl\":\"1205.00\",\"intc\":\"1205.00\",\"intvwap\":\"1208.17\",\"intv\":\"3600\",\"intoi\":\"0\",\"v\":\"1980000\",\"oi\":\"16953300\"},{\"stat\":\"Ok\",\"time\":\"26-07-2024 12:28:00\",\"ssboe\":\"1721977080\",\"into\":\"1206.00\",\"inth\":\"1206.00\",\"intl\":\"1205.95\",\"intc\":\"1205.95\",\"intvwap\":\"1206.37\",\"intv\":\"5400\",\"intoi\":\"-21600\",\"v\":\"1976400\",\"oi\":\"16953300\"},{\"stat\":\"Ok\",\"time\":\"26-07-2024 12:27:00\",\"ssboe\":\"1721977020\",\"into\":\"1206.20\",\"inth\":\"1206.45\",\"intl\":\"1206.00\",\"intc\":\"1206.45\",\"intvwap\":\"1204.95\",\"intv\":\"4500\",\"intoi\":\"0\",\"v\":\"1971000\",\"oi\":\"16974900\"},{\"stat\":\"Ok\",\"time\":\"26-07-2024 12:26:00\",\"ssboe\":\"1721976960\",\"into\":\"1206.00\",\"inth\":\"1206.65\",\"intl\":\"1206.00\",\"intc\":\"1206.60\",\"intvwap\":\"1206.93\",\"intv\":\"14400\",\"intoi\":\"0\",\"v\":\"1966500\",\"oi\":\"16974900\"},{\"stat\":\"Ok\",\"time\":\"26-07-2024 12:25:00\",\"ssboe\":\"1721976900\",\"into\":\"1207.55\",\"inth\":\"1207.55\",\"intl\":\"1205.80\",\"intc\":\"1206.40\",\"intvwap\":\"1206.03\",\"intv\":\"39600\",\"intoi\":\"0\",\"v\":\"1952100\",\"oi\":\"16974900\"},{\"stat\":\"Ok\",\"time\":\"26-07-2024 12:24:00\",\"ssboe\":\"1721976840\",\"into\":\"1209.35\",\"inth\":\"1209.35\",\"intl\":\"1207.25\",\"intc\":\"1207.25\",\"intvwap\":\"1208.57\",\"intv\":\"35100\",\"intoi\":\"26100\",\"v\":\"1912500\",\"oi\":\"16974900\"},{\"stat\":\"Ok\",\"time\":\"26-07-2024 12:23:00\",\"ssboe\":\"1721976780\",\"into\":\"1209.85\",\"inth\":\"1209.85\",\"intl\":\"1209.00\",\"intc\":\"1209.05\",\"intvwap\":\"1209.86\",\"intv\":\"9000\",\"intoi\":\"0\",\"v\":\"1877400\",\"oi\":\"16948800\"},{\"stat\":\"Ok\",\"time\":\"26-07-2024 12:22:00\",\"ssboe\":\"1721976720\",\"into\":\"1209.30\",\"inth\":\"1209.30\",\"intl\":\"1209.00\",\"intc\":\"1209.00\",\"intvwap\":\"1205.75\",\"intv\":\"4500\",\"intoi\":\"9000\",\"v\":\"1868400\",\"oi\":\"16948800\"},{\"stat\":\"Ok\",\"time\":\"26-07-2024 12:21:00\",\"ssboe\":\"1721976660\",\"into\":\"1209.15\",\"inth\":\"1209.35\",\"intl\":\"1209.10\",\"intc\":\"1209.35\",\"intvwap\":\"1211.11\",\"intv\":\"6300\",\"intoi\":\"0\",\"v\":\"1863900\",\"oi\":\"16939800\"},{\"stat\":\"Ok\",\"time\":\"26-07-2024 12:20:00\",\"ssboe\":\"1721976600\",\"into\":\"1210.45\",\"inth\":\"1210.50\",\"intl\":\"1209.25\",\"intc\":\"1209.80\",\"intvwap\":\"1209.58\",\"intv\":\"40500\",\"intoi\":\"0\",\"v\":\"1857600\",\"oi\":\"16939800\"},{\"stat\":\"Ok\",\"time\":\"26-07-2024 12:19:00\",\"ssboe\":\"1721976540\",\"into\":\"1210.50\",\"inth\":\"1210.50\",\"intl\":\"1210.50\",\"intc\":\"1210.50\",\"intvwap\":\"1214.17\",\"intv\":\"1800\",\"intoi\":\"1800\",\"v\":\"1817100\",\"oi\":\"16939800\"},{\"stat\":\"Ok\",\"time\":\"26-07-2024 12:18:00\",\"ssboe\":\"1721976480\",\"into\":\"1211.60\",\"inth\":\"1211.60\",\"intl\":\"1210.65\",\"intc\":\"1210.65\",\"intvwap\":\"1211.29\",\"intv\":\"6300\",\"intoi\":\"0\",\"v\":\"1815300\",\"oi\":\"16938000\"},{\"stat\":\"Ok\",\"time\":\"26-07-2024 12:17:00\",\"ssboe\":\"1721976420\",\"into\":\"1211.45\",\"inth\":\"1211.45\",\"intl\":\"1211.00\",\"intc\":\"1211.00\",\"intvwap\":\"1211.31\",\"intv\":\"6300\",\"intoi\":\"0\",\"v\":\"1809000\",\"oi\":\"16938000\"},{\"stat\":\"Ok\",\"time\":\"26-07-2024 12:16:00\",\"ssboe\":\"1721976360\",\"into\":\"1211.00\",\"inth\":\"1211.65\",\"intl\":\"1210.95\",\"intc\":\"1211.65\",\"intvwap\":\"1209.19\",\"intv\":\"3600\",\"intoi\":\"0\",\"v\":\"1802700\",\"oi\":\"16938000\"},{\"stat\":\"Ok\",\"time\":\"26-07-2024 12:15:00\",\"ssboe\":\"1721976300\",\"into\":\"1210.65\",\"inth\":\"1210.85\",\"intl\":\"1210.65\",\"intc\":\"1210.85\",\"intvwap\":\"1214.20\",\"intv\":\"1800\",\"intoi\":\"-3600\",\"v\":\"1799100\",\"oi\":\"16938000\"},{\"stat\":\"Ok\",\"time\":\"26-07-2024 12:14:00\",\"ssboe\":\"1721976240\",\"into\":\"1211.70\",\"inth\":\"1211.70\",\"intl\":\"1210.90\",\"intc\":\"1210.90\",\"intvwap\":\"1211.35\",\"intv\":\"6300\",\"intoi\":\"0\",\"v\":\"1797300\",\"oi\":\"16941600\"},{\"stat\":\"Ok\",\"time\":\"26-07-2024 12:13:00\",\"ssboe\":\"1721976180\",\"into\":\"1213.45\",\"inth\":\"1213.45\",\"intl\":\"1212.00\",\"intc\":\"1212.00\",\"intvwap\":\"1211.37\",\"intv\":\"6300\",\"intoi\":\"1800\",\"v\":\"1791000\",\"oi\":\"16941600\"},{\"stat\":\"Ok\",\"time\":\"26-07-2024 12:12:00\",\"ssboe\":\"1721976120\",\"into\":\"1213.95\",\"inth\":\"1213.95\",\"intl\":\"1213.95\",\"intc\":\"1213.95\",\"intvwap\":\"1214.22\",\"intv\":\"2700\",\"intoi\":\"0\",\"v\":\"1784700\",\"oi\":\"16939800\"},{\"stat\":\"Ok\",\"time\":\"26-07-2024 12:11:00\",\"ssboe\":\"1721976060\",\"into\":\"1213.80\",\"inth\":\"1213.80\",\"intl\":\"1213.20\",\"intc\":\"1213.20\",\"intvwap\":\"1214.22\",\"intv\":\"6300\",\"intoi\":\"900\",\"v\":\"1782000\",\"oi\":\"16939800\"},{\"stat\":\"Ok\",\"time\":\"26-07-2024 12:10:00\",\"ssboe\":\"1721976000\",\"into\":\"1212.45\",\"inth\":\"1212.45\",\"intl\":\"1212.45\",\"intc\":\"1212.45\",\"intvwap\":\"0.00\",\"intv\":\"0\",\"intoi\":\"0\",\"v\":\"1775700\",\"oi\":\"16938900\"},{\"stat\":\"Ok\",\"time\":\"26-07-2024 12:09:00\",\"ssboe\":\"1721975940\",\"into\":\"1213.05\",\"inth\":\"1213.05\",\"intl\":\"1212.45\",\"intc\":\"1212.45\",\"intvwap\":\"1214.22\",\"intv\":\"4500\",\"intoi\":\"0\",\"v\":\"1775700\",\"oi\":\"16938900\"},{\"stat\":\"Ok\",\"time\":\"26-07-2024 12:08:00\",\"ssboe\":\"1721975880\",\"into\":\"1212.65\",\"inth\":\"1213.40\",\"intl\":\"1212.30\",\"intc\":\"1213.00\",\"intvwap\":\"1212.16\",\"intv\":\"17100\",\"intoi\":\"0\",\"v\":\"1771200\",\"oi\":\"16938900\"},{\"stat\":\"Ok\",\"time\":\"26-07-2024 12:07:00\",\"ssboe\":\"1721975820\",\"into\":\"1212.15\",\"inth\":\"1212.50\",\"intl\":\"1212.15\",\"intc\":\"1212.50\",\"intvwap\":\"1214.24\",\"intv\":\"6300\",\"intoi\":\"0\",\"v\":\"1754100\",\"oi\":\"16938900\"},{\"stat\":\"Ok\",\"time\":\"26-07-2024 12:06:00\",\"ssboe\":\"1721975760\",\"into\":\"1213.00\",\"inth\":\"1213.20\",\"intl\":\"1212.25\",\"intc\":\"1212.25\",\"intvwap\":\"1212.31\",\"intv\":\"18000\",\"intoi\":\"4500\",\"v\":\"1747800\",\"oi\":\"16938900\"},{\"stat\":\"Ok\",\"time\":\"26-07-2024 12:05:00\",\"ssboe\":\"1721975700\",\"into\":\"1212.75\",\"inth\":\"1212.75\",\"intl\":\"1212.70\",\"intc\":\"1212.70\",\"intvwap\":\"1214.26\",\"intv\":\"2700\",\"intoi\":\"0\",\"v\":\"1729800\",\"oi\":\"16934400\"},{\"stat\":\"Ok\",\"time\":\"26-07-2024 12:04:00\",\"ssboe\":\"1721975640\",\"into\":\"1212.80\",\"inth\":\"1212.90\",\"intl\":\"1212.45\",\"intc\":\"1212.70\",\"intvwap\":\"1211.52\",\"intv\":\"6300\",\"intoi\":\"0\",\"v\":\"1727100\",\"oi\":\"16934400\"},{\"stat\":\"Ok\",\"time\":\"26-07-2024 12:03:00\",\"ssboe\":\"1721975580\",\"into\":\"1212.65\",\"inth\":\"1212.65\",\"intl\":\"1212.65\",\"intc\":\"1212.65\",\"intvwap\":\"1214.27\",\"intv\":\"1800\",\"intoi\":\"3600\",\"v\":\"1720800\",\"oi\":\"16934400\"},{\"stat\":\"Ok\",\"time\":\"26-07-2024 12:02:00\",\"ssboe\":\"1721975520\",\"into\":\"1212.50\",\"inth\":\"1212.50\",\"intl\":\"1212.50\",\"intc\":\"1212.50\",\"intvwap\":\"1214.27\",\"intv\":\"1800\",\"intoi\":\"0\",\"v\":\"1719000\",\"oi\":\"16930800\"},{\"stat\":\"Ok\",\"time\":\"26-07-2024 12:01:00\",\"ssboe\":\"1721975460\",\"into\":\"1213.25\",\"inth\":\"1213.25\",\"intl\":\"1212.75\",\"intc\":\"1212.85\",\"intvwap\":\"1212.54\",\"intv\":\"9900\",\"intoi\":\"1800\",\"v\":\"1717200\",\"oi\":\"16930800\"},{\"stat\":\"Ok\",\"time\":\"26-07-2024 12:00:00\",\"ssboe\":\"1721975400\",\"into\":\"1213.35\",\"inth\":\"1213.45\",\"intl\":\"1213.35\",\"intc\":\"1213.45\",\"intvwap\":\"1214.28\",\"intv\":\"2700\",\"intoi\":\"0\",\"v\":\"1707300\",\"oi\":\"16929000\"},{\"stat\":\"Ok\",\"time\":\"26-07-2024 11:59:00\",\"ssboe\":\"1721975340\",\"into\":\"1213.80\",\"inth\":\"1213.85\",\"intl\":\"1213.55\",\"intc\":\"1213.85\",\"intvwap\":\"1214.28\",\"intv\":\"7200\",\"intoi\":\"0\",\"v\":\"1704600\",\"oi\":\"16929000\"},{\"stat\":\"Ok\",\"time\":\"26-07-2024 11:58:00\",\"ssboe\":\"1721975280\",\"into\":\"1214.20\",\"inth\":\"1214.20\",\"intl\":\"1213.35\",\"intc\":\"1213.45\",\"intvwap\":\"1214.28\",\"intv\":\"4500\",\"intoi\":\"-900\",\"v\":\"1697400\",\"oi\":\"16929000\"},{\"stat\":\"Ok\",\"time\":\"26-07-2024 11:57:00\",\"ssboe\":\"1721975220\",\"into\":\"1214.65\",\"inth\":\"1214.70\",\"intl\":\"1214.00\",\"intc\":\"1214.40\",\"intvwap\":\"1214.28\",\"intv\":\"4500\",\"intoi\":\"0\",\"v\":\"1692900\",\"oi\":\"16929900\"},{\"stat\":\"Ok\",\"time\":\"26-07-2024 11:56:00\",\"ssboe\":\"1721975160\",\"into\":\"1214.90\",\"inth\":\"1214.90\",\"intl\":\"1214.90\",\"intc\":\"1214.90\",\"intvwap\":\"1214.28\",\"intv\":\"900\",\"intoi\":\"0\",\"v\":\"1688400\",\"oi\":\"16929900\"},{\"stat\":\"Ok\",\"time\":\"26-07-2024 11:55:00\",\"ssboe\":\"1721975100\",\"into\":\"1216.20\",\"inth\":\"1216.20\",\"intl\":\"1215.05\",\"intc\":\"1215.05\",\"intvwap\":\"1214.28\",\"intv\":\"3600\",\"intoi\":\"6300\",\"v\":\"1687500\",\"oi\":\"16929900\"},{\"stat\":\"Ok\",\"time\":\"26-07-2024 11:54:00\",\"ssboe\":\"1721975040\",\"into\":\"1216.40\",\"inth\":\"1217.00\",\"intl\":\"1216.40\",\"intc\":\"1217.00\",\"intvwap\":\"1214.28\",\"intv\":\"1800\",\"intoi\":\"0\",\"v\":\"1683900\",\"oi\":\"16923600\"},{\"stat\":\"Ok\",\"time\":\"26-07-2024 11:53:00\",\"ssboe\":\"1721974980\",\"into\":\"1215.70\",\"inth\":\"1215.70\",\"intl\":\"1215.60\",\"intc\":\"1215.60\",\"intvwap\":\"1214.28\",\"intv\":\"1800\",\"intoi\":\"0\",\"v\":\"1682100\",\"oi\":\"16923600\"},{\"stat\":\"Ok\",\"time\":\"26-07-2024 11:52:00\",\"ssboe\":\"1721974920\",\"into\":\"1215.00\",\"inth\":\"1216.55\",\"intl\":\"1214.60\",\"intc\":\"1216.50\",\"intvwap\":\"1215.86\",\"intv\":\"41400\",\"intoi\":\"-1800\",\"v\":\"1680300\",\"oi\":\"16923600\"},{\"stat\":\"Ok\",\"time\":\"26-07-2024 11:51:00\",\"ssboe\":\"1721974860\",\"into\":\"1213.75\",\"inth\":\"1214.50\",\"intl\":\"1213.75\",\"intc\":\"1214.50\",\"intvwap\":\"1214.24\",\"intv\":\"3600\",\"intoi\":\"0\",\"v\":\"1638900\",\"oi\":\"16925400\"},{\"stat\":\"Ok\",\"time\":\"26-07-2024 11:50:00\",\"ssboe\":\"1721974800\",\"into\":\"1214.30\",\"inth\":\"1214.30\",\"intl\":\"1213.80\",\"intc\":\"1214.00\",\"intvwap\":\"1214.24\",\"intv\":\"3600\",\"intoi\":\"0\",\"v\":\"1635300\",\"oi\":\"16925400\"},{\"stat\":\"Ok\",\"time\":\"26-07-2024 11:49:00\",\"ssboe\":\"1721974740\",\"into\":\"1213.50\",\"inth\":\"1214.50\",\"intl\":\"1213.50\",\"intc\":\"1214.50\",\"intvwap\":\"1214.24\",\"intv\":\"7200\",\"intoi\":\"0\",\"v\":\"1631700\",\"oi\":\"16925400\"},{\"stat\":\"Ok\",\"time\":\"26-07-2024 11:48:00\",\"ssboe\":\"1721974680\",\"into\":\"1214.10\",\"inth\":\"1214.95\",\"intl\":\"1212.50\",\"intc\":\"1214.95\",\"intvwap\":\"1213.68\",\"intv\":\"28800\",\"intoi\":\"900\",\"v\":\"1624500\",\"oi\":\"16925400\"},{\"stat\":\"Ok\",\"time\":\"26-07-2024 11:47:00\",\"ssboe\":\"1721974620\",\"into\":\"1214.10\",\"inth\":\"1214.10\",\"intl\":\"1214.05\",\"intc\":\"1214.05\",\"intvwap\":\"1214.25\",\"intv\":\"1800\",\"intoi\":\"0\",\"v\":\"1595700\",\"oi\":\"16924500\"},{\"stat\":\"Ok\",\"time\":\"26-07-2024 11:46:00\",\"ssboe\":\"1721974560\",\"into\":\"1214.45\",\"inth\":\"1214.45\",\"intl\":\"1214.45\",\"intc\":\"1214.45\",\"intvwap\":\"1214.25\",\"intv\":\"900\",\"intoi\":\"900\",\"v\":\"1593900\",\"oi\":\"16924500\"},{\"stat\":\"Ok\",\"time\":\"26-07-2024 11:45:00\",\"ssboe\":\"1721974500\",\"into\":\"1214.45\",\"inth\":\"1214.45\",\"intl\":\"1214.45\",\"intc\":\"1214.45\",\"intvwap\":\"1214.25\",\"intv\":\"900\",\"intoi\":\"0\",\"v\":\"1593000\",\"oi\":\"16923600\"},{\"stat\":\"Ok\",\"time\":\"26-07-2024 11:44:00\",\"ssboe\":\"1721974440\",\"into\":\"1214.15\",\"inth\":\"1214.15\",\"intl\":\"1214.15\",\"intc\":\"1214.15\",\"intvwap\":\"1214.25\",\"intv\":\"900\",\"intoi\":\"0\",\"v\":\"1592100\",\"oi\":\"16923600\"},{\"stat\":\"Ok\",\"time\":\"26-07-2024 11:43:00\",\"ssboe\":\"1721974380\",\"into\":\"1215.50\",\"inth\":\"1215.80\",\"intl\":\"1214.85\",\"intc\":\"1214.85\",\"intvwap\":\"1214.25\",\"intv\":\"4500\",\"intoi\":\"0\",\"v\":\"1591200\",\"oi\":\"16923600\"},{\"stat\":\"Ok\",\"time\":\"26-07-2024 11:42:00\",\"ssboe\":\"1721974320\",\"into\":\"1215.80\",\"inth\":\"1215.80\",\"intl\":\"1215.80\",\"intc\":\"1215.80\",\"intvwap\":\"1214.25\",\"intv\":\"900\",\"intoi\":\"0\",\"v\":\"1586700\",\"oi\":\"16923600\"},{\"stat\":\"Ok\",\"time\":\"26-07-2024 11:41:00\",\"ssboe\":\"1721974260\",\"into\":\"1216.15\",\"inth\":\"1216.75\",\"intl\":\"1215.80\",\"intc\":\"1215.80\",\"intvwap\":\"1216.75\",\"intv\":\"6300\",\"intoi\":\"0\",\"v\":\"1585800\",\"oi\":\"16923600\"},{\"stat\":\"Ok\",\"time\":\"26-07-2024 11:40:00\",\"ssboe\":\"1721974200\",\"into\":\"1217.00\",\"inth\":\"1217.00\",\"intl\":\"1216.55\",\"intc\":\"1216.55\",\"intvwap\":\"1214.24\",\"intv\":\"1800\",\"intoi\":\"-8100\",\"v\":\"1579500\",\"oi\":\"16923600\"},{\"stat\":\"Ok\",\"time\":\"26-07-2024 11:39:00\",\"ssboe\":\"1721974140\",\"into\":\"1217.20\",\"inth\":\"1217.75\",\"intl\":\"1216.45\",\"intc\":\"1216.45\",\"intvwap\":\"1217.72\",\"intv\":\"9000\",\"intoi\":\"0\",\"v\":\"1577700\",\"oi\":\"16931700\"},{\"stat\":\"Ok\",\"time\":\"26-07-2024 11:38:00\",\"ssboe\":\"1721974080\",\"into\":\"1215.00\",\"inth\":\"1217.15\",\"intl\":\"1215.00\",\"intc\":\"1216.30\",\"intvwap\":\"1215.86\",\"intv\":\"18900\",\"intoi\":\"0\",\"v\":\"1568700\",\"oi\":\"16931700\"},{\"stat\":\"Ok\",\"time\":\"26-07-2024 11:37:00\",\"ssboe\":\"1721974020\",\"into\":\"1214.90\",\"inth\":\"1215.25\",\"intl\":\"1214.90\",\"intc\":\"1215.25\",\"intvwap\":\"1215.75\",\"intv\":\"9900\",\"intoi\":\"0\",\"v\":\"1549800\",\"oi\":\"16931700\"},{\"stat\":\"Ok\",\"time\":\"26-07-2024 11:36:00\",\"ssboe\":\"1721973960\",\"into\":\"1213.50\",\"inth\":\"1213.50\",\"intl\":\"1213.50\",\"intc\":\"1213.50\",\"intvwap\":\"1214.19\",\"intv\":\"1800\",\"intoi\":\"-900\",\"v\":\"1539900\",\"oi\":\"16931700\"},{\"stat\":\"Ok\",\"time\":\"26-07-2024 11:35:00\",\"ssboe\":\"1721973900\",\"into\":\"1212.90\",\"inth\":\"1212.90\",\"intl\":\"1212.90\",\"intc\":\"1212.90\",\"intvwap\":\"1214.19\",\"intv\":\"1800\",\"intoi\":\"0\",\"v\":\"1538100\",\"oi\":\"16932600\"},{\"stat\":\"Ok\",\"time\":\"26-07-2024 11:34:00\",\"ssboe\":\"1721973840\",\"into\":\"1213.65\",\"inth\":\"1213.65\",\"intl\":\"1212.50\",\"intc\":\"1212.50\",\"intvwap\":\"1212.06\",\"intv\":\"7200\",\"intoi\":\"2700\",\"v\":\"1536300\",\"oi\":\"16932600\"},{\"stat\":\"Ok\",\"time\":\"26-07-2024 11:33:00\",\"ssboe\":\"1721973780\",\"into\":\"1212.85\",\"inth\":\"1213.70\",\"intl\":\"1212.85\",\"intc\":\"1213.70\",\"intvwap\":\"1214.20\",\"intv\":\"1800\",\"intoi\":\"0\",\"v\":\"1529100\",\"oi\":\"16929900\"},{\"stat\":\"Ok\",\"time\":\"26-07-2024 11:32:00\",\"ssboe\":\"1721973720\",\"into\":\"1212.75\",\"inth\":\"1213.00\",\"intl\":\"1212.65\",\"intc\":\"1213.00\",\"intvwap\":\"1211.38\",\"intv\":\"5400\",\"intoi\":\"0\",\"v\":\"1527300\",\"oi\":\"16929900\"},{\"stat\":\"Ok\",\"time\":\"26-07-2024 11:31:00\",\"ssboe\":\"1721973660\",\"into\":\"1213.20\",\"inth\":\"1213.20\",\"intl\":\"1213.20\",\"intc\":\"1213.20\",\"intvwap\":\"1214.21\",\"intv\":\"1800\",\"intoi\":\"4500\",\"v\":\"1521900\",\"oi\":\"16929900\"},{\"stat\":\"Ok\",\"time\":\"26-07-2024 11:30:00\",\"ssboe\":\"1721973600\",\"into\":\"1213.30\",\"inth\":\"1213.80\",\"intl\":\"1213.30\",\"intc\":\"1213.80\",\"intvwap\":\"1214.21\",\"intv\":\"14400\",\"intoi\":\"0\",\"v\":\"1520100\",\"oi\":\"16925400\"},{\"stat\":\"Ok\",\"time\":\"26-07-2024 11:29:00\",\"ssboe\":\"1721973540\",\"into\":\"1216.70\",\"inth\":\"1216.70\",\"intl\":\"1215.40\",\"intc\":\"1215.40\",\"intvwap\":\"1218.38\",\"intv\":\"3600\",\"intoi\":\"0\",\"v\":\"1505700\",\"oi\":\"16925400\"},{\"stat\":\"Ok\",\"time\":\"26-07-2024 11:28:00\",\"ssboe\":\"1721973480\",\"into\":\"1216.70\",\"inth\":\"1217.00\",\"intl\":\"1216.35\",\"intc\":\"1217.00\",\"intvwap\":\"1214.20\",\"intv\":\"4500\",\"intoi\":\"-900\",\"v\":\"1502100\",\"oi\":\"16925400\"},{\"stat\":\"Ok\",\"time\":\"26-07-2024 11:27:00\",\"ssboe\":\"1721973420\",\"into\":\"1215.95\",\"inth\":\"1216.00\",\"intl\":\"1215.55\",\"intc\":\"1216.00\",\"intvwap\":\"1217.51\",\"intv\":\"4500\",\"intoi\":\"0\",\"v\":\"1497600\",\"oi\":\"16926300\"},{\"stat\":\"Ok\",\"time\":\"26-07-2024 11:26:00\",\"ssboe\":\"1721973360\",\"into\":\"1215.05\",\"inth\":\"1216.00\",\"intl\":\"1215.05\",\"intc\":\"1216.00\",\"intvwap\":\"1214.19\",\"intv\":\"5400\",\"intoi\":\"0\",\"v\":\"1493100\",\"oi\":\"16926300\"},{\"stat\":\"Ok\",\"time\":\"26-07-2024 11:25:00\",\"ssboe\":\"1721973300\",\"into\":\"1214.95\",\"inth\":\"1214.95\",\"intl\":\"1214.95\",\"intc\":\"1214.95\",\"intvwap\":\"1216.54\",\"intv\":\"6300\",\"intoi\":\"0\",\"v\":\"1487700\",\"oi\":\"16926300\"},{\"stat\":\"Ok\",\"time\":\"26-07-2024 11:24:00\",\"ssboe\":\"1721973240\",\"into\":\"1214.60\",\"inth\":\"1215.30\",\"intl\":\"1212.80\",\"intc\":\"1213.70\",\"intvwap\":\"1212.81\",\"intv\":\"10800\",\"intoi\":\"2700\",\"v\":\"1481400\",\"oi\":\"16926300\"},{\"stat\":\"Ok\",\"time\":\"26-07-2024 11:23:00\",\"ssboe\":\"1721973180\",\"into\":\"1213.85\",\"inth\":\"1214.25\",\"intl\":\"1213.85\",\"intc\":\"1214.25\",\"intvwap\":\"1214.19\",\"intv\":\"3600\",\"intoi\":\"0\",\"v\":\"1470600\",\"oi\":\"16923600\"},{\"stat\":\"Ok\",\"time\":\"26-07-2024 11:22:00\",\"ssboe\":\"1721973120\",\"into\":\"1213.45\",\"inth\":\"1213.45\",\"intl\":\"1213.25\",\"intc\":\"1213.25\",\"intvwap\":\"1214.19\",\"intv\":\"1800\",\"intoi\":\"0\",\"v\":\"1467000\",\"oi\":\"16923600\"},{\"stat\":\"Ok\",\"time\":\"26-07-2024 11:21:00\",\"ssboe\":\"1721973060\",\"into\":\"1212.75\",\"inth\":\"1212.75\",\"intl\":\"1212.75\",\"intc\":\"1212.75\",\"intvwap\":\"0.00\",\"intv\":\"0\",\"intoi\":\"0\",\"v\":\"1465200\",\"oi\":\"16923600\"},{\"stat\":\"Ok\",\"time\":\"26-07-2024 11:20:00\",\"ssboe\":\"1721973000\",\"into\":\"1213.65\",\"inth\":\"1213.65\",\"intl\":\"1212.75\",\"intc\":\"1212.75\",\"intvwap\":\"1214.19\",\"intv\":\"5400\",\"intoi\":\"0\",\"v\":\"1465200\",\"oi\":\"16923600\"},{\"stat\":\"Ok\",\"time\":\"26-07-2024 11:19:00\",\"ssboe\":\"1721972940\",\"into\":\"1213.55\",\"inth\":\"1213.55\",\"intl\":\"1213.55\",\"intc\":\"1213.55\",\"intvwap\":\"1214.19\",\"intv\":\"900\",\"intoi\":\"1800\",\"v\":\"1459800\",\"oi\":\"16923600\"},{\"stat\":\"Ok\",\"time\":\"26-07-2024 11:18:00\",\"ssboe\":\"1721972880\",\"into\":\"1213.45\",\"inth\":\"1213.75\",\"intl\":\"1213.10\",\"intc\":\"1213.10\",\"intvwap\":\"1214.19\",\"intv\":\"6300\",\"intoi\":\"0\",\"v\":\"1458900\",\"oi\":\"16921800\"},{\"stat\":\"Ok\",\"time\":\"26-07-2024 11:17:00\",\"ssboe\":\"1721972820\",\"into\":\"1213.55\",\"inth\":\"1214.10\",\"intl\":\"1213.40\",\"intc\":\"1213.40\",\"intvwap\":\"1212.18\",\"intv\":\"7200\",\"intoi\":\"0\",\"v\":\"1452600\",\"oi\":\"16921800\"},{\"stat\":\"Ok\",\"time\":\"26-07-2024 11:16:00\",\"ssboe\":\"1721972760\",\"into\":\"1214.50\",\"inth\":\"1214.50\",\"intl\":\"1213.65\",\"intc\":\"1213.65\",\"intvwap\":\"1214.20\",\"intv\":\"2700\",\"intoi\":\"-4500\",\"v\":\"1445400\",\"oi\":\"16921800\"},{\"stat\":\"Ok\",\"time\":\"26-07-2024 11:15:00\",\"ssboe\":\"1721972700\",\"into\":\"1213.75\",\"inth\":\"1213.75\",\"intl\":\"1213.75\",\"intc\":\"1213.75\",\"intvwap\":\"1214.20\",\"intv\":\"900\",\"intoi\":\"0\",\"v\":\"1442700\",\"oi\":\"16926300\"},{\"stat\":\"Ok\",\"time\":\"26-07-2024 11:14:00\",\"ssboe\":\"1721972640\",\"into\":\"1212.70\",\"inth\":\"1213.60\",\"intl\":\"1212.70\",\"intc\":\"1213.60\",\"intvwap\":\"1214.20\",\"intv\":\"4500\",\"intoi\":\"0\",\"v\":\"1441800\",\"oi\":\"16926300\"},{\"stat\":\"Ok\",\"time\":\"26-07-2024 11:13:00\",\"ssboe\":\"1721972580\",\"into\":\"1213.00\",\"inth\":\"1213.05\",\"intl\":\"1213.00\",\"intc\":\"1213.05\",\"intvwap\":\"1214.20\",\"intv\":\"3600\",\"intoi\":\"10800\",\"v\":\"1437300\",\"oi\":\"16926300\"},{\"stat\":\"Ok\",\"time\":\"26-07-2024 11:12:00\",\"ssboe\":\"1721972520\",\"into\":\"1214.00\",\"inth\":\"1214.55\",\"intl\":\"1213.60\",\"intc\":\"1213.65\",\"intvwap\":\"1214.20\",\"intv\":\"11700\",\"intoi\":\"0\",\"v\":\"1433700\",\"oi\":\"16915500\"},{\"stat\":\"Ok\",\"time\":\"26-07-2024 11:11:00\",\"ssboe\":\"1721972460\",\"into\":\"1213.40\",\"inth\":\"1214.25\",\"intl\":\"1213.40\",\"intc\":\"1213.60\",\"intvwap\":\"1212.23\",\"intv\":\"7200\",\"intoi\":\"0\",\"v\":\"1422000\",\"oi\":\"16915500\"},{\"stat\":\"Ok\",\"time\":\"26-07-2024 11:10:00\",\"ssboe\":\"1721972400\",\"into\":\"1213.25\",\"inth\":\"1213.70\",\"intl\":\"1212.65\",\"intc\":\"1212.65\",\"intvwap\":\"1214.21\",\"intv\":\"8100\",\"intoi\":\"0\",\"v\":\"1414800\",\"oi\":\"16915500\"},{\"stat\":\"Ok\",\"time\":\"26-07-2024 11:09:00\",\"ssboe\":\"1721972340\",\"into\":\"1214.15\",\"inth\":\"1214.15\",\"intl\":\"1213.00\",\"intc\":\"1213.10\",\"intvwap\":\"1212.65\",\"intv\":\"9000\",\"intoi\":\"-9000\",\"v\":\"1406700\",\"oi\":\"16915500\"},{\"stat\":\"Ok\",\"time\":\"26-07-2024 11:08:00\",\"ssboe\":\"1721972280\",\"into\":\"1213.45\",\"inth\":\"1213.45\",\"intl\":\"1213.45\",\"intc\":\"1213.45\",\"intvwap\":\"0.00\",\"intv\":\"0\",\"intoi\":\"0\",\"v\":\"1397700\",\"oi\":\"16924500\"},{\"stat\":\"Ok\",\"time\":\"26-07-2024 11:07:00\",\"ssboe\":\"1721972220\",\"into\":\"1213.45\",\"inth\":\"1213.45\",\"intl\":\"1213.45\",\"intc\":\"1213.45\",\"intvwap\":\"1214.22\",\"intv\":\"900\",\"intoi\":\"0\",\"v\":\"1397700\",\"oi\":\"16924500\"},{\"stat\":\"Ok\",\"time\":\"26-07-2024 11:06:00\",\"ssboe\":\"1721972160\",\"into\":\"1214.90\",\"inth\":\"1214.90\",\"intl\":\"1213.55\",\"intc\":\"1213.55\",\"intvwap\":\"1214.22\",\"intv\":\"3600\",\"intoi\":\"-6300\",\"v\":\"1396800\",\"oi\":\"16924500\"},{\"stat\":\"Ok\",\"time\":\"26-07-2024 11:05:00\",\"ssboe\":\"1721972100\",\"into\":\"1214.00\",\"inth\":\"1214.45\",\"intl\":\"1213.15\",\"intc\":\"1214.45\",\"intvwap\":\"1213.81\",\"intv\":\"33300\",\"intoi\":\"0\",\"v\":\"1393200\",\"oi\":\"16930800\"},{\"stat\":\"Ok\",\"time\":\"26-07-2024 11:04:00\",\"ssboe\":\"1721972040\",\"into\":\"1216.05\",\"inth\":\"1216.05\",\"intl\":\"1215.00\",\"intc\":\"1215.00\",\"intvwap\":\"1217.99\",\"intv\":\"3600\",\"intoi\":\"0\",\"v\":\"1359900\",\"oi\":\"16930800\"},{\"stat\":\"Ok\",\"time\":\"26-07-2024 11:03:00\",\"ssboe\":\"1721971980\",\"into\":\"1215.20\",\"inth\":\"1217.05\",\"intl\":\"1215.20\",\"intc\":\"1216.70\",\"intvwap\":\"1216.15\",\"intv\":\"20700\",\"intoi\":\"-18000\",\"v\":\"1356300\",\"oi\":\"16930800\"},{\"stat\":\"Ok\",\"time\":\"26-07-2024 11:02:00\",\"ssboe\":\"1721971920\",\"into\":\"1215.15\",\"inth\":\"1215.20\",\"intl\":\"1213.70\",\"intc\":\"1215.00\",\"intvwap\":\"1214.57\",\"intv\":\"34200\",\"intoi\":\"0\",\"v\":\"1335600\",\"oi\":\"16948800\"},{\"stat\":\"Ok\",\"time\":\"26-07-2024 11:01:00\",\"ssboe\":\"1721971860\",\"into\":\"1217.25\",\"inth\":\"1217.25\",\"intl\":\"1214.20\",\"intc\":\"1215.20\",\"intvwap\":\"1215.29\",\"intv\":\"45000\",\"intoi\":\"900\",\"v\":\"1301400\",\"oi\":\"16948800\"},{\"stat\":\"Ok\",\"time\":\"26-07-2024 11:00:00\",\"ssboe\":\"1721971800\",\"into\":\"1216.30\",\"inth\":\"1216.40\",\"intl\":\"1215.75\",\"intc\":\"1215.75\",\"intvwap\":\"1216.11\",\"intv\":\"12600\",\"intoi\":\"0\",\"v\":\"1256400\",\"oi\":\"16947900\"},{\"stat\":\"Ok\",\"time\":\"26-07-2024 10:59:00\",\"ssboe\":\"1721971740\",\"into\":\"1216.05\",\"inth\":\"1216.05\",\"intl\":\"1216.05\",\"intc\":\"1216.05\",\"intvwap\":\"0.00\",\"intv\":\"0\",\"intoi\":\"0\",\"v\":\"1243800\",\"oi\":\"16947900\"},{\"stat\":\"Ok\",\"time\":\"26-07-2024 10:58:00\",\"ssboe\":\"1721971680\",\"into\":\"1216.35\",\"inth\":\"1216.35\",\"intl\":\"1216.05\",\"intc\":\"1216.05\",\"intvwap\":\"1216.87\",\"intv\":\"4500\",\"intoi\":\"0\",\"v\":\"1243800\",\"oi\":\"16947900\"},{\"stat\":\"Ok\",\"time\":\"26-07-2024 10:57:00\",\"ssboe\":\"1721971620\",\"into\":\"1217.10\",\"inth\":\"1217.10\",\"intl\":\"1216.50\",\"intc\":\"1216.50\",\"intvwap\":\"1220.98\",\"intv\":\"1800\",\"intoi\":\"0\",\"v\":\"1239300\",\"oi\":\"16947900\"},{\"stat\":\"Ok\",\"time\":\"26-07-2024 10:56:00\",\"ssboe\":\"1721971560\",\"into\":\"1217.55\",\"inth\":\"1217.55\",\"intl\":\"1216.50\",\"intc\":\"1216.55\",\"intvwap\":\"1218.00\",\"intv\":\"6300\",\"intoi\":\"0\",\"v\":\"1237500\",\"oi\":\"16947900\"},{\"stat\":\"Ok\",\"time\":\"26-07-2024 10:55:00\",\"ssboe\":\"1721971500\",\"into\":\"1217.65\",\"inth\":\"1217.65\",\"intl\":\"1217.65\",\"intc\":\"1217.65\",\"intvwap\":\"1214.08\",\"intv\":\"900\",\"intoi\":\"0\",\"v\":\"1231200\",\"oi\":\"16947900\"},{\"stat\":\"Ok\",\"time\":\"26-07-2024 10:54:00\",\"ssboe\":\"1721971440\",\"into\":\"1217.20\",\"inth\":\"1217.20\",\"intl\":\"1217.20\",\"intc\":\"1217.20\",\"intvwap\":\"1214.08\",\"intv\":\"4500\",\"intoi\":\"0\",\"v\":\"1230300\",\"oi\":\"16947900\"},{\"stat\":\"Ok\",\"time\":\"26-07-2024 10:53:00\",\"ssboe\":\"1721971380\",\"into\":\"1217.10\",\"inth\":\"1217.30\",\"intl\":\"1216.60\",\"intc\":\"1217.10\",\"intvwap\":\"1218.13\",\"intv\":\"9000\",\"intoi\":\"0\",\"v\":\"1225800\",\"oi\":\"16947900\"},{\"stat\":\"Ok\",\"time\":\"26-07-2024 10:52:00\",\"ssboe\":\"1721971320\",\"into\":\"1217.80\",\"inth\":\"1217.80\",\"intl\":\"1217.45\",\"intc\":\"1217.45\",\"intvwap\":\"1215.97\",\"intv\":\"6300\",\"intoi\":\"0\",\"v\":\"1216800\",\"oi\":\"16947900\"},{\"stat\":\"Ok\",\"time\":\"26-07-2024 10:51:00\",\"ssboe\":\"1721971260\",\"into\":\"1217.80\",\"inth\":\"1217.80\",\"intl\":\"1217.50\",\"intc\":\"1217.50\",\"intvwap\":\"1219.40\",\"intv\":\"4500\",\"intoi\":\"2700\",\"v\":\"1210500\",\"oi\":\"16947900\"},{\"stat\":\"Ok\",\"time\":\"26-07-2024 10:50:00\",\"ssboe\":\"1721971200\",\"into\":\"1218.25\",\"inth\":\"1218.25\",\"intl\":\"1217.65\",\"intc\":\"1217.65\",\"intvwap\":\"1218.46\",\"intv\":\"5400\",\"intoi\":\"0\",\"v\":\"1206000\",\"oi\":\"16945200\"},{\"stat\":\"Ok\",\"time\":\"26-07-2024 10:49:00\",\"ssboe\":\"1721971140\",\"into\":\"1218.00\",\"inth\":\"1218.50\",\"intl\":\"1218.00\",\"intc\":\"1218.00\",\"intvwap\":\"1216.94\",\"intv\":\"8100\",\"intoi\":\"0\",\"v\":\"1200600\",\"oi\":\"16945200\"},{\"stat\":\"Ok\",\"time\":\"26-07-2024 10:48:00\",\"ssboe\":\"1721971080\",\"into\":\"1218.20\",\"inth\":\"1218.20\",\"intl\":\"1218.20\",\"intc\":\"1218.20\",\"intvwap\":\"1218.38\",\"intv\":\"2700\",\"intoi\":\"0\",\"v\":\"1192500\",\"oi\":\"16945200\"},{\"stat\":\"Ok\",\"time\":\"26-07-2024 10:47:00\",\"ssboe\":\"1721971020\",\"into\":\"1217.40\",\"inth\":\"1218.95\",\"intl\":\"1217.40\",\"intc\":\"1218.55\",\"intvwap\":\"1219.00\",\"intv\":\"11700\",\"intoi\":\"0\",\"v\":\"1189800\",\"oi\":\"16945200\"},{\"stat\":\"Ok\",\"time\":\"26-07-2024 10:46:00\",\"ssboe\":\"1721970960\",\"into\":\"1216.75\",\"inth\":\"1216.75\",\"intl\":\"1216.75\",\"intc\":\"1216.75\",\"intvwap\":\"0.00\",\"intv\":\"0\",\"intoi\":\"0\",\"v\":\"1178100\",\"oi\":\"16945200\"},{\"stat\":\"Ok\",\"time\":\"26-07-2024 10:45:00\",\"ssboe\":\"1721970900\",\"into\":\"1217.80\",\"inth\":\"1217.80\",\"intl\":\"1216.65\",\"intc\":\"1216.75\",\"intvwap\":\"1215.78\",\"intv\":\"6300\",\"intoi\":\"19800\",\"v\":\"1178100\",\"oi\":\"16945200\"},{\"stat\":\"Ok\",\"time\":\"26-07-2024 10:44:00\",\"ssboe\":\"1721970840\",\"into\":\"1217.90\",\"inth\":\"1217.90\",\"intl\":\"1217.70\",\"intc\":\"1217.75\",\"intvwap\":\"1219.09\",\"intv\":\"4500\",\"intoi\":\"0\",\"v\":\"1171800\",\"oi\":\"16925400\"},{\"stat\":\"Ok\",\"time\":\"26-07-2024 10:43:00\",\"ssboe\":\"1721970780\",\"into\":\"1215.90\",\"inth\":\"1218.00\",\"intl\":\"1215.90\",\"intc\":\"1216.70\",\"intvwap\":\"1217.44\",\"intv\":\"28800\",\"intoi\":\"0\",\"v\":\"1167300\",\"oi\":\"16925400\"},{\"stat\":\"Ok\",\"time\":\"26-07-2024 10:42:00\",\"ssboe\":\"1721970720\",\"into\":\"1217.50\",\"inth\":\"1218.30\",\"intl\":\"1215.70\",\"intc\":\"1216.80\",\"intvwap\":\"1217.13\",\"intv\":\"23400\",\"intoi\":\"9900\",\"v\":\"1138500\",\"oi\":\"16925400\"},{\"stat\":\"Ok\",\"time\":\"26-07-2024 10:41:00\",\"ssboe\":\"1721970660\",\"into\":\"1218.70\",\"inth\":\"1218.75\",\"intl\":\"1217.35\",\"intc\":\"1217.95\",\"intvwap\":\"1218.40\",\"intv\":\"36900\",\"intoi\":\"0\",\"v\":\"1115100\",\"oi\":\"16915500\"},{\"stat\":\"Ok\",\"time\":\"26-07-2024 10:40:00\",\"ssboe\":\"1721970600\",\"into\":\"1214.75\",\"inth\":\"1218.75\",\"intl\":\"1214.75\",\"intc\":\"1217.70\",\"intvwap\":\"1217.23\",\"intv\":\"34200\",\"intoi\":\"0\",\"v\":\"1078200\",\"oi\":\"16915500\"},{\"stat\":\"Ok\",\"time\":\"26-07-2024 10:39:00\",\"ssboe\":\"1721970540\",\"into\":\"1215.25\",\"inth\":\"1215.25\",\"intl\":\"1215.25\",\"intc\":\"1215.25\",\"intvwap\":\"1213.45\",\"intv\":\"900\",\"intoi\":\"900\",\"v\":\"1044000\",\"oi\":\"16915500\"},{\"stat\":\"Ok\",\"time\":\"26-07-2024 10:38:00\",\"ssboe\":\"1721970480\",\"into\":\"1214.65\",\"inth\":\"1215.70\",\"intl\":\"1214.55\",\"intc\":\"1215.70\",\"intvwap\":\"1215.53\",\"intv\":\"9900\",\"intoi\":\"0\",\"v\":\"1043100\",\"oi\":\"16914600\"},{\"stat\":\"Ok\",\"time\":\"26-07-2024 10:37:00\",\"ssboe\":\"1721970420\",\"into\":\"1215.30\",\"inth\":\"1215.60\",\"intl\":\"1215.30\",\"intc\":\"1215.30\",\"intvwap\":\"1213.43\",\"intv\":\"3600\",\"intoi\":\"-3600\",\"v\":\"1033200\",\"oi\":\"16914600\"},{\"stat\":\"Ok\",\"time\":\"26-07-2024 10:36:00\",\"ssboe\":\"1721970360\",\"into\":\"1215.10\",\"inth\":\"1215.10\",\"intl\":\"1215.10\",\"intc\":\"1215.10\",\"intvwap\":\"0.00\",\"intv\":\"0\",\"intoi\":\"0\",\"v\":\"1029600\",\"oi\":\"16918200\"},{\"stat\":\"Ok\",\"time\":\"26-07-2024 10:35:00\",\"ssboe\":\"1721970300\",\"into\":\"1215.00\",\"inth\":\"1215.10\",\"intl\":\"1213.90\",\"intc\":\"1215.10\",\"intvwap\":\"1217.23\",\"intv\":\"2700\",\"intoi\":\"0\",\"v\":\"1029600\",\"oi\":\"16918200\"},{\"stat\":\"Ok\",\"time\":\"26-07-2024 10:34:00\",\"ssboe\":\"1721970240\",\"into\":\"1216.00\",\"inth\":\"1216.00\",\"intl\":\"1214.15\",\"intc\":\"1214.65\",\"intvwap\":\"1215.01\",\"intv\":\"25200\",\"intoi\":\"0\",\"v\":\"1026900\",\"oi\":\"16918200\"},{\"stat\":\"Ok\",\"time\":\"26-07-2024 10:33:00\",\"ssboe\":\"1721970180\",\"into\":\"1216.25\",\"inth\":\"1216.25\",\"intl\":\"1216.25\",\"intc\":\"1216.25\",\"intvwap\":\"1217.08\",\"intv\":\"2700\",\"intoi\":\"-8100\",\"v\":\"1001700\",\"oi\":\"16918200\"},{\"stat\":\"Ok\",\"time\":\"26-07-2024 10:32:00\",\"ssboe\":\"1721970120\",\"into\":\"1215.70\",\"inth\":\"1216.70\",\"intl\":\"1215.70\",\"intc\":\"1216.00\",\"intvwap\":\"1216.08\",\"intv\":\"21600\",\"intoi\":\"0\",\"v\":\"999000\",\"oi\":\"16926300\"},{\"stat\":\"Ok\",\"time\":\"26-07-2024 10:31:00\",\"ssboe\":\"1721970060\",\"into\":\"1216.00\",\"inth\":\"1216.00\",\"intl\":\"1215.55\",\"intc\":\"1216.00\",\"intvwap\":\"1216.00\",\"intv\":\"7200\",\"intoi\":\"0\",\"v\":\"977400\",\"oi\":\"16926300\"},{\"stat\":\"Ok\",\"time\":\"26-07-2024 10:30:00\",\"ssboe\":\"1721970000\",\"into\":\"1214.15\",\"inth\":\"1215.95\",\"intl\":\"1214.15\",\"intc\":\"1215.95\",\"intvwap\":\"1213.29\",\"intv\":\"2700\",\"intoi\":\"-900\",\"v\":\"970200\",\"oi\":\"16926300\"},{\"stat\":\"Ok\",\"time\":\"26-07-2024 10:29:00\",\"ssboe\":\"1721969940\",\"into\":\"1215.00\",\"inth\":\"1215.55\",\"intl\":\"1215.00\",\"intc\":\"1215.55\",\"intvwap\":\"1215.07\",\"intv\":\"5400\",\"intoi\":\"0\",\"v\":\"967500\",\"oi\":\"16927200\"},{\"stat\":\"Ok\",\"time\":\"26-07-2024 10:28:00\",\"ssboe\":\"1721969880\",\"into\":\"1214.80\",\"inth\":\"1215.45\",\"intl\":\"1214.80\",\"intc\":\"1214.80\",\"intvwap\":\"1215.05\",\"intv\":\"5400\",\"intoi\":\"-8100\",\"v\":\"962100\",\"oi\":\"16927200\"},{\"stat\":\"Ok\",\"time\":\"26-07-2024 10:27:00\",\"ssboe\":\"1721969820\",\"into\":\"1214.10\",\"inth\":\"1214.95\",\"intl\":\"1214.10\",\"intc\":\"1214.95\",\"intvwap\":\"1214.58\",\"intv\":\"7200\",\"intoi\":\"0\",\"v\":\"956700\",\"oi\":\"16935300\"},{\"stat\":\"Ok\",\"time\":\"26-07-2024 10:26:00\",\"ssboe\":\"1721969760\",\"into\":\"1215.30\",\"inth\":\"1215.30\",\"intl\":\"1214.05\",\"intc\":\"1214.30\",\"intvwap\":\"1214.64\",\"intv\":\"13500\",\"intoi\":\"0\",\"v\":\"949500\",\"oi\":\"16935300\"},{\"stat\":\"Ok\",\"time\":\"26-07-2024 10:25:00\",\"ssboe\":\"1721969700\",\"into\":\"1214.30\",\"inth\":\"1217.50\",\"intl\":\"1214.30\",\"intc\":\"1215.80\",\"intvwap\":\"1216.28\",\"intv\":\"60300\",\"intoi\":\"0\",\"v\":\"936000\",\"oi\":\"16935300\"},{\"stat\":\"Ok\",\"time\":\"26-07-2024 10:24:00\",\"ssboe\":\"1721969640\",\"into\":\"1213.55\",\"inth\":\"1214.25\",\"intl\":\"1213.55\",\"intc\":\"1214.25\",\"intvwap\":\"1213.03\",\"intv\":\"2700\",\"intoi\":\"-16200\",\"v\":\"875700\",\"oi\":\"16935300\"},{\"stat\":\"Ok\",\"time\":\"26-07-2024 10:23:00\",\"ssboe\":\"1721969580\",\"into\":\"1213.25\",\"inth\":\"1213.25\",\"intl\":\"1213.00\",\"intc\":\"1213.00\",\"intvwap\":\"1213.03\",\"intv\":\"9900\",\"intoi\":\"0\",\"v\":\"873000\",\"oi\":\"16951500\"},{\"stat\":\"Ok\",\"time\":\"26-07-2024 10:22:00\",\"ssboe\":\"1721969520\",\"into\":\"1214.00\",\"inth\":\"1214.00\",\"intl\":\"1213.00\",\"intc\":\"1213.50\",\"intvwap\":\"1213.38\",\"intv\":\"23400\",\"intoi\":\"0\",\"v\":\"863100\",\"oi\":\"16951500\"},{\"stat\":\"Ok\",\"time\":\"26-07-2024 10:21:00\",\"ssboe\":\"1721969460\",\"into\":\"1215.45\",\"inth\":\"1215.50\",\"intl\":\"1214.55\",\"intc\":\"1214.55\",\"intvwap\":\"1215.07\",\"intv\":\"8100\",\"intoi\":\"5400\",\"v\":\"839700\",\"oi\":\"16951500\"},{\"stat\":\"Ok\",\"time\":\"26-07-2024 10:20:00\",\"ssboe\":\"1721969400\",\"into\":\"1216.00\",\"inth\":\"1216.00\",\"intl\":\"1216.00\",\"intc\":\"1216.00\",\"intvwap\":\"0.00\",\"intv\":\"0\",\"intoi\":\"0\",\"v\":\"831600\",\"oi\":\"16946100\"},{\"stat\":\"Ok\",\"time\":\"26-07-2024 10:19:00\",\"ssboe\":\"1721969340\",\"into\":\"1216.05\",\"inth\":\"1216.05\",\"intl\":\"1216.00\",\"intc\":\"1216.00\",\"intvwap\":\"1216.06\",\"intv\":\"5400\",\"intoi\":\"0\",\"v\":\"831600\",\"oi\":\"16946100\"},{\"stat\":\"Ok\",\"time\":\"26-07-2024 10:18:00\",\"ssboe\":\"1721969280\",\"into\":\"1215.20\",\"inth\":\"1216.00\",\"intl\":\"1215.20\",\"intc\":\"1216.00\",\"intvwap\":\"1214.80\",\"intv\":\"4500\",\"intoi\":\"-7200\",\"v\":\"826200\",\"oi\":\"16946100\"},{\"stat\":\"Ok\",\"time\":\"26-07-2024 10:17:00\",\"ssboe\":\"1721969220\",\"into\":\"1215.80\",\"inth\":\"1215.85\",\"intl\":\"1215.05\",\"intc\":\"1215.70\",\"intvwap\":\"1216.36\",\"intv\":\"7200\",\"intoi\":\"0\",\"v\":\"821700\",\"oi\":\"16953300\"},{\"stat\":\"Ok\",\"time\":\"26-07-2024 10:16:00\",\"ssboe\":\"1721969160\",\"into\":\"1212.05\",\"inth\":\"1216.30\",\"intl\":\"1212.05\",\"intc\":\"1216.30\",\"intvwap\":\"1214.47\",\"intv\":\"30600\",\"intoi\":\"0\",\"v\":\"814500\",\"oi\":\"16953300\"},{\"stat\":\"Ok\",\"time\":\"26-07-2024 10:15:00\",\"ssboe\":\"1721969100\",\"into\":\"1212.10\",\"inth\":\"1212.50\",\"intl\":\"1211.85\",\"intc\":\"1212.50\",\"intvwap\":\"1212.01\",\"intv\":\"9000\",\"intoi\":\"-4500\",\"v\":\"783900\",\"oi\":\"16953300\"},{\"stat\":\"Ok\",\"time\":\"26-07-2024 10:14:00\",\"ssboe\":\"1721969040\",\"into\":\"1210.90\",\"inth\":\"1210.90\",\"intl\":\"1210.90\",\"intc\":\"1210.90\",\"intvwap\":\"1210.74\",\"intv\":\"3600\",\"intoi\":\"0\",\"v\":\"774900\",\"oi\":\"16957800\"},{\"stat\":\"Ok\",\"time\":\"26-07-2024 10:13:00\",\"ssboe\":\"1721968980\",\"into\":\"1211.45\",\"inth\":\"1211.45\",\"intl\":\"1211.45\",\"intc\":\"1211.45\",\"intvwap\":\"0.00\",\"intv\":\"0\",\"intoi\":\"900\",\"v\":\"771300\",\"oi\":\"16957800\"},{\"stat\":\"Ok\",\"time\":\"26-07-2024 10:12:00\",\"ssboe\":\"1721968920\",\"into\":\"1210.20\",\"inth\":\"1211.15\",\"intl\":\"1210.20\",\"intc\":\"1210.90\",\"intvwap\":\"1211.19\",\"intv\":\"4500\",\"intoi\":\"0\",\"v\":\"771300\",\"oi\":\"16956900\"},{\"stat\":\"Ok\",\"time\":\"26-07-2024 10:11:00\",\"ssboe\":\"1721968860\",\"into\":\"1210.05\",\"inth\":\"1210.05\",\"intl\":\"1210.05\",\"intc\":\"1210.05\",\"intvwap\":\"1204.40\",\"intv\":\"900\",\"intoi\":\"0\",\"v\":\"766800\",\"oi\":\"16956900\"},{\"stat\":\"Ok\",\"time\":\"26-07-2024 10:10:00\",\"ssboe\":\"1721968800\",\"into\":\"1211.00\",\"inth\":\"1211.00\",\"intl\":\"1210.90\",\"intc\":\"1210.90\",\"intvwap\":\"1211.22\",\"intv\":\"4500\",\"intoi\":\"0\",\"v\":\"765900\",\"oi\":\"16956900\"},{\"stat\":\"Ok\",\"time\":\"26-07-2024 10:09:00\",\"ssboe\":\"1721968740\",\"into\":\"1210.95\",\"inth\":\"1211.10\",\"intl\":\"1210.95\",\"intc\":\"1211.10\",\"intvwap\":\"1212.93\",\"intv\":\"2700\",\"intoi\":\"-1800\",\"v\":\"761400\",\"oi\":\"16956900\"},{\"stat\":\"Ok\",\"time\":\"26-07-2024 10:08:00\",\"ssboe\":\"1721968680\",\"into\":\"1211.00\",\"inth\":\"1211.00\",\"intl\":\"1211.00\",\"intc\":\"1211.00\",\"intvwap\":\"1208.72\",\"intv\":\"1800\",\"intoi\":\"0\",\"v\":\"758700\",\"oi\":\"16958700\"},{\"stat\":\"Ok\",\"time\":\"26-07-2024 10:07:00\",\"ssboe\":\"1721968620\",\"into\":\"1211.50\",\"inth\":\"1211.50\",\"intl\":\"1211.50\",\"intc\":\"1211.50\",\"intvwap\":\"1212.94\",\"intv\":\"1800\",\"intoi\":\"0\",\"v\":\"756900\",\"oi\":\"16958700\"},{\"stat\":\"Ok\",\"time\":\"26-07-2024 10:06:00\",\"ssboe\":\"1721968560\",\"into\":\"1211.00\",\"inth\":\"1212.20\",\"intl\":\"1211.00\",\"intc\":\"1212.20\",\"intvwap\":\"1211.17\",\"intv\":\"12600\",\"intoi\":\"0\",\"v\":\"755100\",\"oi\":\"16958700\"},{\"stat\":\"Ok\",\"time\":\"26-07-2024 10:05:00\",\"ssboe\":\"1721968500\",\"into\":\"1212.00\",\"inth\":\"1212.00\",\"intl\":\"1211.00\",\"intc\":\"1211.50\",\"intvwap\":\"1211.49\",\"intv\":\"9900\",\"intoi\":\"0\",\"v\":\"742500\",\"oi\":\"16958700\"},{\"stat\":\"Ok\",\"time\":\"26-07-2024 10:04:00\",\"ssboe\":\"1721968440\",\"into\":\"1212.50\",\"inth\":\"1212.50\",\"intl\":\"1212.50\",\"intc\":\"1212.50\",\"intvwap\":\"1212.99\",\"intv\":\"3600\",\"intoi\":\"0\",\"v\":\"732600\",\"oi\":\"16958700\"},{\"stat\":\"Ok\",\"time\":\"26-07-2024 10:03:00\",\"ssboe\":\"1721968380\",\"into\":\"1211.55\",\"inth\":\"1212.15\",\"intl\":\"1211.40\",\"intc\":\"1212.15\",\"intvwap\":\"1211.96\",\"intv\":\"20700\",\"intoi\":\"1800\",\"v\":\"729000\",\"oi\":\"16958700\"},{\"stat\":\"Ok\",\"time\":\"26-07-2024 10:02:00\",\"ssboe\":\"1721968320\",\"into\":\"1213.00\",\"inth\":\"1213.00\",\"intl\":\"1212.85\",\"intc\":\"1212.85\",\"intvwap\":\"1213.02\",\"intv\":\"1800\",\"intoi\":\"0\",\"v\":\"708300\",\"oi\":\"16956900\"},{\"stat\":\"Ok\",\"time\":\"26-07-2024 10:01:00\",\"ssboe\":\"1721968260\",\"into\":\"1212.60\",\"inth\":\"1213.00\",\"intl\":\"1212.05\",\"intc\":\"1212.35\",\"intvwap\":\"1213.02\",\"intv\":\"6300\",\"intoi\":\"0\",\"v\":\"706500\",\"oi\":\"16956900\"},{\"stat\":\"Ok\",\"time\":\"26-07-2024 10:00:00\",\"ssboe\":\"1721968200\",\"into\":\"1212.60\",\"inth\":\"1212.60\",\"intl\":\"1211.50\",\"intc\":\"1212.00\",\"intvwap\":\"1211.73\",\"intv\":\"5400\",\"intoi\":\"-34200\",\"v\":\"700200\",\"oi\":\"16956900\"},{\"stat\":\"Ok\",\"time\":\"26-07-2024 09:59:00\",\"ssboe\":\"1721968140\",\"into\":\"1211.70\",\"inth\":\"1212.40\",\"intl\":\"1211.40\",\"intc\":\"1211.40\",\"intvwap\":\"1211.40\",\"intv\":\"12600\",\"intoi\":\"0\",\"v\":\"694800\",\"oi\":\"16991100\"},{\"stat\":\"Ok\",\"time\":\"26-07-2024 09:58:00\",\"ssboe\":\"1721968080\",\"into\":\"1212.00\",\"inth\":\"1212.00\",\"intl\":\"1211.40\",\"intc\":\"1211.40\",\"intvwap\":\"1213.06\",\"intv\":\"1800\",\"intoi\":\"0\",\"v\":\"682200\",\"oi\":\"16991100\"},{\"stat\":\"Ok\",\"time\":\"26-07-2024 09:57:00\",\"ssboe\":\"1721968020\",\"into\":\"1212.00\",\"inth\":\"1212.60\",\"intl\":\"1211.40\",\"intc\":\"1211.40\",\"intvwap\":\"1211.55\",\"intv\":\"4500\",\"intoi\":\"-7200\",\"v\":\"680400\",\"oi\":\"16991100\"},{\"stat\":\"Ok\",\"time\":\"26-07-2024 09:56:00\",\"ssboe\":\"1721967960\",\"into\":\"1213.00\",\"inth\":\"1213.00\",\"intl\":\"1211.60\",\"intc\":\"1211.60\",\"intvwap\":\"1211.82\",\"intv\":\"5400\",\"intoi\":\"0\",\"v\":\"675900\",\"oi\":\"16998300\"},{\"stat\":\"Ok\",\"time\":\"26-07-2024 09:55:00\",\"ssboe\":\"1721967900\",\"into\":\"1211.45\",\"inth\":\"1211.85\",\"intl\":\"1211.45\",\"intc\":\"1211.85\",\"intvwap\":\"1213.08\",\"intv\":\"1800\",\"intoi\":\"0\",\"v\":\"670500\",\"oi\":\"16998300\"},{\"stat\":\"Ok\",\"time\":\"26-07-2024 09:54:00\",\"ssboe\":\"1721967840\",\"into\":\"1213.90\",\"inth\":\"1213.90\",\"intl\":\"1211.75\",\"intc\":\"1211.75\",\"intvwap\":\"1212.51\",\"intv\":\"11700\",\"intoi\":\"-3600\",\"v\":\"668700\",\"oi\":\"16998300\"},{\"stat\":\"Ok\",\"time\":\"26-07-2024 09:53:00\",\"ssboe\":\"1721967780\",\"into\":\"1213.70\",\"inth\":\"1214.25\",\"intl\":\"1213.05\",\"intc\":\"1213.85\",\"intvwap\":\"1213.68\",\"intv\":\"10800\",\"intoi\":\"0\",\"v\":\"657000\",\"oi\":\"17001900\"},{\"stat\":\"Ok\",\"time\":\"26-07-2024 09:52:00\",\"ssboe\":\"1721967720\",\"into\":\"1212.95\",\"inth\":\"1213.55\",\"intl\":\"1212.95\",\"intc\":\"1213.25\",\"intvwap\":\"1213.08\",\"intv\":\"3600\",\"intoi\":\"0\",\"v\":\"646200\",\"oi\":\"17001900\"},{\"stat\":\"Ok\",\"time\":\"26-07-2024 09:51:00\",\"ssboe\":\"1721967660\",\"into\":\"1211.55\",\"inth\":\"1212.60\",\"intl\":\"1211.55\",\"intc\":\"1212.60\",\"intvwap\":\"1212.19\",\"intv\":\"7200\",\"intoi\":\"-4500\",\"v\":\"642600\",\"oi\":\"17001900\"},{\"stat\":\"Ok\",\"time\":\"26-07-2024 09:50:00\",\"ssboe\":\"1721967600\",\"into\":\"1213.75\",\"inth\":\"1214.20\",\"intl\":\"1212.70\",\"intc\":\"1212.75\",\"intvwap\":\"1213.40\",\"intv\":\"19800\",\"intoi\":\"0\",\"v\":\"635400\",\"oi\":\"17006400\"},{\"stat\":\"Ok\",\"time\":\"26-07-2024 09:49:00\",\"ssboe\":\"1721967540\",\"into\":\"1213.75\",\"inth\":\"1213.75\",\"intl\":\"1213.10\",\"intc\":\"1213.10\",\"intvwap\":\"1213.08\",\"intv\":\"3600\",\"intoi\":\"0\",\"v\":\"615600\",\"oi\":\"17006400\"},{\"stat\":\"Ok\",\"time\":\"26-07-2024 09:48:00\",\"ssboe\":\"1721967480\",\"into\":\"1213.55\",\"inth\":\"1214.00\",\"intl\":\"1213.50\",\"intc\":\"1213.50\",\"intvwap\":\"1213.92\",\"intv\":\"7200\",\"intoi\":\"-10800\",\"v\":\"612000\",\"oi\":\"17006400\"},{\"stat\":\"Ok\",\"time\":\"26-07-2024 09:47:00\",\"ssboe\":\"1721967420\",\"into\":\"1213.20\",\"inth\":\"1213.45\",\"intl\":\"1212.75\",\"intc\":\"1212.75\",\"intvwap\":\"1213.07\",\"intv\":\"4500\",\"intoi\":\"0\",\"v\":\"604800\",\"oi\":\"17017200\"},{\"stat\":\"Ok\",\"time\":\"26-07-2024 09:46:00\",\"ssboe\":\"1721967360\",\"into\":\"1212.95\",\"inth\":\"1213.45\",\"intl\":\"1212.95\",\"intc\":\"1212.95\",\"intvwap\":\"1213.07\",\"intv\":\"8100\",\"intoi\":\"0\",\"v\":\"600300\",\"oi\":\"17017200\"},{\"stat\":\"Ok\",\"time\":\"26-07-2024 09:45:00\",\"ssboe\":\"1721967300\",\"into\":\"1211.10\",\"inth\":\"1212.00\",\"intl\":\"1210.45\",\"intc\":\"1212.00\",\"intvwap\":\"1211.08\",\"intv\":\"11700\",\"intoi\":\"-900\",\"v\":\"592200\",\"oi\":\"17017200\"},{\"stat\":\"Ok\",\"time\":\"26-07-2024 09:44:00\",\"ssboe\":\"1721967240\",\"into\":\"1212.05\",\"inth\":\"1212.40\",\"intl\":\"1211.15\",\"intc\":\"1211.65\",\"intvwap\":\"1211.75\",\"intv\":\"12600\",\"intoi\":\"0\",\"v\":\"580500\",\"oi\":\"17018100\"},{\"stat\":\"Ok\",\"time\":\"26-07-2024 09:43:00\",\"ssboe\":\"1721967180\",\"into\":\"1213.20\",\"inth\":\"1213.20\",\"intl\":\"1212.50\",\"intc\":\"1212.80\",\"intvwap\":\"1213.14\",\"intv\":\"8100\",\"intoi\":\"0\",\"v\":\"567900\",\"oi\":\"17018100\"},{\"stat\":\"Ok\",\"time\":\"26-07-2024 09:42:00\",\"ssboe\":\"1721967120\",\"into\":\"1212.50\",\"inth\":\"1213.40\",\"intl\":\"1212.50\",\"intc\":\"1213.10\",\"intvwap\":\"1213.14\",\"intv\":\"3600\",\"intoi\":\"28800\",\"v\":\"559800\",\"oi\":\"17018100\"},{\"stat\":\"Ok\",\"time\":\"26-07-2024 09:41:00\",\"ssboe\":\"1721967060\",\"into\":\"1212.65\",\"inth\":\"1214.00\",\"intl\":\"1212.25\",\"intc\":\"1212.25\",\"intvwap\":\"1213.14\",\"intv\":\"23400\",\"intoi\":\"0\",\"v\":\"556200\",\"oi\":\"16989300\"},{\"stat\":\"Ok\",\"time\":\"26-07-2024 09:40:00\",\"ssboe\":\"1721967000\",\"into\":\"1213.50\",\"inth\":\"1214.50\",\"intl\":\"1213.00\",\"intc\":\"1213.00\",\"intvwap\":\"1214.01\",\"intv\":\"28800\",\"intoi\":\"0\",\"v\":\"532800\",\"oi\":\"16989300\"},{\"stat\":\"Ok\",\"time\":\"26-07-2024 09:39:00\",\"ssboe\":\"1721966940\",\"into\":\"1214.40\",\"inth\":\"1214.40\",\"intl\":\"1213.30\",\"intc\":\"1214.35\",\"intvwap\":\"1213.81\",\"intv\":\"32400\",\"intoi\":\"7200\",\"v\":\"504000\",\"oi\":\"16989300\"},{\"stat\":\"Ok\",\"time\":\"26-07-2024 09:38:00\",\"ssboe\":\"1721966880\",\"into\":\"1213.70\",\"inth\":\"1213.70\",\"intl\":\"1212.85\",\"intc\":\"1213.30\",\"intvwap\":\"1213.55\",\"intv\":\"9000\",\"intoi\":\"0\",\"v\":\"471600\",\"oi\":\"16982100\"},{\"stat\":\"Ok\",\"time\":\"26-07-2024 09:37:00\",\"ssboe\":\"1721966820\",\"into\":\"1211.90\",\"inth\":\"1214.00\",\"intl\":\"1211.90\",\"intc\":\"1213.40\",\"intvwap\":\"1213.03\",\"intv\":\"25200\",\"intoi\":\"0\",\"v\":\"462600\",\"oi\":\"16982100\"},{\"stat\":\"Ok\",\"time\":\"26-07-2024 09:36:00\",\"ssboe\":\"1721966760\",\"into\":\"1210.60\",\"inth\":\"1212.00\",\"intl\":\"1210.40\",\"intc\":\"1210.95\",\"intvwap\":\"1211.12\",\"intv\":\"9000\",\"intoi\":\"-1800\",\"v\":\"437400\",\"oi\":\"16982100\"},{\"stat\":\"Ok\",\"time\":\"26-07-2024 09:35:00\",\"ssboe\":\"1721966700\",\"into\":\"1210.90\",\"inth\":\"1211.00\",\"intl\":\"1210.25\",\"intc\":\"1210.75\",\"intvwap\":\"1211.13\",\"intv\":\"10800\",\"intoi\":\"0\",\"v\":\"428400\",\"oi\":\"16983900\"},{\"stat\":\"Ok\",\"time\":\"26-07-2024 09:34:00\",\"ssboe\":\"1721966640\",\"into\":\"1210.80\",\"inth\":\"1211.55\",\"intl\":\"1210.60\",\"intc\":\"1211.55\",\"intvwap\":\"1211.16\",\"intv\":\"6300\",\"intoi\":\"0\",\"v\":\"417600\",\"oi\":\"16983900\"},{\"stat\":\"Ok\",\"time\":\"26-07-2024 09:33:00\",\"ssboe\":\"1721966580\",\"into\":\"1210.95\",\"inth\":\"1211.00\",\"intl\":\"1209.70\",\"intc\":\"1210.20\",\"intvwap\":\"1210.56\",\"intv\":\"15300\",\"intoi\":\"900\",\"v\":\"411300\",\"oi\":\"16983900\"},{\"stat\":\"Ok\",\"time\":\"26-07-2024 09:32:00\",\"ssboe\":\"1721966520\",\"into\":\"1210.00\",\"inth\":\"1210.60\",\"intl\":\"1210.00\",\"intc\":\"1210.60\",\"intvwap\":\"1210.33\",\"intv\":\"2700\",\"intoi\":\"0\",\"v\":\"396000\",\"oi\":\"16983000\"},{\"stat\":\"Ok\",\"time\":\"26-07-2024 09:31:00\",\"ssboe\":\"1721966460\",\"into\":\"1210.30\",\"inth\":\"1210.30\",\"intl\":\"1209.40\",\"intc\":\"1209.85\",\"intvwap\":\"1210.28\",\"intv\":\"9000\",\"intoi\":\"0\",\"v\":\"393300\",\"oi\":\"16983000\"},{\"stat\":\"Ok\",\"time\":\"26-07-2024 09:30:00\",\"ssboe\":\"1721966400\",\"into\":\"1210.00\",\"inth\":\"1210.05\",\"intl\":\"1210.00\",\"intc\":\"1210.00\",\"intvwap\":\"1209.83\",\"intv\":\"5400\",\"intoi\":\"28800\",\"v\":\"384300\",\"oi\":\"16983000\"},{\"stat\":\"Ok\",\"time\":\"26-07-2024 09:29:00\",\"ssboe\":\"1721966340\",\"into\":\"1210.30\",\"inth\":\"1210.85\",\"intl\":\"1210.00\",\"intc\":\"1210.75\",\"intvwap\":\"1210.43\",\"intv\":\"6300\",\"intoi\":\"0\",\"v\":\"378900\",\"oi\":\"16954200\"},{\"stat\":\"Ok\",\"time\":\"26-07-2024 09:28:00\",\"ssboe\":\"1721966280\",\"into\":\"1210.40\",\"inth\":\"1211.00\",\"intl\":\"1209.35\",\"intc\":\"1211.00\",\"intvwap\":\"1210.14\",\"intv\":\"9900\",\"intoi\":\"0\",\"v\":\"372600\",\"oi\":\"16954200\"},{\"stat\":\"Ok\",\"time\":\"26-07-2024 09:27:00\",\"ssboe\":\"1721966220\",\"into\":\"1209.30\",\"inth\":\"1211.45\",\"intl\":\"1209.30\",\"intc\":\"1210.20\",\"intvwap\":\"1210.65\",\"intv\":\"27900\",\"intoi\":\"-900\",\"v\":\"362700\",\"oi\":\"16954200\"},{\"stat\":\"Ok\",\"time\":\"26-07-2024 09:26:00\",\"ssboe\":\"1721966160\",\"into\":\"1209.50\",\"inth\":\"1209.50\",\"intl\":\"1209.00\",\"intc\":\"1209.20\",\"intvwap\":\"1208.63\",\"intv\":\"4500\",\"intoi\":\"0\",\"v\":\"334800\",\"oi\":\"16955100\"},{\"stat\":\"Ok\",\"time\":\"26-07-2024 09:25:00\",\"ssboe\":\"1721966100\",\"into\":\"1210.20\",\"inth\":\"1210.20\",\"intl\":\"1208.10\",\"intc\":\"1209.00\",\"intvwap\":\"1209.13\",\"intv\":\"30600\",\"intoi\":\"0\",\"v\":\"330300\",\"oi\":\"16955100\"},{\"stat\":\"Ok\",\"time\":\"26-07-2024 09:24:00\",\"ssboe\":\"1721966040\",\"into\":\"1213.15\",\"inth\":\"1213.15\",\"intl\":\"1209.45\",\"intc\":\"1209.50\",\"intvwap\":\"1210.83\",\"intv\":\"28800\",\"intoi\":\"9000\",\"v\":\"299700\",\"oi\":\"16955100\"},{\"stat\":\"Ok\",\"time\":\"26-07-2024 09:23:00\",\"ssboe\":\"1721965980\",\"into\":\"1213.00\",\"inth\":\"1213.50\",\"intl\":\"1212.30\",\"intc\":\"1213.50\",\"intvwap\":\"1212.90\",\"intv\":\"14400\",\"intoi\":\"0\",\"v\":\"270900\",\"oi\":\"16946100\"},{\"stat\":\"Ok\",\"time\":\"26-07-2024 09:22:00\",\"ssboe\":\"1721965920\",\"into\":\"1212.80\",\"inth\":\"1212.80\",\"intl\":\"1211.00\",\"intc\":\"1212.30\",\"intvwap\":\"1211.57\",\"intv\":\"25200\",\"intoi\":\"0\",\"v\":\"256500\",\"oi\":\"16946100\"},{\"stat\":\"Ok\",\"time\":\"26-07-2024 09:21:00\",\"ssboe\":\"1721965860\",\"into\":\"1211.40\",\"inth\":\"1213.10\",\"intl\":\"1211.40\",\"intc\":\"1212.85\",\"intvwap\":\"1212.42\",\"intv\":\"14400\",\"intoi\":\"11700\",\"v\":\"231300\",\"oi\":\"16946100\"},{\"stat\":\"Ok\",\"time\":\"26-07-2024 09:20:00\",\"ssboe\":\"1721965800\",\"into\":\"1213.65\",\"inth\":\"1213.65\",\"intl\":\"1212.05\",\"intc\":\"1212.05\",\"intvwap\":\"1213.02\",\"intv\":\"9900\",\"intoi\":\"0\",\"v\":\"216900\",\"oi\":\"16934400\"},{\"stat\":\"Ok\",\"time\":\"26-07-2024 09:19:00\",\"ssboe\":\"1721965740\",\"into\":\"1215.15\",\"inth\":\"1215.85\",\"intl\":\"1213.55\",\"intc\":\"1214.15\",\"intvwap\":\"1214.67\",\"intv\":\"19800\",\"intoi\":\"0\",\"v\":\"207000\",\"oi\":\"16934400\"},{\"stat\":\"Ok\",\"time\":\"26-07-2024 09:18:00\",\"ssboe\":\"1721965680\",\"into\":\"1216.00\",\"inth\":\"1217.15\",\"intl\":\"1214.60\",\"intc\":\"1216.55\",\"intvwap\":\"1215.77\",\"intv\":\"29700\",\"intoi\":\"9000\",\"v\":\"187200\",\"oi\":\"16934400\"},{\"stat\":\"Ok\",\"time\":\"26-07-2024 09:17:00\",\"ssboe\":\"1721965620\",\"into\":\"1217.50\",\"inth\":\"1217.80\",\"intl\":\"1215.00\",\"intc\":\"1216.05\",\"intvwap\":\"1216.61\",\"intv\":\"33300\",\"intoi\":\"0\",\"v\":\"157500\",\"oi\":\"16925400\"},{\"stat\":\"Ok\",\"time\":\"26-07-2024 09:16:00\",\"ssboe\":\"1721965560\",\"into\":\"1216.20\",\"inth\":\"1218.30\",\"intl\":\"1216.20\",\"intc\":\"1217.70\",\"intvwap\":\"1217.18\",\"intv\":\"46800\",\"intoi\":\"0\",\"v\":\"124200\",\"oi\":\"16925400\"},{\"stat\":\"Ok\",\"time\":\"26-07-2024 09:15:00\",\"ssboe\":\"1721965500\",\"into\":\"1210.95\",\"inth\":\"1216.90\",\"intl\":\"1210.95\",\"intc\":\"1216.00\",\"intvwap\":\"1213.92\",\"intv\":\"77400\",\"intoi\":\"16925400\",\"v\":\"77400\",\"oi\":\"16925400\"}]\n"
     ]
    }
   ],
   "source": [
    "\n",
    "\n",
    "#print(df)  "
   ]
  },
  {
   "cell_type": "code",
   "execution_count": 78,
   "metadata": {},
   "outputs": [
    {
     "data": {
      "text/plain": [
       "7929"
      ]
     },
     "execution_count": 78,
     "metadata": {},
     "output_type": "execute_result"
    }
   ],
   "source": [
    "int(asd)"
   ]
  },
  {
   "cell_type": "code",
   "execution_count": null,
   "metadata": {},
   "outputs": [],
   "source": []
  }
 ],
 "metadata": {
  "kernelspec": {
   "display_name": "FnO_Stocks_Intraday_data-8iMuNrlZ",
   "language": "python",
   "name": "python3"
  },
  "language_info": {
   "codemirror_mode": {
    "name": "ipython",
    "version": 3
   },
   "file_extension": ".py",
   "mimetype": "text/x-python",
   "name": "python",
   "nbconvert_exporter": "python",
   "pygments_lexer": "ipython3",
   "version": "3.12.4"
  }
 },
 "nbformat": 4,
 "nbformat_minor": 2
}
