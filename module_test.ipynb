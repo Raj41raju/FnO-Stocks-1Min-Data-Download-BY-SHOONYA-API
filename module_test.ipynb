{
 "cells": [
  {
   "cell_type": "code",
   "execution_count": null,
   "metadata": {},
   "outputs": [],
   "source": [
    "\n",
    "import pandas as pd\n",
    "from datetime import date\n",
    "import os\n",
    "import requests\n",
    "import time\n",
    "import zipfile36 as zipfile\n",
    "import warnings\n",
    "warnings.filterwarnings('ignore')\n",
    "# import modules\n",
    "from modules import token_download, ShoonyaApiLogin, get_time, add_token_info\n",
    "\n",
    "# Get the current local time as a struct_time object\n",
    "local_time = time.localtime()\n",
    "# Format the current date as a string\n",
    "current_date = time.strftime('%Y-%m-%d', local_time)\n",
    "\n",
    "#Function call to download token file and save it to saperate directory mention in path\n",
    "# path = f\"E:\\\\FnO_Stocks_Intraday_data\\\\token_old\\\\{current_date}\"\n",
    "path = f\"C:\\\\Finvasia_API_Code\\\\Token_intraday\\\\{current_date}\"\n",
    "#C:\\\\Finvasia_API_Code\\\\Token_intraday\n",
    "token_download(path)\n",
    "\n",
    "#login the API\n",
    "api = ShoonyaApiLogin(token = '57DF444TKFWU347YY55N44IRGMALZXA2',\n",
    "    user    = 'FA25376',\n",
    "    pwd     = \"Raj@41raju88\",\n",
    "    vc      = 'FA25376_U',\n",
    "    app_key = '7f0dca9da87909a1bc35373f68162d42'\n",
    ")"
   ]
  },
  {
   "cell_type": "code",
   "execution_count": null,
   "metadata": {},
   "outputs": [],
   "source": []
  },
  {
   "cell_type": "code",
   "execution_count": null,
   "metadata": {},
   "outputs": [],
   "source": []
  },
  {
   "cell_type": "code",
   "execution_count": null,
   "metadata": {},
   "outputs": [],
   "source": []
  },
  {
   "cell_type": "code",
   "execution_count": null,
   "metadata": {},
   "outputs": [],
   "source": []
  },
  {
   "cell_type": "code",
   "execution_count": null,
   "metadata": {},
   "outputs": [],
   "source": []
  }
 ],
 "metadata": {
  "kernelspec": {
   "display_name": "Finvasia_API_Code",
   "language": "python",
   "name": "python3"
  },
  "language_info": {
   "name": "python",
   "version": "3.12.4"
  }
 },
 "nbformat": 4,
 "nbformat_minor": 2
}
